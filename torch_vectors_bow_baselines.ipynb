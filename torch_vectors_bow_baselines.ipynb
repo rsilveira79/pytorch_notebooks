{
 "cells": [
  {
   "cell_type": "markdown",
   "metadata": {},
   "source": [
    "## Steps for the LSTM Classifier:\n",
    "1. Build Vector loader in PyTorch (word2vec, GloVe, Fasttext)\n",
    "2. Convert sentence (concatenate, other methods?) into embeddings\n",
    "3. Build simple LSTM classifier and make it train\n",
    "4. Evaluate results (accuracy, log_loss)"
   ]
  },
  {
   "cell_type": "code",
   "execution_count": 1,
   "metadata": {},
   "outputs": [
    {
     "name": "stderr",
     "output_type": "stream",
     "text": [
      "Using TensorFlow backend.\n",
      "/Users/rsilvei/Envs/nlp/lib/python3.6/importlib/_bootstrap.py:219: RuntimeWarning: compiletime version 3.5 of module 'tensorflow.python.framework.fast_tensor_util' does not match runtime version 3.6\n",
      "  return f(*args, **kwds)\n"
     ]
    },
    {
     "name": "stdout",
     "output_type": "stream",
     "text": [
      "[nltk_data] Downloading package stopwords to\n",
      "[nltk_data]     /Users/rsilvei/nltk_data...\n",
      "[nltk_data]   Package stopwords is already up-to-date!\n"
     ]
    },
    {
     "data": {
      "text/plain": [
       "True"
      ]
     },
     "execution_count": 1,
     "metadata": {},
     "output_type": "execute_result"
    }
   ],
   "source": [
    "import numpy as np\n",
    "import pandas as pd\n",
    "\n",
    "## Torch imports\n",
    "import torch\n",
    "from torch.autograd import Variable\n",
    "import torch.nn as nn\n",
    "import torch.nn.functional as F\n",
    "import torch.optim as optim\n",
    "\n",
    "## Sklearn imports\n",
    "from sklearn import preprocessing\n",
    "from sklearn.model_selection import train_test_split\n",
    "from sklearn.feature_extraction.text import TfidfVectorizer, CountVectorizer\n",
    "from sklearn.linear_model import SGDClassifier\n",
    "from sklearn.metrics import accuracy_score, log_loss\n",
    "\n",
    "# NLP libs imports\n",
    "from nltk import download\n",
    "from nltk.corpus import stopwords\n",
    "import re\n",
    "import gensim\n",
    "\n",
    "from pathlib import Path\n",
    "import pickle\n",
    "download('stopwords')"
   ]
  },
  {
   "cell_type": "code",
   "execution_count": 2,
   "metadata": {},
   "outputs": [
    {
     "data": {
      "text/plain": [
       "<torch._C.Generator at 0x104109c90>"
      ]
     },
     "execution_count": 2,
     "metadata": {},
     "output_type": "execute_result"
    }
   ],
   "source": [
    "torch.manual_seed(11)"
   ]
  },
  {
   "cell_type": "code",
   "execution_count": 3,
   "metadata": {},
   "outputs": [
    {
     "name": "stdout",
     "output_type": "stream",
     "text": [
      "Train size: 721\n"
     ]
    },
    {
     "data": {
      "text/html": [
       "<div>\n",
       "<style>\n",
       "    .dataframe thead tr:only-child th {\n",
       "        text-align: right;\n",
       "    }\n",
       "\n",
       "    .dataframe thead th {\n",
       "        text-align: left;\n",
       "    }\n",
       "\n",
       "    .dataframe tbody tr th {\n",
       "        vertical-align: top;\n",
       "    }\n",
       "</style>\n",
       "<table border=\"1\" class=\"dataframe\">\n",
       "  <thead>\n",
       "    <tr style=\"text-align: right;\">\n",
       "      <th></th>\n",
       "      <th>usersays</th>\n",
       "      <th>intent</th>\n",
       "    </tr>\n",
       "  </thead>\n",
       "  <tbody>\n",
       "    <tr>\n",
       "      <th>716</th>\n",
       "      <td>Martha smokes</td>\n",
       "      <td>workerTobaccoUsageStatus.update</td>\n",
       "    </tr>\n",
       "    <tr>\n",
       "      <th>717</th>\n",
       "      <td>Bill start using tobacco</td>\n",
       "      <td>workerTobaccoUsageStatus.update</td>\n",
       "    </tr>\n",
       "    <tr>\n",
       "      <th>718</th>\n",
       "      <td>Margarite start smoking</td>\n",
       "      <td>workerTobaccoUsageStatus.update</td>\n",
       "    </tr>\n",
       "    <tr>\n",
       "      <th>719</th>\n",
       "      <td>Employee quit smoking</td>\n",
       "      <td>workerTobaccoUsageStatus.update</td>\n",
       "    </tr>\n",
       "    <tr>\n",
       "      <th>720</th>\n",
       "      <td>Chase quit smoking</td>\n",
       "      <td>workerTobaccoUsageStatus.update</td>\n",
       "    </tr>\n",
       "  </tbody>\n",
       "</table>\n",
       "</div>"
      ],
      "text/plain": [
       "                     usersays                           intent\n",
       "716             Martha smokes  workerTobaccoUsageStatus.update\n",
       "717  Bill start using tobacco  workerTobaccoUsageStatus.update\n",
       "718   Margarite start smoking  workerTobaccoUsageStatus.update\n",
       "719     Employee quit smoking  workerTobaccoUsageStatus.update\n",
       "720        Chase quit smoking  workerTobaccoUsageStatus.update"
      ]
     },
     "execution_count": 3,
     "metadata": {},
     "output_type": "execute_result"
    }
   ],
   "source": [
    "train = pd.read_csv('../datasets/train_apiai_8.csv', delimiter=\";\")\n",
    "print(\"Train size: {}\".format(len(train)))\n",
    "train.tail()"
   ]
  },
  {
   "cell_type": "code",
   "execution_count": 4,
   "metadata": {},
   "outputs": [
    {
     "name": "stdout",
     "output_type": "stream",
     "text": [
      "Train size: 710\n"
     ]
    }
   ],
   "source": [
    "## Filtering out useless classes\n",
    "train = train[train['intent']!='init.greetings']\n",
    "train = train[train['intent']!='Default Welcome Intent']\n",
    "print(\"Train size: {}\".format(len(train)))"
   ]
  },
  {
   "cell_type": "code",
   "execution_count": 5,
   "metadata": {},
   "outputs": [
    {
     "data": {
      "text/html": [
       "<div>\n",
       "<style>\n",
       "    .dataframe thead tr:only-child th {\n",
       "        text-align: right;\n",
       "    }\n",
       "\n",
       "    .dataframe thead th {\n",
       "        text-align: left;\n",
       "    }\n",
       "\n",
       "    .dataframe tbody tr th {\n",
       "        vertical-align: top;\n",
       "    }\n",
       "</style>\n",
       "<table border=\"1\" class=\"dataframe\">\n",
       "  <thead>\n",
       "    <tr style=\"text-align: right;\">\n",
       "      <th></th>\n",
       "      <th>usersays</th>\n",
       "      <th>intent</th>\n",
       "    </tr>\n",
       "  </thead>\n",
       "  <tbody>\n",
       "    <tr>\n",
       "      <th>567</th>\n",
       "      <td>change my mobile phone number</td>\n",
       "      <td>personPersonalPhoneNumber.update</td>\n",
       "    </tr>\n",
       "    <tr>\n",
       "      <th>568</th>\n",
       "      <td>update mobile number</td>\n",
       "      <td>personPersonalPhoneNumber.update</td>\n",
       "    </tr>\n",
       "    <tr>\n",
       "      <th>569</th>\n",
       "      <td>modify number</td>\n",
       "      <td>personPersonalPhoneNumber.update</td>\n",
       "    </tr>\n",
       "    <tr>\n",
       "      <th>570</th>\n",
       "      <td>adjust phone</td>\n",
       "      <td>personPersonalPhoneNumber.update</td>\n",
       "    </tr>\n",
       "    <tr>\n",
       "      <th>571</th>\n",
       "      <td>change phone</td>\n",
       "      <td>personPersonalPhoneNumber.update</td>\n",
       "    </tr>\n",
       "    <tr>\n",
       "      <th>572</th>\n",
       "      <td>update number</td>\n",
       "      <td>personPersonalPhoneNumber.update</td>\n",
       "    </tr>\n",
       "    <tr>\n",
       "      <th>573</th>\n",
       "      <td>update phone</td>\n",
       "      <td>personPersonalPhoneNumber.update</td>\n",
       "    </tr>\n",
       "    <tr>\n",
       "      <th>574</th>\n",
       "      <td>update my phone</td>\n",
       "      <td>personPersonalPhoneNumber.update</td>\n",
       "    </tr>\n",
       "    <tr>\n",
       "      <th>575</th>\n",
       "      <td>Update my phone</td>\n",
       "      <td>personPersonalPhoneNumber.update</td>\n",
       "    </tr>\n",
       "    <tr>\n",
       "      <th>576</th>\n",
       "      <td>Change personal phone</td>\n",
       "      <td>personPersonalPhoneNumber.update</td>\n",
       "    </tr>\n",
       "    <tr>\n",
       "      <th>577</th>\n",
       "      <td>Change my personal phone number</td>\n",
       "      <td>personPersonalPhoneNumber.update</td>\n",
       "    </tr>\n",
       "    <tr>\n",
       "      <th>578</th>\n",
       "      <td>Update my personal phone number</td>\n",
       "      <td>personPersonalPhoneNumber.update</td>\n",
       "    </tr>\n",
       "    <tr>\n",
       "      <th>579</th>\n",
       "      <td>change my phone</td>\n",
       "      <td>personPersonalPhoneNumber.update</td>\n",
       "    </tr>\n",
       "    <tr>\n",
       "      <th>580</th>\n",
       "      <td>I need to have my personal phone number changed</td>\n",
       "      <td>personPersonalPhoneNumber.update</td>\n",
       "    </tr>\n",
       "    <tr>\n",
       "      <th>581</th>\n",
       "      <td>Please adjust personal phone number</td>\n",
       "      <td>personPersonalPhoneNumber.update</td>\n",
       "    </tr>\n",
       "    <tr>\n",
       "      <th>582</th>\n",
       "      <td>Updt phone number personal</td>\n",
       "      <td>personPersonalPhoneNumber.update</td>\n",
       "    </tr>\n",
       "    <tr>\n",
       "      <th>583</th>\n",
       "      <td>Can you please update personal phone number</td>\n",
       "      <td>personPersonalPhoneNumber.update</td>\n",
       "    </tr>\n",
       "    <tr>\n",
       "      <th>584</th>\n",
       "      <td>Modify personal phone number</td>\n",
       "      <td>personPersonalPhoneNumber.update</td>\n",
       "    </tr>\n",
       "  </tbody>\n",
       "</table>\n",
       "</div>"
      ],
      "text/plain": [
       "                                            usersays  \\\n",
       "567                    change my mobile phone number   \n",
       "568                             update mobile number   \n",
       "569                                    modify number   \n",
       "570                                     adjust phone   \n",
       "571                                     change phone   \n",
       "572                                    update number   \n",
       "573                                     update phone   \n",
       "574                                  update my phone   \n",
       "575                                  Update my phone   \n",
       "576                            Change personal phone   \n",
       "577                  Change my personal phone number   \n",
       "578                  Update my personal phone number   \n",
       "579                                  change my phone   \n",
       "580  I need to have my personal phone number changed   \n",
       "581              Please adjust personal phone number   \n",
       "582                       Updt phone number personal   \n",
       "583      Can you please update personal phone number   \n",
       "584                     Modify personal phone number   \n",
       "\n",
       "                               intent  \n",
       "567  personPersonalPhoneNumber.update  \n",
       "568  personPersonalPhoneNumber.update  \n",
       "569  personPersonalPhoneNumber.update  \n",
       "570  personPersonalPhoneNumber.update  \n",
       "571  personPersonalPhoneNumber.update  \n",
       "572  personPersonalPhoneNumber.update  \n",
       "573  personPersonalPhoneNumber.update  \n",
       "574  personPersonalPhoneNumber.update  \n",
       "575  personPersonalPhoneNumber.update  \n",
       "576  personPersonalPhoneNumber.update  \n",
       "577  personPersonalPhoneNumber.update  \n",
       "578  personPersonalPhoneNumber.update  \n",
       "579  personPersonalPhoneNumber.update  \n",
       "580  personPersonalPhoneNumber.update  \n",
       "581  personPersonalPhoneNumber.update  \n",
       "582  personPersonalPhoneNumber.update  \n",
       "583  personPersonalPhoneNumber.update  \n",
       "584  personPersonalPhoneNumber.update  "
      ]
     },
     "execution_count": 5,
     "metadata": {},
     "output_type": "execute_result"
    }
   ],
   "source": [
    "train[train['intent']=='personPersonalPhoneNumber.update']"
   ]
  },
  {
   "cell_type": "code",
   "execution_count": 6,
   "metadata": {},
   "outputs": [
    {
     "name": "stdout",
     "output_type": "stream",
     "text": [
      "72\n"
     ]
    }
   ],
   "source": [
    "print(len(np.unique(train['intent'])))"
   ]
  },
  {
   "cell_type": "code",
   "execution_count": 7,
   "metadata": {},
   "outputs": [],
   "source": [
    "def transformText(text, do_stop=False, do_stem=False):\n",
    "    \n",
    "    stops = set(stopwords.words(\"english\"))\n",
    "    \n",
    "    # Convert text to lower\n",
    "    text = text.lower()\n",
    "    \n",
    "    # Removing non ASCII chars    \n",
    "    text = re.sub(r'[^\\x00-\\x7f]',r' ',text)\n",
    "    \n",
    "    # Strip multiple whitespaces\n",
    "    text = gensim.corpora.textcorpus.strip_multiple_whitespaces(text)\n",
    "    \n",
    "    # Removing all the stopwords\n",
    "    \n",
    "    if (do_stop==True):\n",
    "        filtered_words = [word for word in text.split() if word not in stops]\n",
    "    else:\n",
    "        filtered_words = [word for word in text.split()]\n",
    "\n",
    "    # Removing all the tokens with lesser than 3 characters\n",
    "    filtered_words = gensim.corpora.textcorpus.remove_short(filtered_words, minsize=3)\n",
    "    \n",
    "    # Preprocessed text after stop words removal\n",
    "    text = \" \".join(filtered_words)\n",
    "    \n",
    "    # Remove the punctuation\n",
    "    text = gensim.parsing.preprocessing.strip_punctuation2(text)\n",
    "    \n",
    "    # Strip all the numerics\n",
    "    text = gensim.parsing.preprocessing.strip_numeric(text)\n",
    "    \n",
    "    # Strip multiple whitespaces\n",
    "    text = gensim.corpora.textcorpus.strip_multiple_whitespaces(text)\n",
    "    \n",
    "    if (do_stem==True):\n",
    "        # Stemming\n",
    "        text = gensim.parsing.preprocessing.stem_text(text)\n",
    "    return text"
   ]
  },
  {
   "cell_type": "code",
   "execution_count": 8,
   "metadata": {},
   "outputs": [
    {
     "data": {
      "text/plain": [
       "usersays                 change LGBT status\n",
       "intent                    personLGBT.update\n",
       "usersays_preprocessed      chang lgbt statu\n",
       "Name: 538, dtype: object"
      ]
     },
     "execution_count": 8,
     "metadata": {},
     "output_type": "execute_result"
    }
   ],
   "source": [
    "train['usersays_preprocessed']=train['usersays'].apply(lambda x: transformText(x,do_stop=False,do_stem=True))\n",
    "train.loc[538]"
   ]
  },
  {
   "cell_type": "code",
   "execution_count": 9,
   "metadata": {},
   "outputs": [],
   "source": [
    "x_test_1 = pd.read_csv('../datasets/test_intents_1.csv', delimiter=\";\")\n",
    "x_test_1 = x_test_1.drop(['EventName', 'Result','Feedback','silveira_v2','error','Intent accuracy', '0.9615384615'], axis=1)\n",
    "x_test_1=x_test_1.rename(columns={\"Intents\": \"usersays\"},)"
   ]
  },
  {
   "cell_type": "code",
   "execution_count": 10,
   "metadata": {},
   "outputs": [
    {
     "data": {
      "text/html": [
       "<div>\n",
       "<style>\n",
       "    .dataframe thead tr:only-child th {\n",
       "        text-align: right;\n",
       "    }\n",
       "\n",
       "    .dataframe thead th {\n",
       "        text-align: left;\n",
       "    }\n",
       "\n",
       "    .dataframe tbody tr th {\n",
       "        vertical-align: top;\n",
       "    }\n",
       "</style>\n",
       "<table border=\"1\" class=\"dataframe\">\n",
       "  <thead>\n",
       "    <tr style=\"text-align: right;\">\n",
       "      <th></th>\n",
       "      <th>usersays</th>\n",
       "      <th>intent</th>\n",
       "    </tr>\n",
       "  </thead>\n",
       "  <tbody>\n",
       "    <tr>\n",
       "      <th>67</th>\n",
       "      <td>Update Phone numbers</td>\n",
       "      <td>personPersonalPhoneNumber.update</td>\n",
       "    </tr>\n",
       "    <tr>\n",
       "      <th>68</th>\n",
       "      <td>Modify cell</td>\n",
       "      <td>personPersonalPhoneNumber.update</td>\n",
       "    </tr>\n",
       "    <tr>\n",
       "      <th>69</th>\n",
       "      <td>modify cellphone</td>\n",
       "      <td>personPersonalPhoneNumber.update</td>\n",
       "    </tr>\n",
       "    <tr>\n",
       "      <th>70</th>\n",
       "      <td>modify cell phone number</td>\n",
       "      <td>personPersonalPhoneNumber.update</td>\n",
       "    </tr>\n",
       "    <tr>\n",
       "      <th>71</th>\n",
       "      <td>Update</td>\n",
       "      <td>personPersonalPhoneNumber.update</td>\n",
       "    </tr>\n",
       "  </tbody>\n",
       "</table>\n",
       "</div>"
      ],
      "text/plain": [
       "                    usersays                            intent\n",
       "67     Update Phone numbers   personPersonalPhoneNumber.update\n",
       "68               Modify cell  personPersonalPhoneNumber.update\n",
       "69          modify cellphone  personPersonalPhoneNumber.update\n",
       "70  modify cell phone number  personPersonalPhoneNumber.update\n",
       "71                    Update  personPersonalPhoneNumber.update"
      ]
     },
     "execution_count": 10,
     "metadata": {},
     "output_type": "execute_result"
    }
   ],
   "source": [
    "x_test_1['intent']=\"personPersonalPhoneNumber.update\"\n",
    "x_test_1.tail()"
   ]
  },
  {
   "cell_type": "code",
   "execution_count": 11,
   "metadata": {},
   "outputs": [
    {
     "data": {
      "text/html": [
       "<div>\n",
       "<style>\n",
       "    .dataframe thead tr:only-child th {\n",
       "        text-align: right;\n",
       "    }\n",
       "\n",
       "    .dataframe thead th {\n",
       "        text-align: left;\n",
       "    }\n",
       "\n",
       "    .dataframe tbody tr th {\n",
       "        vertical-align: top;\n",
       "    }\n",
       "</style>\n",
       "<table border=\"1\" class=\"dataframe\">\n",
       "  <thead>\n",
       "    <tr style=\"text-align: right;\">\n",
       "      <th></th>\n",
       "      <th>usersays</th>\n",
       "      <th>intent</th>\n",
       "    </tr>\n",
       "  </thead>\n",
       "  <tbody>\n",
       "    <tr>\n",
       "      <th>185</th>\n",
       "      <td>bulk job requisitions</td>\n",
       "      <td>volumeJobRequisition.add</td>\n",
       "    </tr>\n",
       "    <tr>\n",
       "      <th>186</th>\n",
       "      <td>5 job requisitions</td>\n",
       "      <td>volumeJobRequisition.add</td>\n",
       "    </tr>\n",
       "    <tr>\n",
       "      <th>187</th>\n",
       "      <td>adjust date birth for Bruno</td>\n",
       "      <td>workerBirthInformation.update</td>\n",
       "    </tr>\n",
       "    <tr>\n",
       "      <th>188</th>\n",
       "      <td>correct employee birthdate</td>\n",
       "      <td>workerBirthInformation.update</td>\n",
       "    </tr>\n",
       "    <tr>\n",
       "      <th>189</th>\n",
       "      <td>correct Roberto DOB</td>\n",
       "      <td>workerBirthInformation.update</td>\n",
       "    </tr>\n",
       "  </tbody>\n",
       "</table>\n",
       "</div>"
      ],
      "text/plain": [
       "                        usersays                         intent\n",
       "185        bulk job requisitions       volumeJobRequisition.add\n",
       "186           5 job requisitions       volumeJobRequisition.add\n",
       "187  adjust date birth for Bruno  workerBirthInformation.update\n",
       "188   correct employee birthdate  workerBirthInformation.update\n",
       "189          correct Roberto DOB  workerBirthInformation.update"
      ]
     },
     "execution_count": 11,
     "metadata": {},
     "output_type": "execute_result"
    }
   ],
   "source": [
    "x_test = pd.read_csv('../datasets/test_apiai_6_test.csv', delimiter=\";\")\n",
    "x_test.tail()"
   ]
  },
  {
   "cell_type": "code",
   "execution_count": 12,
   "metadata": {},
   "outputs": [
    {
     "data": {
      "text/html": [
       "<div>\n",
       "<style>\n",
       "    .dataframe thead tr:only-child th {\n",
       "        text-align: right;\n",
       "    }\n",
       "\n",
       "    .dataframe thead th {\n",
       "        text-align: left;\n",
       "    }\n",
       "\n",
       "    .dataframe tbody tr th {\n",
       "        vertical-align: top;\n",
       "    }\n",
       "</style>\n",
       "<table border=\"1\" class=\"dataframe\">\n",
       "  <thead>\n",
       "    <tr style=\"text-align: right;\">\n",
       "      <th></th>\n",
       "      <th>usersays</th>\n",
       "      <th>intent</th>\n",
       "    </tr>\n",
       "  </thead>\n",
       "  <tbody>\n",
       "    <tr>\n",
       "      <th>67</th>\n",
       "      <td>Update Phone numbers</td>\n",
       "      <td>personPersonalPhoneNumber.update</td>\n",
       "    </tr>\n",
       "    <tr>\n",
       "      <th>68</th>\n",
       "      <td>Modify cell</td>\n",
       "      <td>personPersonalPhoneNumber.update</td>\n",
       "    </tr>\n",
       "    <tr>\n",
       "      <th>69</th>\n",
       "      <td>modify cellphone</td>\n",
       "      <td>personPersonalPhoneNumber.update</td>\n",
       "    </tr>\n",
       "    <tr>\n",
       "      <th>70</th>\n",
       "      <td>modify cell phone number</td>\n",
       "      <td>personPersonalPhoneNumber.update</td>\n",
       "    </tr>\n",
       "    <tr>\n",
       "      <th>71</th>\n",
       "      <td>Update</td>\n",
       "      <td>personPersonalPhoneNumber.update</td>\n",
       "    </tr>\n",
       "  </tbody>\n",
       "</table>\n",
       "</div>"
      ],
      "text/plain": [
       "                    usersays                            intent\n",
       "67     Update Phone numbers   personPersonalPhoneNumber.update\n",
       "68               Modify cell  personPersonalPhoneNumber.update\n",
       "69          modify cellphone  personPersonalPhoneNumber.update\n",
       "70  modify cell phone number  personPersonalPhoneNumber.update\n",
       "71                    Update  personPersonalPhoneNumber.update"
      ]
     },
     "execution_count": 12,
     "metadata": {},
     "output_type": "execute_result"
    }
   ],
   "source": [
    "x_test_1.tail()"
   ]
  },
  {
   "cell_type": "code",
   "execution_count": 13,
   "metadata": {},
   "outputs": [
    {
     "data": {
      "text/html": [
       "<div>\n",
       "<style>\n",
       "    .dataframe thead tr:only-child th {\n",
       "        text-align: right;\n",
       "    }\n",
       "\n",
       "    .dataframe thead th {\n",
       "        text-align: left;\n",
       "    }\n",
       "\n",
       "    .dataframe tbody tr th {\n",
       "        vertical-align: top;\n",
       "    }\n",
       "</style>\n",
       "<table border=\"1\" class=\"dataframe\">\n",
       "  <thead>\n",
       "    <tr style=\"text-align: right;\">\n",
       "      <th></th>\n",
       "      <th>usersays</th>\n",
       "      <th>intent</th>\n",
       "    </tr>\n",
       "  </thead>\n",
       "  <tbody>\n",
       "    <tr>\n",
       "      <th>0</th>\n",
       "      <td>Update phone number</td>\n",
       "      <td>personPersonalPhoneNumber.update</td>\n",
       "    </tr>\n",
       "    <tr>\n",
       "      <th>1</th>\n",
       "      <td>Update phone</td>\n",
       "      <td>personPersonalPhoneNumber.update</td>\n",
       "    </tr>\n",
       "    <tr>\n",
       "      <th>2</th>\n",
       "      <td>Update phone personal</td>\n",
       "      <td>personPersonalPhoneNumber.update</td>\n",
       "    </tr>\n",
       "    <tr>\n",
       "      <th>3</th>\n",
       "      <td>Update mobile</td>\n",
       "      <td>personPersonalPhoneNumber.update</td>\n",
       "    </tr>\n",
       "    <tr>\n",
       "      <th>4</th>\n",
       "      <td>Update mobile number</td>\n",
       "      <td>personPersonalPhoneNumber.update</td>\n",
       "    </tr>\n",
       "    <tr>\n",
       "      <th>5</th>\n",
       "      <td>Update Phones</td>\n",
       "      <td>personPersonalPhoneNumber.update</td>\n",
       "    </tr>\n",
       "    <tr>\n",
       "      <th>6</th>\n",
       "      <td>Update my personal number</td>\n",
       "      <td>personPersonalPhoneNumber.update</td>\n",
       "    </tr>\n",
       "    <tr>\n",
       "      <th>7</th>\n",
       "      <td>Update cell phone number</td>\n",
       "      <td>personPersonalPhoneNumber.update</td>\n",
       "    </tr>\n",
       "    <tr>\n",
       "      <th>8</th>\n",
       "      <td>Update cell</td>\n",
       "      <td>personPersonalPhoneNumber.update</td>\n",
       "    </tr>\n",
       "    <tr>\n",
       "      <th>9</th>\n",
       "      <td>Update my cell phone number</td>\n",
       "      <td>personPersonalPhoneNumber.update</td>\n",
       "    </tr>\n",
       "    <tr>\n",
       "      <th>10</th>\n",
       "      <td>Update personalNumber</td>\n",
       "      <td>personPersonalPhoneNumber.update</td>\n",
       "    </tr>\n",
       "    <tr>\n",
       "      <th>11</th>\n",
       "      <td>Update Phone my personal</td>\n",
       "      <td>personPersonalPhoneNumber.update</td>\n",
       "    </tr>\n",
       "    <tr>\n",
       "      <th>12</th>\n",
       "      <td>my personal phone number update</td>\n",
       "      <td>personPersonalPhoneNumber.update</td>\n",
       "    </tr>\n",
       "    <tr>\n",
       "      <th>13</th>\n",
       "      <td>my phone update</td>\n",
       "      <td>personPersonalPhoneNumber.update</td>\n",
       "    </tr>\n",
       "    <tr>\n",
       "      <th>14</th>\n",
       "      <td>my latest phone number update</td>\n",
       "      <td>personPersonalPhoneNumber.update</td>\n",
       "    </tr>\n",
       "    <tr>\n",
       "      <th>15</th>\n",
       "      <td>my cellular update</td>\n",
       "      <td>personPersonalPhoneNumber.update</td>\n",
       "    </tr>\n",
       "    <tr>\n",
       "      <th>16</th>\n",
       "      <td>My latest Mobile Number Updates</td>\n",
       "      <td>personPersonalPhoneNumber.update</td>\n",
       "    </tr>\n",
       "    <tr>\n",
       "      <th>17</th>\n",
       "      <td>My latest Mobile Phone Number Update</td>\n",
       "      <td>personPersonalPhoneNumber.update</td>\n",
       "    </tr>\n",
       "    <tr>\n",
       "      <th>18</th>\n",
       "      <td>Do update my mobile number</td>\n",
       "      <td>personPersonalPhoneNumber.update</td>\n",
       "    </tr>\n",
       "    <tr>\n",
       "      <th>19</th>\n",
       "      <td>Do update my mobile</td>\n",
       "      <td>personPersonalPhoneNumber.update</td>\n",
       "    </tr>\n",
       "    <tr>\n",
       "      <th>20</th>\n",
       "      <td>need to update my mobile number</td>\n",
       "      <td>personPersonalPhoneNumber.update</td>\n",
       "    </tr>\n",
       "    <tr>\n",
       "      <th>21</th>\n",
       "      <td>need to update my mobile number now</td>\n",
       "      <td>personPersonalPhoneNumber.update</td>\n",
       "    </tr>\n",
       "    <tr>\n",
       "      <th>22</th>\n",
       "      <td>Change my mobile</td>\n",
       "      <td>personPersonalPhoneNumber.update</td>\n",
       "    </tr>\n",
       "    <tr>\n",
       "      <th>23</th>\n",
       "      <td>Change my phone number</td>\n",
       "      <td>personPersonalPhoneNumber.update</td>\n",
       "    </tr>\n",
       "    <tr>\n",
       "      <th>24</th>\n",
       "      <td>please update my mobile number</td>\n",
       "      <td>personPersonalPhoneNumber.update</td>\n",
       "    </tr>\n",
       "    <tr>\n",
       "      <th>25</th>\n",
       "      <td>how to change my mobile number</td>\n",
       "      <td>personPersonalPhoneNumber.update</td>\n",
       "    </tr>\n",
       "    <tr>\n",
       "      <th>26</th>\n",
       "      <td>trying to update my mobile number</td>\n",
       "      <td>personPersonalPhoneNumber.update</td>\n",
       "    </tr>\n",
       "    <tr>\n",
       "      <th>27</th>\n",
       "      <td>I want to update my personal mobile number</td>\n",
       "      <td>personPersonalPhoneNumber.update</td>\n",
       "    </tr>\n",
       "    <tr>\n",
       "      <th>28</th>\n",
       "      <td>I want to change my mobile number</td>\n",
       "      <td>personPersonalPhoneNumber.update</td>\n",
       "    </tr>\n",
       "    <tr>\n",
       "      <th>29</th>\n",
       "      <td>can i change my phone number</td>\n",
       "      <td>personPersonalPhoneNumber.update</td>\n",
       "    </tr>\n",
       "    <tr>\n",
       "      <th>...</th>\n",
       "      <td>...</td>\n",
       "      <td>...</td>\n",
       "    </tr>\n",
       "    <tr>\n",
       "      <th>42</th>\n",
       "      <td>hey change my mobile number</td>\n",
       "      <td>personPersonalPhoneNumber.update</td>\n",
       "    </tr>\n",
       "    <tr>\n",
       "      <th>43</th>\n",
       "      <td>I want know how to change mobile number</td>\n",
       "      <td>personPersonalPhoneNumber.update</td>\n",
       "    </tr>\n",
       "    <tr>\n",
       "      <th>44</th>\n",
       "      <td>I wanna change my mobile</td>\n",
       "      <td>personPersonalPhoneNumber.update</td>\n",
       "    </tr>\n",
       "    <tr>\n",
       "      <th>45</th>\n",
       "      <td>just change my mobile number</td>\n",
       "      <td>personPersonalPhoneNumber.update</td>\n",
       "    </tr>\n",
       "    <tr>\n",
       "      <th>46</th>\n",
       "      <td>Request to change my mobile number</td>\n",
       "      <td>personPersonalPhoneNumber.update</td>\n",
       "    </tr>\n",
       "    <tr>\n",
       "      <th>47</th>\n",
       "      <td>Request to change my phone number</td>\n",
       "      <td>personPersonalPhoneNumber.update</td>\n",
       "    </tr>\n",
       "    <tr>\n",
       "      <th>48</th>\n",
       "      <td>Request to change my mobile</td>\n",
       "      <td>personPersonalPhoneNumber.update</td>\n",
       "    </tr>\n",
       "    <tr>\n",
       "      <th>49</th>\n",
       "      <td>Request to change my phone.</td>\n",
       "      <td>personPersonalPhoneNumber.update</td>\n",
       "    </tr>\n",
       "    <tr>\n",
       "      <th>50</th>\n",
       "      <td>update my phone</td>\n",
       "      <td>personPersonalPhoneNumber.update</td>\n",
       "    </tr>\n",
       "    <tr>\n",
       "      <th>51</th>\n",
       "      <td>Where to update my mobile number</td>\n",
       "      <td>personPersonalPhoneNumber.update</td>\n",
       "    </tr>\n",
       "    <tr>\n",
       "      <th>52</th>\n",
       "      <td>update my number</td>\n",
       "      <td>personPersonalPhoneNumber.update</td>\n",
       "    </tr>\n",
       "    <tr>\n",
       "      <th>53</th>\n",
       "      <td>How to change my mobile</td>\n",
       "      <td>personPersonalPhoneNumber.update</td>\n",
       "    </tr>\n",
       "    <tr>\n",
       "      <th>54</th>\n",
       "      <td>Do u change my mobile number</td>\n",
       "      <td>personPersonalPhoneNumber.update</td>\n",
       "    </tr>\n",
       "    <tr>\n",
       "      <th>55</th>\n",
       "      <td>Do you change my mobile number</td>\n",
       "      <td>personPersonalPhoneNumber.update</td>\n",
       "    </tr>\n",
       "    <tr>\n",
       "      <th>56</th>\n",
       "      <td>Update cellphone</td>\n",
       "      <td>personPersonalPhoneNumber.update</td>\n",
       "    </tr>\n",
       "    <tr>\n",
       "      <th>57</th>\n",
       "      <td>Update cell phone</td>\n",
       "      <td>personPersonalPhoneNumber.update</td>\n",
       "    </tr>\n",
       "    <tr>\n",
       "      <th>58</th>\n",
       "      <td>Update cell phone number</td>\n",
       "      <td>personPersonalPhoneNumber.update</td>\n",
       "    </tr>\n",
       "    <tr>\n",
       "      <th>59</th>\n",
       "      <td>phone number update needed</td>\n",
       "      <td>personPersonalPhoneNumber.update</td>\n",
       "    </tr>\n",
       "    <tr>\n",
       "      <th>60</th>\n",
       "      <td>updatee my phone</td>\n",
       "      <td>personPersonalPhoneNumber.update</td>\n",
       "    </tr>\n",
       "    <tr>\n",
       "      <th>61</th>\n",
       "      <td>updatee my mobile</td>\n",
       "      <td>personPersonalPhoneNumber.update</td>\n",
       "    </tr>\n",
       "    <tr>\n",
       "      <th>62</th>\n",
       "      <td>Immediately change my number</td>\n",
       "      <td>personPersonalPhoneNumber.update</td>\n",
       "    </tr>\n",
       "    <tr>\n",
       "      <th>63</th>\n",
       "      <td>Changes in Phone</td>\n",
       "      <td>personPersonalPhoneNumber.update</td>\n",
       "    </tr>\n",
       "    <tr>\n",
       "      <th>64</th>\n",
       "      <td>modify mobile number</td>\n",
       "      <td>personPersonalPhoneNumber.update</td>\n",
       "    </tr>\n",
       "    <tr>\n",
       "      <th>65</th>\n",
       "      <td>modify phone</td>\n",
       "      <td>personPersonalPhoneNumber.update</td>\n",
       "    </tr>\n",
       "    <tr>\n",
       "      <th>66</th>\n",
       "      <td>modify phone number</td>\n",
       "      <td>personPersonalPhoneNumber.update</td>\n",
       "    </tr>\n",
       "    <tr>\n",
       "      <th>67</th>\n",
       "      <td>Update Phone numbers</td>\n",
       "      <td>personPersonalPhoneNumber.update</td>\n",
       "    </tr>\n",
       "    <tr>\n",
       "      <th>68</th>\n",
       "      <td>Modify cell</td>\n",
       "      <td>personPersonalPhoneNumber.update</td>\n",
       "    </tr>\n",
       "    <tr>\n",
       "      <th>69</th>\n",
       "      <td>modify cellphone</td>\n",
       "      <td>personPersonalPhoneNumber.update</td>\n",
       "    </tr>\n",
       "    <tr>\n",
       "      <th>70</th>\n",
       "      <td>modify cell phone number</td>\n",
       "      <td>personPersonalPhoneNumber.update</td>\n",
       "    </tr>\n",
       "    <tr>\n",
       "      <th>71</th>\n",
       "      <td>Update</td>\n",
       "      <td>personPersonalPhoneNumber.update</td>\n",
       "    </tr>\n",
       "  </tbody>\n",
       "</table>\n",
       "<p>72 rows × 2 columns</p>\n",
       "</div>"
      ],
      "text/plain": [
       "                                      usersays  \\\n",
       "0                          Update phone number   \n",
       "1                                 Update phone   \n",
       "2                        Update phone personal   \n",
       "3                                Update mobile   \n",
       "4                         Update mobile number   \n",
       "5                                Update Phones   \n",
       "6                    Update my personal number   \n",
       "7                     Update cell phone number   \n",
       "8                                  Update cell   \n",
       "9                  Update my cell phone number   \n",
       "10                       Update personalNumber   \n",
       "11                    Update Phone my personal   \n",
       "12             my personal phone number update   \n",
       "13                             my phone update   \n",
       "14               my latest phone number update   \n",
       "15                          my cellular update   \n",
       "16             My latest Mobile Number Updates   \n",
       "17        My latest Mobile Phone Number Update   \n",
       "18                  Do update my mobile number   \n",
       "19                         Do update my mobile   \n",
       "20             need to update my mobile number   \n",
       "21         need to update my mobile number now   \n",
       "22                            Change my mobile   \n",
       "23                      Change my phone number   \n",
       "24              please update my mobile number   \n",
       "25              how to change my mobile number   \n",
       "26           trying to update my mobile number   \n",
       "27  I want to update my personal mobile number   \n",
       "28           I want to change my mobile number   \n",
       "29                can i change my phone number   \n",
       "..                                         ...   \n",
       "42                 hey change my mobile number   \n",
       "43    I want know how to change mobile number    \n",
       "44                    I wanna change my mobile   \n",
       "45                just change my mobile number   \n",
       "46          Request to change my mobile number   \n",
       "47           Request to change my phone number   \n",
       "48                 Request to change my mobile   \n",
       "49                 Request to change my phone.   \n",
       "50                             update my phone   \n",
       "51            Where to update my mobile number   \n",
       "52                            update my number   \n",
       "53                     How to change my mobile   \n",
       "54                Do u change my mobile number   \n",
       "55              Do you change my mobile number   \n",
       "56                            Update cellphone   \n",
       "57                           Update cell phone   \n",
       "58                    Update cell phone number   \n",
       "59                  phone number update needed   \n",
       "60                            updatee my phone   \n",
       "61                           updatee my mobile   \n",
       "62                Immediately change my number   \n",
       "63                            Changes in Phone   \n",
       "64                        modify mobile number   \n",
       "65                                modify phone   \n",
       "66                         modify phone number   \n",
       "67                       Update Phone numbers    \n",
       "68                                 Modify cell   \n",
       "69                            modify cellphone   \n",
       "70                    modify cell phone number   \n",
       "71                                      Update   \n",
       "\n",
       "                              intent  \n",
       "0   personPersonalPhoneNumber.update  \n",
       "1   personPersonalPhoneNumber.update  \n",
       "2   personPersonalPhoneNumber.update  \n",
       "3   personPersonalPhoneNumber.update  \n",
       "4   personPersonalPhoneNumber.update  \n",
       "5   personPersonalPhoneNumber.update  \n",
       "6   personPersonalPhoneNumber.update  \n",
       "7   personPersonalPhoneNumber.update  \n",
       "8   personPersonalPhoneNumber.update  \n",
       "9   personPersonalPhoneNumber.update  \n",
       "10  personPersonalPhoneNumber.update  \n",
       "11  personPersonalPhoneNumber.update  \n",
       "12  personPersonalPhoneNumber.update  \n",
       "13  personPersonalPhoneNumber.update  \n",
       "14  personPersonalPhoneNumber.update  \n",
       "15  personPersonalPhoneNumber.update  \n",
       "16  personPersonalPhoneNumber.update  \n",
       "17  personPersonalPhoneNumber.update  \n",
       "18  personPersonalPhoneNumber.update  \n",
       "19  personPersonalPhoneNumber.update  \n",
       "20  personPersonalPhoneNumber.update  \n",
       "21  personPersonalPhoneNumber.update  \n",
       "22  personPersonalPhoneNumber.update  \n",
       "23  personPersonalPhoneNumber.update  \n",
       "24  personPersonalPhoneNumber.update  \n",
       "25  personPersonalPhoneNumber.update  \n",
       "26  personPersonalPhoneNumber.update  \n",
       "27  personPersonalPhoneNumber.update  \n",
       "28  personPersonalPhoneNumber.update  \n",
       "29  personPersonalPhoneNumber.update  \n",
       "..                               ...  \n",
       "42  personPersonalPhoneNumber.update  \n",
       "43  personPersonalPhoneNumber.update  \n",
       "44  personPersonalPhoneNumber.update  \n",
       "45  personPersonalPhoneNumber.update  \n",
       "46  personPersonalPhoneNumber.update  \n",
       "47  personPersonalPhoneNumber.update  \n",
       "48  personPersonalPhoneNumber.update  \n",
       "49  personPersonalPhoneNumber.update  \n",
       "50  personPersonalPhoneNumber.update  \n",
       "51  personPersonalPhoneNumber.update  \n",
       "52  personPersonalPhoneNumber.update  \n",
       "53  personPersonalPhoneNumber.update  \n",
       "54  personPersonalPhoneNumber.update  \n",
       "55  personPersonalPhoneNumber.update  \n",
       "56  personPersonalPhoneNumber.update  \n",
       "57  personPersonalPhoneNumber.update  \n",
       "58  personPersonalPhoneNumber.update  \n",
       "59  personPersonalPhoneNumber.update  \n",
       "60  personPersonalPhoneNumber.update  \n",
       "61  personPersonalPhoneNumber.update  \n",
       "62  personPersonalPhoneNumber.update  \n",
       "63  personPersonalPhoneNumber.update  \n",
       "64  personPersonalPhoneNumber.update  \n",
       "65  personPersonalPhoneNumber.update  \n",
       "66  personPersonalPhoneNumber.update  \n",
       "67  personPersonalPhoneNumber.update  \n",
       "68  personPersonalPhoneNumber.update  \n",
       "69  personPersonalPhoneNumber.update  \n",
       "70  personPersonalPhoneNumber.update  \n",
       "71  personPersonalPhoneNumber.update  \n",
       "\n",
       "[72 rows x 2 columns]"
      ]
     },
     "execution_count": 13,
     "metadata": {},
     "output_type": "execute_result"
    }
   ],
   "source": [
    "x_test_1"
   ]
  },
  {
   "cell_type": "code",
   "execution_count": 14,
   "metadata": {},
   "outputs": [
    {
     "data": {
      "text/html": [
       "<div>\n",
       "<style>\n",
       "    .dataframe thead tr:only-child th {\n",
       "        text-align: right;\n",
       "    }\n",
       "\n",
       "    .dataframe thead th {\n",
       "        text-align: left;\n",
       "    }\n",
       "\n",
       "    .dataframe tbody tr th {\n",
       "        vertical-align: top;\n",
       "    }\n",
       "</style>\n",
       "<table border=\"1\" class=\"dataframe\">\n",
       "  <thead>\n",
       "    <tr style=\"text-align: right;\">\n",
       "      <th></th>\n",
       "      <th>usersays</th>\n",
       "      <th>intent</th>\n",
       "    </tr>\n",
       "  </thead>\n",
       "  <tbody>\n",
       "    <tr>\n",
       "      <th>0</th>\n",
       "      <td>i need to add a new assessment please</td>\n",
       "      <td>assessment.add</td>\n",
       "    </tr>\n",
       "    <tr>\n",
       "      <th>1</th>\n",
       "      <td>start new assessment</td>\n",
       "      <td>assessment.add</td>\n",
       "    </tr>\n",
       "    <tr>\n",
       "      <th>2</th>\n",
       "      <td>please  add a new assessment here</td>\n",
       "      <td>assessment.add</td>\n",
       "    </tr>\n",
       "    <tr>\n",
       "      <th>3</th>\n",
       "      <td>make a new assessment</td>\n",
       "      <td>assessment.add</td>\n",
       "    </tr>\n",
       "    <tr>\n",
       "      <th>4</th>\n",
       "      <td>send this assessment</td>\n",
       "      <td>assessment.submit</td>\n",
       "    </tr>\n",
       "    <tr>\n",
       "      <th>5</th>\n",
       "      <td>finish pre-screening and submit</td>\n",
       "      <td>assessment.submit</td>\n",
       "    </tr>\n",
       "    <tr>\n",
       "      <th>6</th>\n",
       "      <td>send assessment</td>\n",
       "      <td>assessment.submit</td>\n",
       "    </tr>\n",
       "    <tr>\n",
       "      <th>7</th>\n",
       "      <td>take and assessment</td>\n",
       "      <td>assessment.take</td>\n",
       "    </tr>\n",
       "    <tr>\n",
       "      <th>8</th>\n",
       "      <td>i need to answer one assessment</td>\n",
       "      <td>assessment.take</td>\n",
       "    </tr>\n",
       "    <tr>\n",
       "      <th>9</th>\n",
       "      <td>Fill out assessment</td>\n",
       "      <td>assessment.take</td>\n",
       "    </tr>\n",
       "    <tr>\n",
       "      <th>10</th>\n",
       "      <td>updt assessment</td>\n",
       "      <td>assessment.update</td>\n",
       "    </tr>\n",
       "    <tr>\n",
       "      <th>11</th>\n",
       "      <td>make a correction to assessment</td>\n",
       "      <td>assessment.update</td>\n",
       "    </tr>\n",
       "    <tr>\n",
       "      <th>12</th>\n",
       "      <td>i need to edit an assessment</td>\n",
       "      <td>assessment.update</td>\n",
       "    </tr>\n",
       "    <tr>\n",
       "      <th>13</th>\n",
       "      <td>auto gen match report</td>\n",
       "      <td>autogenerate.match.report</td>\n",
       "    </tr>\n",
       "    <tr>\n",
       "      <th>14</th>\n",
       "      <td>auto create a match report</td>\n",
       "      <td>autogenerate.match.report</td>\n",
       "    </tr>\n",
       "    <tr>\n",
       "      <th>15</th>\n",
       "      <td>autogen match report</td>\n",
       "      <td>autogenerate.match.report</td>\n",
       "    </tr>\n",
       "    <tr>\n",
       "      <th>16</th>\n",
       "      <td>refer to a candidate</td>\n",
       "      <td>candidate.refer</td>\n",
       "    </tr>\n",
       "    <tr>\n",
       "      <th>17</th>\n",
       "      <td>suggest a candidate</td>\n",
       "      <td>candidate.refer</td>\n",
       "    </tr>\n",
       "    <tr>\n",
       "      <th>18</th>\n",
       "      <td>recommend  a candidate position</td>\n",
       "      <td>candidate.refer</td>\n",
       "    </tr>\n",
       "    <tr>\n",
       "      <th>19</th>\n",
       "      <td>i need a new rejection template</td>\n",
       "      <td>create.rejection.template</td>\n",
       "    </tr>\n",
       "    <tr>\n",
       "      <th>20</th>\n",
       "      <td>add a new reject template</td>\n",
       "      <td>create.rejection.template</td>\n",
       "    </tr>\n",
       "    <tr>\n",
       "      <th>21</th>\n",
       "      <td>Create a new rejection template</td>\n",
       "      <td>create.rejection.template</td>\n",
       "    </tr>\n",
       "    <tr>\n",
       "      <th>22</th>\n",
       "      <td>cancel job eval</td>\n",
       "      <td>evaluation.cancel</td>\n",
       "    </tr>\n",
       "    <tr>\n",
       "      <th>23</th>\n",
       "      <td>defer job evaluation</td>\n",
       "      <td>evaluation.cancel</td>\n",
       "    </tr>\n",
       "    <tr>\n",
       "      <th>24</th>\n",
       "      <td>pls cancel job evaluation</td>\n",
       "      <td>evaluation.cancel</td>\n",
       "    </tr>\n",
       "    <tr>\n",
       "      <th>25</th>\n",
       "      <td>review job eval</td>\n",
       "      <td>evaluation.review</td>\n",
       "    </tr>\n",
       "    <tr>\n",
       "      <th>26</th>\n",
       "      <td>Look evaluation review</td>\n",
       "      <td>evaluation.review</td>\n",
       "    </tr>\n",
       "    <tr>\n",
       "      <th>27</th>\n",
       "      <td>assess job evaluation</td>\n",
       "      <td>evaluation.review</td>\n",
       "    </tr>\n",
       "    <tr>\n",
       "      <th>28</th>\n",
       "      <td>Ext job app send</td>\n",
       "      <td>externalJobApplication.submit</td>\n",
       "    </tr>\n",
       "    <tr>\n",
       "      <th>29</th>\n",
       "      <td>submit external job application</td>\n",
       "      <td>externalJobApplication.submit</td>\n",
       "    </tr>\n",
       "    <tr>\n",
       "      <th>...</th>\n",
       "      <td>...</td>\n",
       "      <td>...</td>\n",
       "    </tr>\n",
       "    <tr>\n",
       "      <th>232</th>\n",
       "      <td>hey change my mobile number</td>\n",
       "      <td>personPersonalPhoneNumber.update</td>\n",
       "    </tr>\n",
       "    <tr>\n",
       "      <th>233</th>\n",
       "      <td>I want know how to change mobile number</td>\n",
       "      <td>personPersonalPhoneNumber.update</td>\n",
       "    </tr>\n",
       "    <tr>\n",
       "      <th>234</th>\n",
       "      <td>I wanna change my mobile</td>\n",
       "      <td>personPersonalPhoneNumber.update</td>\n",
       "    </tr>\n",
       "    <tr>\n",
       "      <th>235</th>\n",
       "      <td>just change my mobile number</td>\n",
       "      <td>personPersonalPhoneNumber.update</td>\n",
       "    </tr>\n",
       "    <tr>\n",
       "      <th>236</th>\n",
       "      <td>Request to change my mobile number</td>\n",
       "      <td>personPersonalPhoneNumber.update</td>\n",
       "    </tr>\n",
       "    <tr>\n",
       "      <th>237</th>\n",
       "      <td>Request to change my phone number</td>\n",
       "      <td>personPersonalPhoneNumber.update</td>\n",
       "    </tr>\n",
       "    <tr>\n",
       "      <th>238</th>\n",
       "      <td>Request to change my mobile</td>\n",
       "      <td>personPersonalPhoneNumber.update</td>\n",
       "    </tr>\n",
       "    <tr>\n",
       "      <th>239</th>\n",
       "      <td>Request to change my phone.</td>\n",
       "      <td>personPersonalPhoneNumber.update</td>\n",
       "    </tr>\n",
       "    <tr>\n",
       "      <th>240</th>\n",
       "      <td>update my phone</td>\n",
       "      <td>personPersonalPhoneNumber.update</td>\n",
       "    </tr>\n",
       "    <tr>\n",
       "      <th>241</th>\n",
       "      <td>Where to update my mobile number</td>\n",
       "      <td>personPersonalPhoneNumber.update</td>\n",
       "    </tr>\n",
       "    <tr>\n",
       "      <th>242</th>\n",
       "      <td>update my number</td>\n",
       "      <td>personPersonalPhoneNumber.update</td>\n",
       "    </tr>\n",
       "    <tr>\n",
       "      <th>243</th>\n",
       "      <td>How to change my mobile</td>\n",
       "      <td>personPersonalPhoneNumber.update</td>\n",
       "    </tr>\n",
       "    <tr>\n",
       "      <th>244</th>\n",
       "      <td>Do u change my mobile number</td>\n",
       "      <td>personPersonalPhoneNumber.update</td>\n",
       "    </tr>\n",
       "    <tr>\n",
       "      <th>245</th>\n",
       "      <td>Do you change my mobile number</td>\n",
       "      <td>personPersonalPhoneNumber.update</td>\n",
       "    </tr>\n",
       "    <tr>\n",
       "      <th>246</th>\n",
       "      <td>Update cellphone</td>\n",
       "      <td>personPersonalPhoneNumber.update</td>\n",
       "    </tr>\n",
       "    <tr>\n",
       "      <th>247</th>\n",
       "      <td>Update cell phone</td>\n",
       "      <td>personPersonalPhoneNumber.update</td>\n",
       "    </tr>\n",
       "    <tr>\n",
       "      <th>248</th>\n",
       "      <td>Update cell phone number</td>\n",
       "      <td>personPersonalPhoneNumber.update</td>\n",
       "    </tr>\n",
       "    <tr>\n",
       "      <th>249</th>\n",
       "      <td>phone number update needed</td>\n",
       "      <td>personPersonalPhoneNumber.update</td>\n",
       "    </tr>\n",
       "    <tr>\n",
       "      <th>250</th>\n",
       "      <td>updatee my phone</td>\n",
       "      <td>personPersonalPhoneNumber.update</td>\n",
       "    </tr>\n",
       "    <tr>\n",
       "      <th>251</th>\n",
       "      <td>updatee my mobile</td>\n",
       "      <td>personPersonalPhoneNumber.update</td>\n",
       "    </tr>\n",
       "    <tr>\n",
       "      <th>252</th>\n",
       "      <td>Immediately change my number</td>\n",
       "      <td>personPersonalPhoneNumber.update</td>\n",
       "    </tr>\n",
       "    <tr>\n",
       "      <th>253</th>\n",
       "      <td>Changes in Phone</td>\n",
       "      <td>personPersonalPhoneNumber.update</td>\n",
       "    </tr>\n",
       "    <tr>\n",
       "      <th>254</th>\n",
       "      <td>modify mobile number</td>\n",
       "      <td>personPersonalPhoneNumber.update</td>\n",
       "    </tr>\n",
       "    <tr>\n",
       "      <th>255</th>\n",
       "      <td>modify phone</td>\n",
       "      <td>personPersonalPhoneNumber.update</td>\n",
       "    </tr>\n",
       "    <tr>\n",
       "      <th>256</th>\n",
       "      <td>modify phone number</td>\n",
       "      <td>personPersonalPhoneNumber.update</td>\n",
       "    </tr>\n",
       "    <tr>\n",
       "      <th>257</th>\n",
       "      <td>Update Phone numbers</td>\n",
       "      <td>personPersonalPhoneNumber.update</td>\n",
       "    </tr>\n",
       "    <tr>\n",
       "      <th>258</th>\n",
       "      <td>Modify cell</td>\n",
       "      <td>personPersonalPhoneNumber.update</td>\n",
       "    </tr>\n",
       "    <tr>\n",
       "      <th>259</th>\n",
       "      <td>modify cellphone</td>\n",
       "      <td>personPersonalPhoneNumber.update</td>\n",
       "    </tr>\n",
       "    <tr>\n",
       "      <th>260</th>\n",
       "      <td>modify cell phone number</td>\n",
       "      <td>personPersonalPhoneNumber.update</td>\n",
       "    </tr>\n",
       "    <tr>\n",
       "      <th>261</th>\n",
       "      <td>Update</td>\n",
       "      <td>personPersonalPhoneNumber.update</td>\n",
       "    </tr>\n",
       "  </tbody>\n",
       "</table>\n",
       "<p>262 rows × 2 columns</p>\n",
       "</div>"
      ],
      "text/plain": [
       "                                     usersays  \\\n",
       "0       i need to add a new assessment please   \n",
       "1                        start new assessment   \n",
       "2           please  add a new assessment here   \n",
       "3                       make a new assessment   \n",
       "4                       send this assessment    \n",
       "5             finish pre-screening and submit   \n",
       "6                            send assessment    \n",
       "7                         take and assessment   \n",
       "8             i need to answer one assessment   \n",
       "9                         Fill out assessment   \n",
       "10                            updt assessment   \n",
       "11            make a correction to assessment   \n",
       "12               i need to edit an assessment   \n",
       "13                      auto gen match report   \n",
       "14                 auto create a match report   \n",
       "15                       autogen match report   \n",
       "16                       refer to a candidate   \n",
       "17                        suggest a candidate   \n",
       "18            recommend  a candidate position   \n",
       "19            i need a new rejection template   \n",
       "20                  add a new reject template   \n",
       "21            Create a new rejection template   \n",
       "22                            cancel job eval   \n",
       "23                       defer job evaluation   \n",
       "24                  pls cancel job evaluation   \n",
       "25                            review job eval   \n",
       "26                     Look evaluation review   \n",
       "27                      assess job evaluation   \n",
       "28                           Ext job app send   \n",
       "29            submit external job application   \n",
       "..                                        ...   \n",
       "232               hey change my mobile number   \n",
       "233  I want know how to change mobile number    \n",
       "234                  I wanna change my mobile   \n",
       "235              just change my mobile number   \n",
       "236        Request to change my mobile number   \n",
       "237         Request to change my phone number   \n",
       "238               Request to change my mobile   \n",
       "239               Request to change my phone.   \n",
       "240                           update my phone   \n",
       "241          Where to update my mobile number   \n",
       "242                          update my number   \n",
       "243                   How to change my mobile   \n",
       "244              Do u change my mobile number   \n",
       "245            Do you change my mobile number   \n",
       "246                          Update cellphone   \n",
       "247                         Update cell phone   \n",
       "248                  Update cell phone number   \n",
       "249                phone number update needed   \n",
       "250                          updatee my phone   \n",
       "251                         updatee my mobile   \n",
       "252              Immediately change my number   \n",
       "253                          Changes in Phone   \n",
       "254                      modify mobile number   \n",
       "255                              modify phone   \n",
       "256                       modify phone number   \n",
       "257                     Update Phone numbers    \n",
       "258                               Modify cell   \n",
       "259                          modify cellphone   \n",
       "260                  modify cell phone number   \n",
       "261                                    Update   \n",
       "\n",
       "                               intent  \n",
       "0                      assessment.add  \n",
       "1                      assessment.add  \n",
       "2                      assessment.add  \n",
       "3                      assessment.add  \n",
       "4                   assessment.submit  \n",
       "5                   assessment.submit  \n",
       "6                   assessment.submit  \n",
       "7                     assessment.take  \n",
       "8                     assessment.take  \n",
       "9                     assessment.take  \n",
       "10                  assessment.update  \n",
       "11                  assessment.update  \n",
       "12                  assessment.update  \n",
       "13          autogenerate.match.report  \n",
       "14          autogenerate.match.report  \n",
       "15          autogenerate.match.report  \n",
       "16                    candidate.refer  \n",
       "17                    candidate.refer  \n",
       "18                    candidate.refer  \n",
       "19          create.rejection.template  \n",
       "20          create.rejection.template  \n",
       "21          create.rejection.template  \n",
       "22                  evaluation.cancel  \n",
       "23                  evaluation.cancel  \n",
       "24                  evaluation.cancel  \n",
       "25                  evaluation.review  \n",
       "26                  evaluation.review  \n",
       "27                  evaluation.review  \n",
       "28      externalJobApplication.submit  \n",
       "29      externalJobApplication.submit  \n",
       "..                                ...  \n",
       "232  personPersonalPhoneNumber.update  \n",
       "233  personPersonalPhoneNumber.update  \n",
       "234  personPersonalPhoneNumber.update  \n",
       "235  personPersonalPhoneNumber.update  \n",
       "236  personPersonalPhoneNumber.update  \n",
       "237  personPersonalPhoneNumber.update  \n",
       "238  personPersonalPhoneNumber.update  \n",
       "239  personPersonalPhoneNumber.update  \n",
       "240  personPersonalPhoneNumber.update  \n",
       "241  personPersonalPhoneNumber.update  \n",
       "242  personPersonalPhoneNumber.update  \n",
       "243  personPersonalPhoneNumber.update  \n",
       "244  personPersonalPhoneNumber.update  \n",
       "245  personPersonalPhoneNumber.update  \n",
       "246  personPersonalPhoneNumber.update  \n",
       "247  personPersonalPhoneNumber.update  \n",
       "248  personPersonalPhoneNumber.update  \n",
       "249  personPersonalPhoneNumber.update  \n",
       "250  personPersonalPhoneNumber.update  \n",
       "251  personPersonalPhoneNumber.update  \n",
       "252  personPersonalPhoneNumber.update  \n",
       "253  personPersonalPhoneNumber.update  \n",
       "254  personPersonalPhoneNumber.update  \n",
       "255  personPersonalPhoneNumber.update  \n",
       "256  personPersonalPhoneNumber.update  \n",
       "257  personPersonalPhoneNumber.update  \n",
       "258  personPersonalPhoneNumber.update  \n",
       "259  personPersonalPhoneNumber.update  \n",
       "260  personPersonalPhoneNumber.update  \n",
       "261  personPersonalPhoneNumber.update  \n",
       "\n",
       "[262 rows x 2 columns]"
      ]
     },
     "execution_count": 14,
     "metadata": {},
     "output_type": "execute_result"
    }
   ],
   "source": [
    "test = x_test.append(x_test_1,ignore_index=True).reset_index()\n",
    "test.drop(labels=['index'], axis=1, inplace=True)\n",
    "test"
   ]
  },
  {
   "cell_type": "markdown",
   "metadata": {},
   "source": [
    "## Dropping intents that are not in training set\n",
    "- personalBirthInformation.update  \n",
    "- scheduleEvaluation.create  \n",
    "- scheduleEvaluation.update  \n",
    "- jobRequisition.publish  "
   ]
  },
  {
   "cell_type": "code",
   "execution_count": 15,
   "metadata": {},
   "outputs": [
    {
     "data": {
      "text/plain": [
       "262"
      ]
     },
     "execution_count": 15,
     "metadata": {},
     "output_type": "execute_result"
    }
   ],
   "source": [
    "len(test)"
   ]
  },
  {
   "cell_type": "code",
   "execution_count": 16,
   "metadata": {},
   "outputs": [
    {
     "data": {
      "text/html": [
       "<div>\n",
       "<style>\n",
       "    .dataframe thead tr:only-child th {\n",
       "        text-align: right;\n",
       "    }\n",
       "\n",
       "    .dataframe thead th {\n",
       "        text-align: left;\n",
       "    }\n",
       "\n",
       "    .dataframe tbody tr th {\n",
       "        vertical-align: top;\n",
       "    }\n",
       "</style>\n",
       "<table border=\"1\" class=\"dataframe\">\n",
       "  <thead>\n",
       "    <tr style=\"text-align: right;\">\n",
       "      <th></th>\n",
       "      <th>usersays</th>\n",
       "      <th>intent</th>\n",
       "    </tr>\n",
       "  </thead>\n",
       "  <tbody>\n",
       "    <tr>\n",
       "      <th>153</th>\n",
       "      <td>i need to edit DOB</td>\n",
       "      <td>personalBirthInformation.update</td>\n",
       "    </tr>\n",
       "    <tr>\n",
       "      <th>154</th>\n",
       "      <td>edit my personal birth date</td>\n",
       "      <td>personalBirthInformation.update</td>\n",
       "    </tr>\n",
       "    <tr>\n",
       "      <th>155</th>\n",
       "      <td>adjust date born</td>\n",
       "      <td>personalBirthInformation.update</td>\n",
       "    </tr>\n",
       "  </tbody>\n",
       "</table>\n",
       "</div>"
      ],
      "text/plain": [
       "                        usersays                           intent\n",
       "153           i need to edit DOB  personalBirthInformation.update\n",
       "154  edit my personal birth date  personalBirthInformation.update\n",
       "155             adjust date born  personalBirthInformation.update"
      ]
     },
     "execution_count": 16,
     "metadata": {},
     "output_type": "execute_result"
    }
   ],
   "source": [
    "test[test['intent']=='personalBirthInformation.update']"
   ]
  },
  {
   "cell_type": "code",
   "execution_count": 17,
   "metadata": {},
   "outputs": [
    {
     "name": "stdout",
     "output_type": "stream",
     "text": [
      "Train size: 249\n"
     ]
    }
   ],
   "source": [
    "test = test[test['intent']!='personalBirthInformation.update']\n",
    "test = test[test['intent']!='scheduleEvaluation.create']\n",
    "test = test[test['intent']!='scheduleEvaluation.update']\n",
    "test = test[test['intent']!='jobRequisition.publish']\n",
    "print(\"Train size: {}\".format(len(test)))"
   ]
  },
  {
   "cell_type": "code",
   "execution_count": 18,
   "metadata": {},
   "outputs": [
    {
     "data": {
      "text/html": [
       "<div>\n",
       "<style>\n",
       "    .dataframe thead tr:only-child th {\n",
       "        text-align: right;\n",
       "    }\n",
       "\n",
       "    .dataframe thead th {\n",
       "        text-align: left;\n",
       "    }\n",
       "\n",
       "    .dataframe tbody tr th {\n",
       "        vertical-align: top;\n",
       "    }\n",
       "</style>\n",
       "<table border=\"1\" class=\"dataframe\">\n",
       "  <thead>\n",
       "    <tr style=\"text-align: right;\">\n",
       "      <th></th>\n",
       "      <th>usersays</th>\n",
       "      <th>intent</th>\n",
       "      <th>usersays_preprocessed</th>\n",
       "    </tr>\n",
       "  </thead>\n",
       "  <tbody>\n",
       "    <tr>\n",
       "      <th>257</th>\n",
       "      <td>Update Phone numbers</td>\n",
       "      <td>personPersonalPhoneNumber.update</td>\n",
       "      <td>updat phone number</td>\n",
       "    </tr>\n",
       "    <tr>\n",
       "      <th>258</th>\n",
       "      <td>Modify cell</td>\n",
       "      <td>personPersonalPhoneNumber.update</td>\n",
       "      <td>modifi cell</td>\n",
       "    </tr>\n",
       "    <tr>\n",
       "      <th>259</th>\n",
       "      <td>modify cellphone</td>\n",
       "      <td>personPersonalPhoneNumber.update</td>\n",
       "      <td>modifi cellphon</td>\n",
       "    </tr>\n",
       "    <tr>\n",
       "      <th>260</th>\n",
       "      <td>modify cell phone number</td>\n",
       "      <td>personPersonalPhoneNumber.update</td>\n",
       "      <td>modifi cell phone number</td>\n",
       "    </tr>\n",
       "    <tr>\n",
       "      <th>261</th>\n",
       "      <td>Update</td>\n",
       "      <td>personPersonalPhoneNumber.update</td>\n",
       "      <td>updat</td>\n",
       "    </tr>\n",
       "  </tbody>\n",
       "</table>\n",
       "</div>"
      ],
      "text/plain": [
       "                     usersays                            intent  \\\n",
       "257     Update Phone numbers   personPersonalPhoneNumber.update   \n",
       "258               Modify cell  personPersonalPhoneNumber.update   \n",
       "259          modify cellphone  personPersonalPhoneNumber.update   \n",
       "260  modify cell phone number  personPersonalPhoneNumber.update   \n",
       "261                    Update  personPersonalPhoneNumber.update   \n",
       "\n",
       "        usersays_preprocessed  \n",
       "257        updat phone number  \n",
       "258               modifi cell  \n",
       "259           modifi cellphon  \n",
       "260  modifi cell phone number  \n",
       "261                     updat  "
      ]
     },
     "execution_count": 18,
     "metadata": {},
     "output_type": "execute_result"
    }
   ],
   "source": [
    "test['usersays_preprocessed']=test['usersays'].apply(lambda x: transformText(x,do_stop=False,do_stem=True))\n",
    "test.tail()"
   ]
  },
  {
   "cell_type": "code",
   "execution_count": 19,
   "metadata": {},
   "outputs": [
    {
     "name": "stdout",
     "output_type": "stream",
     "text": [
      "248\n"
     ]
    }
   ],
   "source": [
    "print(len(np.unique(test['usersays'])))"
   ]
  },
  {
   "cell_type": "markdown",
   "metadata": {},
   "source": [
    "## Persisting train and test datasets"
   ]
  },
  {
   "cell_type": "code",
   "execution_count": 250,
   "metadata": {},
   "outputs": [],
   "source": [
    "train.to_pickle(\"train.pkl\")\n",
    "test.to_pickle(\"test.pkl\")"
   ]
  },
  {
   "cell_type": "markdown",
   "metadata": {},
   "source": [
    "## Train/test split"
   ]
  },
  {
   "cell_type": "code",
   "execution_count": 20,
   "metadata": {},
   "outputs": [
    {
     "name": "stdout",
     "output_type": "stream",
     "text": [
      "#################### Some stats ####################\n",
      "Dataset training: 710 uterances\n",
      "Dataset testing: 0 uterances\n",
      "Different classes: 72\n"
     ]
    }
   ],
   "source": [
    "x_train, x_valid, y_train, y_valid = train_test_split(train['usersays_preprocessed'], train['intent'], test_size = 0, random_state = 4)\n",
    "print(\"#\" * 20 + \" Some stats \" + \"#\"*20)\n",
    "print(\"Dataset training: {} uterances\".format(x_train.shape[0]))\n",
    "print(\"Dataset testing: {} uterances\".format(x_valid.shape[0]))\n",
    "print(\"Different classes: {}\".format(len(set(y_train))))\n",
    "x_test=np.array(test['usersays_preprocessed'])"
   ]
  },
  {
   "cell_type": "code",
   "execution_count": 21,
   "metadata": {},
   "outputs": [],
   "source": [
    "features = CountVectorizer(max_df=0.9, stop_words=None,)\n",
    "x_train_sgd = features.fit_transform(x_train)\n",
    "x_valid_sgd = features.transform(x_valid)\n",
    "x_test_sgd = features.transform(x_test)\n",
    "y_test = np.array(test['intent'])"
   ]
  },
  {
   "cell_type": "code",
   "execution_count": 22,
   "metadata": {},
   "outputs": [],
   "source": [
    "list1=list(sorted(set(y_train)))"
   ]
  },
  {
   "cell_type": "code",
   "execution_count": 23,
   "metadata": {},
   "outputs": [],
   "source": [
    "list2=list(sorted(set(y_test)))"
   ]
  },
  {
   "cell_type": "code",
   "execution_count": 24,
   "metadata": {},
   "outputs": [
    {
     "data": {
      "text/plain": [
       "72"
      ]
     },
     "execution_count": 24,
     "metadata": {},
     "output_type": "execute_result"
    }
   ],
   "source": [
    "len(list1)"
   ]
  },
  {
   "cell_type": "code",
   "execution_count": 25,
   "metadata": {},
   "outputs": [
    {
     "data": {
      "text/plain": [
       "57"
      ]
     },
     "execution_count": 25,
     "metadata": {},
     "output_type": "execute_result"
    }
   ],
   "source": [
    "len(list2)"
   ]
  },
  {
   "cell_type": "code",
   "execution_count": 26,
   "metadata": {},
   "outputs": [
    {
     "data": {
      "text/plain": [
       "72"
      ]
     },
     "execution_count": 26,
     "metadata": {},
     "output_type": "execute_result"
    }
   ],
   "source": [
    "list3=list(set(list1+list2))\n",
    "len(list3)"
   ]
  },
  {
   "cell_type": "code",
   "execution_count": 27,
   "metadata": {},
   "outputs": [],
   "source": [
    "for i in list3:\n",
    "    if i not in list1:\n",
    "        print(i)"
   ]
  },
  {
   "cell_type": "code",
   "execution_count": 28,
   "metadata": {},
   "outputs": [
    {
     "name": "stderr",
     "output_type": "stream",
     "text": [
      "/Users/rsilvei/Envs/nlp/lib/python3.6/site-packages/sklearn/linear_model/stochastic_gradient.py:84: FutureWarning: max_iter and tol parameters have been added in <class 'sklearn.linear_model.stochastic_gradient.SGDClassifier'> in 0.19. If both are left unset, they default to max_iter=5 and tol=None. If tol is not None, max_iter defaults to max_iter=1000. From 0.21, default max_iter will be 1000, and default tol will be 1e-3.\n",
      "  \"and default tol will be 1e-3.\" % type(self), FutureWarning)\n"
     ]
    },
    {
     "data": {
      "text/plain": [
       "SGDClassifier(alpha=0.0001, average=False, class_weight=None, epsilon=0.1,\n",
       "       eta0=0.0, fit_intercept=True, l1_ratio=0.15,\n",
       "       learning_rate='optimal', loss='log', max_iter=5, n_iter=None,\n",
       "       n_jobs=1, penalty='l2', power_t=0.5, random_state=None,\n",
       "       shuffle=True, tol=None, verbose=0, warm_start=False)"
      ]
     },
     "execution_count": 28,
     "metadata": {},
     "output_type": "execute_result"
    }
   ],
   "source": [
    "model = SGDClassifier(penalty='l2', loss='log', class_weight= None)\n",
    "model.fit(x_train_sgd, y_train)"
   ]
  },
  {
   "cell_type": "code",
   "execution_count": 29,
   "metadata": {},
   "outputs": [
    {
     "name": "stdout",
     "output_type": "stream",
     "text": [
      "Current Accuracy: 0.787\n"
     ]
    }
   ],
   "source": [
    "pred_sgd = model.predict(x_test_sgd)\n",
    "pred_proba_sgd = model.predict_proba(x_test_sgd)\n",
    "current_acc = accuracy_score(y_test, pred_sgd)\n",
    "#logloss = log_loss(y_test, pred_proba_sgd, labels=y_test)\n",
    "print(\"Current Accuracy: {0:.3f}\".format(current_acc))\n",
    "#print(\"Log - loss: {0:.3f}\".format(logloss))"
   ]
  },
  {
   "cell_type": "markdown",
   "metadata": {},
   "source": [
    "## Testing other classifiers with CNN and Word2vec embeddings"
   ]
  },
  {
   "cell_type": "code",
   "execution_count": 30,
   "metadata": {},
   "outputs": [
    {
     "data": {
      "text/plain": [
       "['cancel job evalu now pleas',\n",
       " 'del job board',\n",
       " 'chang job list',\n",
       " 'suspend requisit',\n",
       " 'updat job applic']"
      ]
     },
     "execution_count": 30,
     "metadata": {},
     "output_type": "execute_result"
    }
   ],
   "source": [
    "list(x_train[0:5])"
   ]
  },
  {
   "cell_type": "code",
   "execution_count": 31,
   "metadata": {},
   "outputs": [
    {
     "data": {
      "text/plain": [
       "['need add new assess pleas',\n",
       " 'start new assess',\n",
       " 'pleas add new assess here',\n",
       " 'make new assess',\n",
       " 'send thi assess']"
      ]
     },
     "execution_count": 31,
     "metadata": {},
     "output_type": "execute_result"
    }
   ],
   "source": [
    "list(x_test[0:5])"
   ]
  },
  {
   "cell_type": "markdown",
   "metadata": {},
   "source": [
    "## Build vocabulary for words"
   ]
  },
  {
   "cell_type": "code",
   "execution_count": 32,
   "metadata": {},
   "outputs": [],
   "source": [
    "word_2_idx = {}\n",
    "for sent in list(x_train) + list(x_test):\n",
    "    for word in sent.split():\n",
    "        if word not in word_2_idx:\n",
    "            word_2_idx[word]=len(word_2_idx)"
   ]
  },
  {
   "cell_type": "code",
   "execution_count": 33,
   "metadata": {},
   "outputs": [
    {
     "data": {
      "text/plain": [
       "346"
      ]
     },
     "execution_count": 33,
     "metadata": {},
     "output_type": "execute_result"
    }
   ],
   "source": [
    "VOCAB_SIZE = len(word_2_idx)\n",
    "VOCAB_SIZE"
   ]
  },
  {
   "cell_type": "code",
   "execution_count": 34,
   "metadata": {},
   "outputs": [
    {
     "data": {
      "text/plain": [
       "162"
      ]
     },
     "execution_count": 34,
     "metadata": {},
     "output_type": "execute_result"
    }
   ],
   "source": [
    "word_2_idx['lgbt']"
   ]
  },
  {
   "cell_type": "code",
   "execution_count": 35,
   "metadata": {},
   "outputs": [
    {
     "data": {
      "text/plain": [
       "['want',\n",
       " 'washington',\n",
       " 'weather',\n",
       " 'what',\n",
       " 'where',\n",
       " 'which',\n",
       " 'withdraw',\n",
       " 'worker',\n",
       " 'yesterdai']"
      ]
     },
     "execution_count": 35,
     "metadata": {},
     "output_type": "execute_result"
    }
   ],
   "source": [
    "sorted_vocab = sorted(word_2_idx.keys())\n",
    "sorted_vocab[-10:-1]"
   ]
  },
  {
   "cell_type": "markdown",
   "metadata": {},
   "source": [
    "## Build vocabulary for labels"
   ]
  },
  {
   "cell_type": "code",
   "execution_count": 98,
   "metadata": {},
   "outputs": [],
   "source": [
    "label_2_idx = {}\n",
    "for label in list(y_train)+list(y_test):\n",
    "    for word in label.split():\n",
    "        if word not in label_2_idx:\n",
    "            label_2_idx[word]=len(label_2_idx)"
   ]
  },
  {
   "cell_type": "code",
   "execution_count": 37,
   "metadata": {},
   "outputs": [
    {
     "data": {
      "text/plain": [
       "72"
      ]
     },
     "execution_count": 37,
     "metadata": {},
     "output_type": "execute_result"
    }
   ],
   "source": [
    "NUM_LABELS = len(label_2_idx)\n",
    "NUM_LABELS"
   ]
  },
  {
   "cell_type": "code",
   "execution_count": 99,
   "metadata": {},
   "outputs": [
    {
     "data": {
      "text/plain": [
       "{'assessment.add': 62,\n",
       " 'assessment.submit': 55,\n",
       " 'assessment.take': 59,\n",
       " 'assessment.update': 67,\n",
       " 'autogenerate.match.report': 64,\n",
       " 'candidate.refer': 40,\n",
       " 'create.rejection.template': 68,\n",
       " 'evaluation.cancel': 0,\n",
       " 'evaluation.review': 60,\n",
       " 'evaluation.schedule': 11,\n",
       " 'evaluation.update': 13,\n",
       " 'externalJobApplication.submit': 20,\n",
       " 'helper.intents': 9,\n",
       " 'internalJobApplication.submit': 32,\n",
       " 'job.create': 51,\n",
       " 'jobApplication.cancel': 69,\n",
       " 'jobApplication.evaluate': 45,\n",
       " 'jobApplication.reject': 42,\n",
       " 'jobApplication.update': 4,\n",
       " 'jobApplication.withdraw': 21,\n",
       " 'jobApplicationInterest.confirm': 24,\n",
       " 'jobBoard.create': 18,\n",
       " 'jobBoard.delete': 1,\n",
       " 'jobBoard.update': 43,\n",
       " 'jobOffer.create': 54,\n",
       " 'jobOffer.evaluate': 29,\n",
       " 'jobOffer.revoke': 50,\n",
       " 'jobOfferNegotiation.evaluate': 58,\n",
       " 'jobPosting.cancel': 22,\n",
       " 'jobPosting.create': 33,\n",
       " 'jobPosting.update': 2,\n",
       " 'jobReferral.activate': 53,\n",
       " 'jobReferral.cancel': 47,\n",
       " 'jobReferral.evaluate': 63,\n",
       " 'jobReferral.hold': 31,\n",
       " 'jobReferral.payment': 36,\n",
       " 'jobRequisition.Republish': 5,\n",
       " 'jobRequisition.activate': 41,\n",
       " 'jobRequisition.cancel': 27,\n",
       " 'jobRequisition.create': 23,\n",
       " 'jobRequisition.hold': 3,\n",
       " 'jobRequisition.update': 34,\n",
       " 'jobRequisitionAssessment.add': 19,\n",
       " 'jobRequisitionKSAOCs.update': 52,\n",
       " 'jobRequisitionLocation.update': 17,\n",
       " 'jobRequisitionPayGrade.update': 49,\n",
       " 'jobRequisitionPayRate.update': 28,\n",
       " 'jobRequisitionRecruiter.assign': 61,\n",
       " 'jobRequisitionRequirements.update': 15,\n",
       " 'jobSearch.create': 39,\n",
       " 'jobSearch.delete': 14,\n",
       " 'jobSearch.update': 71,\n",
       " 'personBirthInformation.update': 26,\n",
       " 'personDocument.upload': 37,\n",
       " 'personLGBT.update': 16,\n",
       " 'personMaritalStatus.update': 46,\n",
       " 'personPersonalEmail.update': 25,\n",
       " 'personPersonalPhoneNumber.update': 56,\n",
       " 'personTobaccoUsageStatus.update': 35,\n",
       " 'query.stocks': 6,\n",
       " 'query.weather': 70,\n",
       " 'search.job.posting': 57,\n",
       " 'send.auto_reject_email_chat': 30,\n",
       " 'view.job': 66,\n",
       " 'volumeJobRequisition.add': 44,\n",
       " 'worker.usI9Screening.section1.complete': 48,\n",
       " 'workerBirthInformation.update': 38,\n",
       " 'workerLGBT.update': 65,\n",
       " 'workerMaritalStatus.update': 10,\n",
       " 'workerPersonalEmail.update': 7,\n",
       " 'workerPersonalPhoneNumber.update': 8,\n",
       " 'workerTobaccoUsageStatus.update': 12}"
      ]
     },
     "execution_count": 99,
     "metadata": {},
     "output_type": "execute_result"
    }
   ],
   "source": [
    "label_2_idx"
   ]
  },
  {
   "cell_type": "code",
   "execution_count": 39,
   "metadata": {},
   "outputs": [
    {
     "data": {
      "text/plain": [
       "51"
      ]
     },
     "execution_count": 39,
     "metadata": {},
     "output_type": "execute_result"
    }
   ],
   "source": [
    "label_2_idx['job.create']"
   ]
  },
  {
   "cell_type": "code",
   "execution_count": 40,
   "metadata": {},
   "outputs": [
    {
     "data": {
      "text/plain": [
       "['send.auto_reject_email_chat',\n",
       " 'view.job',\n",
       " 'volumeJobRequisition.add',\n",
       " 'worker.usI9Screening.section1.complete',\n",
       " 'workerBirthInformation.update',\n",
       " 'workerLGBT.update',\n",
       " 'workerMaritalStatus.update',\n",
       " 'workerPersonalEmail.update',\n",
       " 'workerPersonalPhoneNumber.update']"
      ]
     },
     "execution_count": 40,
     "metadata": {},
     "output_type": "execute_result"
    }
   ],
   "source": [
    "sorted_labels = sorted(label_2_idx.keys())\n",
    "sorted_labels[-10:-1]"
   ]
  },
  {
   "cell_type": "markdown",
   "metadata": {},
   "source": [
    "## Building iterable datasets"
   ]
  },
  {
   "cell_type": "code",
   "execution_count": 74,
   "metadata": {},
   "outputs": [
    {
     "data": {
      "text/plain": [
       "281"
      ]
     },
     "execution_count": 74,
     "metadata": {},
     "output_type": "execute_result"
    }
   ],
   "source": [
    "batch_size = 5\n",
    "n_iters = 1000000\n",
    "num_epochs = n_iters/(len(x_train))/batch_size\n",
    "num_epochs=int(num_epochs)\n",
    "num_epochs"
   ]
  },
  {
   "cell_type": "code",
   "execution_count": 64,
   "metadata": {},
   "outputs": [
    {
     "data": {
      "text/plain": [
       "[('cancel job evalu now pleas', 'evaluation.cancel'),\n",
       " ('del job board', 'jobBoard.delete'),\n",
       " ('chang job list', 'jobPosting.update'),\n",
       " ('suspend requisit', 'jobRequisition.hold'),\n",
       " ('updat job applic', 'jobApplication.update')]"
      ]
     },
     "execution_count": 64,
     "metadata": {},
     "output_type": "execute_result"
    }
   ],
   "source": [
    "train_data=list(zip(x_train,y_train))\n",
    "train_data[0:5]"
   ]
  },
  {
   "cell_type": "code",
   "execution_count": 65,
   "metadata": {},
   "outputs": [
    {
     "data": {
      "text/plain": [
       "[('updat phone number', 'personPersonalPhoneNumber.update'),\n",
       " ('modifi cell', 'personPersonalPhoneNumber.update'),\n",
       " ('modifi cellphon', 'personPersonalPhoneNumber.update'),\n",
       " ('modifi cell phone number', 'personPersonalPhoneNumber.update')]"
      ]
     },
     "execution_count": 65,
     "metadata": {},
     "output_type": "execute_result"
    }
   ],
   "source": [
    "test_data=list(zip(x_test,y_test))\n",
    "test_data[-5:-1]"
   ]
  },
  {
   "cell_type": "markdown",
   "metadata": {},
   "source": [
    "## Model 1 - BoW Classifier"
   ]
  },
  {
   "cell_type": "code",
   "execution_count": 66,
   "metadata": {},
   "outputs": [],
   "source": [
    "class BoWClassifier(nn.Module):\n",
    "    def __init__(self, num_labels, vocab_size):\n",
    "        super(BoWClassifier, self).__init__()\n",
    "        \n",
    "        ## Defining parameters for linear model\n",
    "        self.linear = nn.Linear(vocab_size, num_labels)\n",
    "    \n",
    "    def forward(self, bow_vec):\n",
    "        ## do the foward pass and implement non-linearity\n",
    "        return F.log_softmax(self.linear(bow_vec))"
   ]
  },
  {
   "cell_type": "code",
   "execution_count": 133,
   "metadata": {},
   "outputs": [],
   "source": [
    "def make_bow_vector(sentence, word_to_ix):\n",
    "    vec = torch.zeros(len(word_to_ix))\n",
    "    for word in sentence.split():\n",
    "        if word in word_to_ix:\n",
    "            vec[word_to_ix[word]] += 1\n",
    "    return vec.view(1,-1)"
   ]
  },
  {
   "cell_type": "code",
   "execution_count": 68,
   "metadata": {},
   "outputs": [],
   "source": [
    "def make_target(label, label_to_idx):\n",
    "    return torch.LongTensor([label_to_idx[label]])"
   ]
  },
  {
   "cell_type": "code",
   "execution_count": 69,
   "metadata": {},
   "outputs": [
    {
     "name": "stdout",
     "output_type": "stream",
     "text": [
      ">> SENTENCE: establish assess\n",
      ">> SENTIMENT: assessment.add\n",
      ">> INPUT SIZE: torch.Size([1, 346])\n",
      ">> INPUT FORMAT: <class 'torch.FloatTensor'>\n"
     ]
    }
   ],
   "source": [
    "n=1\n",
    "sample_phrase=make_bow_vector(x_train[n],word_2_idx)\n",
    "print(\">> SENTENCE: {}\".format(x_train[n]))\n",
    "print(\">> SENTIMENT: {}\".format(y_train[n]))\n",
    "print(\">> INPUT SIZE: {}\".format(sample_phrase.size()))\n",
    "print(\">> INPUT FORMAT: {}\".format(type(sample_phrase)))"
   ]
  },
  {
   "cell_type": "code",
   "execution_count": 70,
   "metadata": {},
   "outputs": [],
   "source": [
    "model_bow = BoWClassifier(NUM_LABELS, VOCAB_SIZE)"
   ]
  },
  {
   "cell_type": "markdown",
   "metadata": {},
   "source": [
    "## Training"
   ]
  },
  {
   "cell_type": "code",
   "execution_count": 71,
   "metadata": {},
   "outputs": [],
   "source": [
    "loss_function = nn.CrossEntropyLoss()\n",
    "learning_rate = 0.01\n",
    "optimizer = optim.SGD(params=model_bow.parameters(), lr=learning_rate)"
   ]
  },
  {
   "cell_type": "code",
   "execution_count": 72,
   "metadata": {},
   "outputs": [
    {
     "data": {
      "text/plain": [
       "Variable containing:\n",
       "\n",
       "Columns 0 to 9 \n",
       "-4.2881 -4.3137 -4.3099 -4.3115 -4.2084 -4.2875 -4.3024 -4.2906 -4.3755 -4.2277\n",
       "\n",
       "Columns 10 to 19 \n",
       "-4.1846 -4.2087 -4.2776 -4.3100 -4.2904 -4.3533 -4.3110 -4.2199 -4.3169 -4.2235\n",
       "\n",
       "Columns 20 to 29 \n",
       "-4.2669 -4.3148 -4.3924 -4.2596 -4.3112 -4.2589 -4.2432 -4.3128 -4.3194 -4.3262\n",
       "\n",
       "Columns 30 to 39 \n",
       "-4.1679 -4.2687 -4.1892 -4.3090 -4.1652 -4.2343 -4.2558 -4.1782 -4.3275 -4.3351\n",
       "\n",
       "Columns 40 to 49 \n",
       "-4.3577 -4.1921 -4.3014 -4.2671 -4.2578 -4.3748 -4.2154 -4.2927 -4.3486 -4.2638\n",
       "\n",
       "Columns 50 to 59 \n",
       "-4.2311 -4.2913 -4.2759 -4.2958 -4.2563 -4.3747 -4.2279 -4.2698 -4.1729 -4.2724\n",
       "\n",
       "Columns 60 to 69 \n",
       "-4.3137 -4.2881 -4.3187 -4.1976 -4.3656 -4.3461 -4.3197 -4.3183 -4.1867 -4.3851\n",
       "\n",
       "Columns 70 to 71 \n",
       "-4.1812 -4.2334\n",
       "[torch.FloatTensor of size 1x72]"
      ]
     },
     "execution_count": 72,
     "metadata": {},
     "output_type": "execute_result"
    }
   ],
   "source": [
    "## simple forward to see if its working\n",
    "out=model_bow(Variable(sample_phrase))\n",
    "out"
   ]
  },
  {
   "cell_type": "code",
   "execution_count": 75,
   "metadata": {},
   "outputs": [
    {
     "name": "stdout",
     "output_type": "stream",
     "text": [
      "Iterations: 1000. Loss: 0.1340835690498352. Accuracy: 81.52610441767068\n",
      "Iterations: 2000. Loss: 0.025858299806714058. Accuracy: 81.52610441767068\n",
      "Iterations: 3000. Loss: 0.038729552179574966. Accuracy: 81.52610441767068\n",
      "Iterations: 4000. Loss: 0.09527319669723511. Accuracy: 81.52610441767068\n",
      "Iterations: 5000. Loss: 0.34346723556518555. Accuracy: 81.12449799196787\n",
      "Iterations: 6000. Loss: 0.020387429744005203. Accuracy: 81.52610441767068\n",
      "Iterations: 7000. Loss: 0.15182150900363922. Accuracy: 81.92771084337349\n",
      "Iterations: 8000. Loss: 0.07401514798402786. Accuracy: 81.52610441767068\n",
      "Iterations: 9000. Loss: 0.727484405040741. Accuracy: 81.52610441767068\n",
      "Iterations: 10000. Loss: 0.04679514840245247. Accuracy: 81.12449799196787\n",
      "Iterations: 11000. Loss: 0.049376796931028366. Accuracy: 81.52610441767068\n",
      "Iterations: 12000. Loss: 0.020930076017975807. Accuracy: 81.92771084337349\n",
      "Iterations: 13000. Loss: 0.11241818219423294. Accuracy: 81.52610441767068\n",
      "Iterations: 14000. Loss: 0.45110806822776794. Accuracy: 81.52610441767068\n",
      "Iterations: 15000. Loss: 0.23368586599826813. Accuracy: 81.52610441767068\n",
      "Iterations: 16000. Loss: 0.09390563517808914. Accuracy: 81.52610441767068\n",
      "Iterations: 17000. Loss: 0.048663798719644547. Accuracy: 81.92771084337349\n",
      "Iterations: 18000. Loss: 0.036899857223033905. Accuracy: 81.52610441767068\n",
      "Iterations: 19000. Loss: 0.5713701844215393. Accuracy: 81.92771084337349\n",
      "Iterations: 20000. Loss: 0.9187793731689453. Accuracy: 81.52610441767068\n",
      "Iterations: 21000. Loss: 0.2864653468132019. Accuracy: 81.52610441767068\n",
      "Iterations: 22000. Loss: 0.022261524572968483. Accuracy: 81.52610441767068\n",
      "Iterations: 23000. Loss: 0.12127617001533508. Accuracy: 81.52610441767068\n",
      "Iterations: 24000. Loss: 0.3555324673652649. Accuracy: 81.92771084337349\n",
      "Iterations: 25000. Loss: 0.13494816422462463. Accuracy: 81.52610441767068\n",
      "Iterations: 26000. Loss: 0.03504007309675217. Accuracy: 81.52610441767068\n",
      "Iterations: 27000. Loss: 0.08031082898378372. Accuracy: 81.52610441767068\n",
      "Iterations: 28000. Loss: 0.0064111207611858845. Accuracy: 81.52610441767068\n",
      "Iterations: 29000. Loss: 0.0450761616230011. Accuracy: 81.92771084337349\n",
      "Iterations: 30000. Loss: 0.4433022737503052. Accuracy: 81.52610441767068\n",
      "Iterations: 31000. Loss: 0.5008008480072021. Accuracy: 81.52610441767068\n",
      "Iterations: 32000. Loss: 0.8210134506225586. Accuracy: 81.52610441767068\n",
      "Iterations: 33000. Loss: 0.012484208680689335. Accuracy: 81.52610441767068\n",
      "Iterations: 34000. Loss: 0.06764207780361176. Accuracy: 81.92771084337349\n",
      "Iterations: 35000. Loss: 0.05545004457235336. Accuracy: 81.52610441767068\n",
      "Iterations: 36000. Loss: 0.5008275508880615. Accuracy: 81.52610441767068\n",
      "Iterations: 37000. Loss: 0.17131702601909637. Accuracy: 81.52610441767068\n",
      "Iterations: 38000. Loss: 0.49026817083358765. Accuracy: 81.52610441767068\n",
      "Iterations: 39000. Loss: 0.010421098209917545. Accuracy: 81.92771084337349\n",
      "Iterations: 40000. Loss: 0.5938584804534912. Accuracy: 81.52610441767068\n",
      "Iterations: 41000. Loss: 0.9268675446510315. Accuracy: 81.92771084337349\n",
      "Iterations: 42000. Loss: 0.4569249153137207. Accuracy: 81.52610441767068\n",
      "Iterations: 43000. Loss: 0.045040540397167206. Accuracy: 81.52610441767068\n",
      "Iterations: 44000. Loss: 0.5790371298789978. Accuracy: 81.92771084337349\n",
      "Iterations: 45000. Loss: 0.0788949653506279. Accuracy: 81.52610441767068\n",
      "Iterations: 46000. Loss: 0.025631096214056015. Accuracy: 81.92771084337349\n",
      "Iterations: 47000. Loss: 0.9397139549255371. Accuracy: 81.52610441767068\n",
      "Iterations: 48000. Loss: 0.15182237327098846. Accuracy: 81.92771084337349\n",
      "Iterations: 49000. Loss: 0.005482812877744436. Accuracy: 81.12449799196787\n",
      "Iterations: 50000. Loss: 0.2104099988937378. Accuracy: 81.92771084337349\n",
      "Iterations: 51000. Loss: 0.6913765668869019. Accuracy: 81.92771084337349\n",
      "Iterations: 52000. Loss: 0.0928182452917099. Accuracy: 81.92771084337349\n",
      "Iterations: 53000. Loss: 0.08010316640138626. Accuracy: 81.52610441767068\n",
      "Iterations: 54000. Loss: 0.14680801331996918. Accuracy: 81.52610441767068\n",
      "Iterations: 55000. Loss: 0.1699237823486328. Accuracy: 81.92771084337349\n",
      "Iterations: 56000. Loss: 0.0884489119052887. Accuracy: 81.92771084337349\n",
      "Iterations: 57000. Loss: 0.05753830820322037. Accuracy: 81.92771084337349\n",
      "Iterations: 58000. Loss: 0.12120350450277328. Accuracy: 81.52610441767068\n",
      "Iterations: 59000. Loss: 0.10219671577215195. Accuracy: 81.52610441767068\n",
      "Iterations: 60000. Loss: 0.04353270307183266. Accuracy: 81.92771084337349\n",
      "Iterations: 61000. Loss: 0.047144871205091476. Accuracy: 81.92771084337349\n",
      "Iterations: 62000. Loss: 0.382589727640152. Accuracy: 81.52610441767068\n",
      "Iterations: 63000. Loss: 0.1881340593099594. Accuracy: 81.52610441767068\n",
      "Iterations: 64000. Loss: 0.343542218208313. Accuracy: 81.52610441767068\n",
      "Iterations: 65000. Loss: 0.41447868943214417. Accuracy: 81.92771084337349\n",
      "Iterations: 66000. Loss: 0.017170211300253868. Accuracy: 81.92771084337349\n",
      "Iterations: 67000. Loss: 0.0943806990981102. Accuracy: 81.92771084337349\n",
      "Iterations: 68000. Loss: 0.012297607026994228. Accuracy: 81.92771084337349\n",
      "Iterations: 69000. Loss: 0.2283933013677597. Accuracy: 81.52610441767068\n",
      "Iterations: 70000. Loss: 0.04350820183753967. Accuracy: 81.92771084337349\n",
      "Iterations: 71000. Loss: 0.5294482111930847. Accuracy: 81.92771084337349\n",
      "Iterations: 72000. Loss: 0.09621606022119522. Accuracy: 81.92771084337349\n",
      "Iterations: 73000. Loss: 0.01599838025867939. Accuracy: 81.92771084337349\n",
      "Iterations: 74000. Loss: 0.023564286530017853. Accuracy: 81.52610441767068\n",
      "Iterations: 75000. Loss: 0.06923146545886993. Accuracy: 81.52610441767068\n",
      "Iterations: 76000. Loss: 0.23925381898880005. Accuracy: 81.92771084337349\n",
      "Iterations: 77000. Loss: 0.012998002581298351. Accuracy: 81.52610441767068\n",
      "Iterations: 78000. Loss: 0.10559570044279099. Accuracy: 81.92771084337349\n",
      "Iterations: 79000. Loss: 0.05124208703637123. Accuracy: 81.92771084337349\n",
      "Iterations: 80000. Loss: 0.48118555545806885. Accuracy: 81.52610441767068\n",
      "Iterations: 81000. Loss: 0.03286649286746979. Accuracy: 81.92771084337349\n",
      "Iterations: 82000. Loss: 0.032929811626672745. Accuracy: 81.52610441767068\n",
      "Iterations: 83000. Loss: 0.012914251536130905. Accuracy: 81.92771084337349\n",
      "Iterations: 84000. Loss: 0.07453879714012146. Accuracy: 81.52610441767068\n",
      "Iterations: 85000. Loss: 0.28075653314590454. Accuracy: 81.52610441767068\n",
      "Iterations: 86000. Loss: 0.17288300395011902. Accuracy: 81.92771084337349\n",
      "Iterations: 87000. Loss: 0.05685732513666153. Accuracy: 81.52610441767068\n",
      "Iterations: 88000. Loss: 0.03022295981645584. Accuracy: 81.92771084337349\n",
      "Iterations: 89000. Loss: 0.023499490693211555. Accuracy: 81.52610441767068\n",
      "Iterations: 90000. Loss: 0.3843032121658325. Accuracy: 81.92771084337349\n",
      "Iterations: 91000. Loss: 0.5103120803833008. Accuracy: 81.92771084337349\n",
      "Iterations: 92000. Loss: 0.17828112840652466. Accuracy: 81.52610441767068\n",
      "Iterations: 93000. Loss: 0.01620463654398918. Accuracy: 81.52610441767068\n",
      "Iterations: 94000. Loss: 0.0856524109840393. Accuracy: 81.52610441767068\n",
      "Iterations: 95000. Loss: 0.25032368302345276. Accuracy: 81.92771084337349\n",
      "Iterations: 96000. Loss: 0.10073593258857727. Accuracy: 81.52610441767068\n",
      "Iterations: 97000. Loss: 0.02243863418698311. Accuracy: 81.52610441767068\n",
      "Iterations: 98000. Loss: 0.055077649652957916. Accuracy: 81.52610441767068\n",
      "Iterations: 99000. Loss: 0.00453979754820466. Accuracy: 81.12449799196787\n",
      "Iterations: 100000. Loss: 0.030497178435325623. Accuracy: 81.52610441767068\n",
      "Iterations: 101000. Loss: 0.31280091404914856. Accuracy: 81.52610441767068\n",
      "Iterations: 102000. Loss: 0.3348315954208374. Accuracy: 81.12449799196787\n",
      "Iterations: 103000. Loss: 0.5983827114105225. Accuracy: 81.52610441767068\n",
      "Iterations: 104000. Loss: 0.007826630026102066. Accuracy: 81.12449799196787\n",
      "Iterations: 105000. Loss: 0.047526516020298004. Accuracy: 81.52610441767068\n",
      "Iterations: 106000. Loss: 0.04139060154557228. Accuracy: 81.12449799196787\n",
      "Iterations: 107000. Loss: 0.37862154841423035. Accuracy: 81.12449799196787\n",
      "Iterations: 108000. Loss: 0.13274052739143372. Accuracy: 81.52610441767068\n",
      "Iterations: 109000. Loss: 0.3389509916305542. Accuracy: 81.12449799196787\n",
      "Iterations: 110000. Loss: 0.007123924791812897. Accuracy: 81.52610441767068\n",
      "Iterations: 111000. Loss: 0.3895326256752014. Accuracy: 81.12449799196787\n"
     ]
    },
    {
     "name": "stdout",
     "output_type": "stream",
     "text": [
      "Iterations: 112000. Loss: 0.5877761840820312. Accuracy: 81.52610441767068\n",
      "Iterations: 113000. Loss: 0.3367224335670471. Accuracy: 81.52610441767068\n",
      "Iterations: 114000. Loss: 0.031178008764982224. Accuracy: 81.12449799196787\n",
      "Iterations: 115000. Loss: 0.3775192201137543. Accuracy: 81.52610441767068\n",
      "Iterations: 116000. Loss: 0.0542440302670002. Accuracy: 81.12449799196787\n",
      "Iterations: 117000. Loss: 0.017885901033878326. Accuracy: 81.52610441767068\n",
      "Iterations: 118000. Loss: 0.5838537812232971. Accuracy: 81.52610441767068\n",
      "Iterations: 119000. Loss: 0.12161056697368622. Accuracy: 81.12449799196787\n",
      "Iterations: 120000. Loss: 0.0031082206405699253. Accuracy: 81.52610441767068\n",
      "Iterations: 121000. Loss: 0.14370451867580414. Accuracy: 81.12449799196787\n",
      "Iterations: 122000. Loss: 0.4986082911491394. Accuracy: 81.52610441767068\n",
      "Iterations: 123000. Loss: 0.06998324394226074. Accuracy: 81.52610441767068\n",
      "Iterations: 124000. Loss: 0.059031520038843155. Accuracy: 81.12449799196787\n",
      "Iterations: 125000. Loss: 0.09054553508758545. Accuracy: 81.52610441767068\n",
      "Iterations: 126000. Loss: 0.12037910521030426. Accuracy: 81.12449799196787\n",
      "Iterations: 127000. Loss: 0.05651284009218216. Accuracy: 81.52610441767068\n",
      "Iterations: 128000. Loss: 0.04411155730485916. Accuracy: 81.12449799196787\n",
      "Iterations: 129000. Loss: 0.08963558822870255. Accuracy: 81.52610441767068\n",
      "Iterations: 130000. Loss: 0.08624346554279327. Accuracy: 81.52610441767068\n",
      "Iterations: 131000. Loss: 0.03250868245959282. Accuracy: 81.12449799196787\n",
      "Iterations: 132000. Loss: 0.03317805752158165. Accuracy: 81.52610441767068\n",
      "Iterations: 133000. Loss: 0.2671850919723511. Accuracy: 81.12449799196787\n",
      "Iterations: 134000. Loss: 0.14492277801036835. Accuracy: 81.52610441767068\n",
      "Iterations: 135000. Loss: 0.2535203993320465. Accuracy: 81.52610441767068\n",
      "Iterations: 136000. Loss: 0.28900423645973206. Accuracy: 81.12449799196787\n",
      "Iterations: 137000. Loss: 0.011496515944600105. Accuracy: 81.52610441767068\n",
      "Iterations: 138000. Loss: 0.07033368200063705. Accuracy: 81.12449799196787\n",
      "Iterations: 139000. Loss: 0.008116974495351315. Accuracy: 81.52610441767068\n",
      "Iterations: 140000. Loss: 0.17661747336387634. Accuracy: 81.52610441767068\n",
      "Iterations: 141000. Loss: 0.02902768924832344. Accuracy: 81.12449799196787\n",
      "Iterations: 142000. Loss: 0.34000837802886963. Accuracy: 81.52610441767068\n",
      "Iterations: 143000. Loss: 0.07556764036417007. Accuracy: 81.12449799196787\n",
      "Iterations: 144000. Loss: 0.011565093882381916. Accuracy: 81.52610441767068\n",
      "Iterations: 145000. Loss: 0.01674162968993187. Accuracy: 81.52610441767068\n",
      "Iterations: 146000. Loss: 0.054748572409152985. Accuracy: 81.12449799196787\n",
      "Iterations: 147000. Loss: 0.18275891244411469. Accuracy: 81.52610441767068\n",
      "Iterations: 148000. Loss: 0.00960610993206501. Accuracy: 81.12449799196787\n",
      "Iterations: 149000. Loss: 0.0817088857293129. Accuracy: 81.52610441767068\n",
      "Iterations: 150000. Loss: 0.03916659206151962. Accuracy: 81.52610441767068\n",
      "Iterations: 151000. Loss: 0.36300039291381836. Accuracy: 81.12449799196787\n",
      "Iterations: 152000. Loss: 0.025495324283838272. Accuracy: 81.52610441767068\n",
      "Iterations: 153000. Loss: 0.02459113486111164. Accuracy: 81.12449799196787\n",
      "Iterations: 154000. Loss: 0.009185096248984337. Accuracy: 81.52610441767068\n",
      "Iterations: 155000. Loss: 0.05552292987704277. Accuracy: 81.12449799196787\n",
      "Iterations: 156000. Loss: 0.20246225595474243. Accuracy: 81.52610441767068\n",
      "Iterations: 157000. Loss: 0.137486070394516. Accuracy: 81.52610441767068\n",
      "Iterations: 158000. Loss: 0.04105543717741966. Accuracy: 81.52610441767068\n",
      "Iterations: 159000. Loss: 0.02200459875166416. Accuracy: 81.92771084337349\n",
      "Iterations: 160000. Loss: 0.01698344387114048. Accuracy: 81.92771084337349\n",
      "Iterations: 161000. Loss: 0.28331997990608215. Accuracy: 81.92771084337349\n",
      "Iterations: 162000. Loss: 0.3376797139644623. Accuracy: 81.92771084337349\n",
      "Iterations: 163000. Loss: 0.12709635496139526. Accuracy: 81.52610441767068\n",
      "Iterations: 164000. Loss: 0.012689067982137203. Accuracy: 81.92771084337349\n",
      "Iterations: 165000. Loss: 0.0658758357167244. Accuracy: 81.52610441767068\n",
      "Iterations: 166000. Loss: 0.19311034679412842. Accuracy: 81.92771084337349\n",
      "Iterations: 167000. Loss: 0.08005435019731522. Accuracy: 81.92771084337349\n",
      "Iterations: 168000. Loss: 0.01628083363175392. Accuracy: 81.52610441767068\n",
      "Iterations: 169000. Loss: 0.041553232818841934. Accuracy: 81.92771084337349\n",
      "Iterations: 170000. Loss: 0.003546235617250204. Accuracy: 81.52610441767068\n",
      "Iterations: 171000. Loss: 0.022945169359445572. Accuracy: 81.92771084337349\n",
      "Iterations: 172000. Loss: 0.23949506878852844. Accuracy: 81.92771084337349\n",
      "Iterations: 173000. Loss: 0.25138020515441895. Accuracy: 81.52610441767068\n",
      "Iterations: 174000. Loss: 0.4676443636417389. Accuracy: 81.92771084337349\n",
      "Iterations: 175000. Loss: 0.00559254689142108. Accuracy: 81.52610441767068\n",
      "Iterations: 176000. Loss: 0.03677928075194359. Accuracy: 81.92771084337349\n",
      "Iterations: 177000. Loss: 0.032749537378549576. Accuracy: 81.92771084337349\n",
      "Iterations: 178000. Loss: 0.30527690052986145. Accuracy: 81.92771084337349\n",
      "Iterations: 179000. Loss: 0.1093941181898117. Accuracy: 81.92771084337349\n",
      "Iterations: 180000. Loss: 0.2571598291397095. Accuracy: 81.52610441767068\n",
      "Iterations: 181000. Loss: 0.005340143106877804. Accuracy: 81.92771084337349\n",
      "Iterations: 182000. Loss: 0.28801974654197693. Accuracy: 81.92771084337349\n",
      "Iterations: 183000. Loss: 0.40816161036491394. Accuracy: 81.92771084337349\n",
      "Iterations: 184000. Loss: 0.26389461755752563. Accuracy: 81.92771084337349\n",
      "Iterations: 185000. Loss: 0.023747455328702927. Accuracy: 81.52610441767068\n",
      "Iterations: 186000. Loss: 0.27513137459754944. Accuracy: 81.92771084337349\n",
      "Iterations: 187000. Loss: 0.041421182453632355. Accuracy: 81.52610441767068\n",
      "Iterations: 188000. Loss: 0.013725066557526588. Accuracy: 81.92771084337349\n",
      "Iterations: 189000. Loss: 0.4062592089176178. Accuracy: 81.92771084337349\n",
      "Iterations: 190000. Loss: 0.10229011625051498. Accuracy: 81.52610441767068\n",
      "Iterations: 191000. Loss: 0.002069240203127265. Accuracy: 81.92771084337349\n",
      "Iterations: 192000. Loss: 0.1076614037156105. Accuracy: 81.52610441767068\n",
      "Iterations: 193000. Loss: 0.3881460130214691. Accuracy: 81.92771084337349\n",
      "Iterations: 194000. Loss: 0.05701232701539993. Accuracy: 81.92771084337349\n",
      "Iterations: 195000. Loss: 0.04652441665530205. Accuracy: 81.52610441767068\n",
      "Iterations: 196000. Loss: 0.06284014135599136. Accuracy: 81.92771084337349\n",
      "Iterations: 197000. Loss: 0.09323110431432724. Accuracy: 81.52610441767068\n",
      "Iterations: 198000. Loss: 0.040743570774793625. Accuracy: 81.92771084337349\n",
      "Iterations: 199000. Loss: 0.036305397748947144. Accuracy: 81.92771084337349\n"
     ]
    }
   ],
   "source": [
    "iter = 0\n",
    "for epoch in range(num_epochs):\n",
    "    for (sent,label) in train_data:\n",
    "        # Step 1 - clear the gradients\n",
    "        model_bow.zero_grad()\n",
    "        optimizer.zero_grad()\n",
    "        \n",
    "        ## Step 2- Prepare input and label\n",
    "        bow_vec = Variable(make_bow_vector(sent, word_2_idx))\n",
    "        target = Variable(make_target(label, label_2_idx))\n",
    "        \n",
    "        # Step 3 - Run forward pass\n",
    "        output = model_bow(bow_vec)\n",
    "        #print(\"Log probabilities - {}\".format(log_probs))\n",
    "        \n",
    "        # Step 4 - Compute loss, gradients, update parameters\n",
    "        loss = loss_function(output, target)\n",
    "        loss.backward()\n",
    "        optimizer.step()\n",
    "        \n",
    "        iter+=1      \n",
    "        ## Calculate final accuracy\n",
    "        if iter % 1000 ==0:\n",
    "            correct = 0\n",
    "            total = 0\n",
    "            for (sent,label) in test_data:\n",
    "                bow_vec = Variable(make_bow_vector(sent, word_2_idx))\n",
    "                target = Variable(make_target(label, label_2_idx))\n",
    "                output = model_bow(bow_vec)\n",
    "                _,predicted = torch.max(output.data,1)\n",
    "                total += target.size(0)\n",
    "                correct += (predicted == make_target(label, label_2_idx)).sum()\n",
    "            accuracy = 100 * correct/total\n",
    "            print('Iterations: {}. Loss: {}. Accuracy: {}'.format(iter,loss.data[0],accuracy))"
   ]
  },
  {
   "cell_type": "markdown",
   "metadata": {},
   "source": [
    "## Testing predictions"
   ]
  },
  {
   "cell_type": "code",
   "execution_count": 118,
   "metadata": {},
   "outputs": [
    {
     "data": {
      "text/plain": [
       "81.92771084337349"
      ]
     },
     "execution_count": 118,
     "metadata": {},
     "output_type": "execute_result"
    }
   ],
   "source": [
    "log_loss_model = loss.data[0]\n",
    "accuracy"
   ]
  },
  {
   "cell_type": "code",
   "execution_count": 127,
   "metadata": {},
   "outputs": [
    {
     "name": "stdout",
     "output_type": "stream",
     "text": [
      "-------------------- INPUT --------------------\n",
      "SENTENCE           = update my cell phone\n",
      "SENTENCE PROCESSED = updat cell phone\n",
      "-------------------- PREDICTION --------------------\n",
      "PRED       = 56\n",
      "PRED LABEL = personPersonalPhoneNumber.update\n"
     ]
    }
   ],
   "source": [
    "input_phrase = \"update my cell phone\"\n",
    "input_phrase_preprocessed = transformText(input_phrase,do_stop=False,do_stem=True)\n",
    "bow_vec = Variable(make_bow_vector(input_phrase_preprocessed, word_2_idx))\n",
    "print(\"-\"*20 + \" INPUT \"+\"-\"*20)\n",
    "print(\"SENTENCE           = {}\".format(input_phrase))\n",
    "print(\"SENTENCE PROCESSED = {}\".format(input_phrase_preprocessed))\n",
    "print(\"-\"*20 + \" PREDICTION \"+\"-\"*20)\n",
    "log_probs = model_bow(bow_vec)\n",
    "_,predicted = torch.max(log_probs.data,1)\n",
    "pred_label=list(label_2_idx.keys())[list(label_2_idx.values()).index(predicted[0])]\n",
    "print(\"PRED       = {}\".format(predicted[0]))\n",
    "print(\"PRED LABEL = {}\".format(pred_label))\n",
    "#print(\"LOG_PROB = {}\".format(log_probs))\n",
    "#print(\"PROBS = {}\".format(F.softmax(log_probs)))"
   ]
  },
  {
   "cell_type": "code",
   "execution_count": 245,
   "metadata": {},
   "outputs": [],
   "source": [
    "def get_reply_proba(msg):\n",
    "    input_phrase_preprocessed = transformText(msg,do_stop=False,do_stem=True)\n",
    "    bow_vec = Variable(make_bow_vector(input_phrase_preprocessed, word_2_idx))\n",
    "    log_probs = model_bow(bow_vec)\n",
    "    _,predicted = torch.max(log_probs.data,1)\n",
    "    pred_label=list(label_2_idx.keys())[list(label_2_idx.values()).index(predicted[0])]\n",
    "    \n",
    "    ## Getting probabilities\n",
    "    probs = F.softmax(log_probs.data)\n",
    "    probs = probs.data[0].numpy()\n",
    "    probs_frame = pd.DataFrame({'probs':probs,'label':list(label_2_idx)})\n",
    "    probs_frame=probs_frame.sort_values(['probs'], ascending=False)[0:3].reset_index(drop=True)\n",
    "    return pred_label,probs_frame"
   ]
  },
  {
   "cell_type": "code",
   "execution_count": 246,
   "metadata": {},
   "outputs": [
    {
     "data": {
      "text/html": [
       "<div>\n",
       "<style>\n",
       "    .dataframe thead tr:only-child th {\n",
       "        text-align: right;\n",
       "    }\n",
       "\n",
       "    .dataframe thead th {\n",
       "        text-align: left;\n",
       "    }\n",
       "\n",
       "    .dataframe tbody tr th {\n",
       "        vertical-align: top;\n",
       "    }\n",
       "</style>\n",
       "<table border=\"1\" class=\"dataframe\">\n",
       "  <thead>\n",
       "    <tr style=\"text-align: right;\">\n",
       "      <th></th>\n",
       "      <th>label</th>\n",
       "      <th>probs</th>\n",
       "    </tr>\n",
       "  </thead>\n",
       "  <tbody>\n",
       "    <tr>\n",
       "      <th>0</th>\n",
       "      <td>workerPersonalPhoneNumber.update</td>\n",
       "      <td>0.937300</td>\n",
       "    </tr>\n",
       "    <tr>\n",
       "      <th>1</th>\n",
       "      <td>personPersonalPhoneNumber.update</td>\n",
       "      <td>0.044293</td>\n",
       "    </tr>\n",
       "    <tr>\n",
       "      <th>2</th>\n",
       "      <td>workerPersonalEmail.update</td>\n",
       "      <td>0.004063</td>\n",
       "    </tr>\n",
       "  </tbody>\n",
       "</table>\n",
       "</div>"
      ],
      "text/plain": [
       "                              label     probs\n",
       "0  workerPersonalPhoneNumber.update  0.937300\n",
       "1  personPersonalPhoneNumber.update  0.044293\n",
       "2        workerPersonalEmail.update  0.004063"
      ]
     },
     "execution_count": 246,
     "metadata": {},
     "output_type": "execute_result"
    }
   ],
   "source": [
    "get_reply_proba(\"change employee phone\")[1]"
   ]
  },
  {
   "cell_type": "code",
   "execution_count": 247,
   "metadata": {},
   "outputs": [
    {
     "data": {
      "text/html": [
       "<div>\n",
       "<style>\n",
       "    .dataframe thead tr:only-child th {\n",
       "        text-align: right;\n",
       "    }\n",
       "\n",
       "    .dataframe thead th {\n",
       "        text-align: left;\n",
       "    }\n",
       "\n",
       "    .dataframe tbody tr th {\n",
       "        vertical-align: top;\n",
       "    }\n",
       "</style>\n",
       "<table border=\"1\" class=\"dataframe\">\n",
       "  <thead>\n",
       "    <tr style=\"text-align: right;\">\n",
       "      <th></th>\n",
       "      <th>label</th>\n",
       "      <th>probs</th>\n",
       "    </tr>\n",
       "  </thead>\n",
       "  <tbody>\n",
       "    <tr>\n",
       "      <th>0</th>\n",
       "      <td>jobBoard.create</td>\n",
       "      <td>0.838538</td>\n",
       "    </tr>\n",
       "    <tr>\n",
       "      <th>1</th>\n",
       "      <td>jobBoard.update</td>\n",
       "      <td>0.070859</td>\n",
       "    </tr>\n",
       "    <tr>\n",
       "      <th>2</th>\n",
       "      <td>jobBoard.delete</td>\n",
       "      <td>0.067941</td>\n",
       "    </tr>\n",
       "  </tbody>\n",
       "</table>\n",
       "</div>"
      ],
      "text/plain": [
       "             label     probs\n",
       "0  jobBoard.create  0.838538\n",
       "1  jobBoard.update  0.070859\n",
       "2  jobBoard.delete  0.067941"
      ]
     },
     "execution_count": 247,
     "metadata": {},
     "output_type": "execute_result"
    }
   ],
   "source": [
    "get_reply_proba(\"start job board\")[1]"
   ]
  },
  {
   "cell_type": "code",
   "execution_count": 248,
   "metadata": {},
   "outputs": [
    {
     "data": {
      "text/html": [
       "<div>\n",
       "<style>\n",
       "    .dataframe thead tr:only-child th {\n",
       "        text-align: right;\n",
       "    }\n",
       "\n",
       "    .dataframe thead th {\n",
       "        text-align: left;\n",
       "    }\n",
       "\n",
       "    .dataframe tbody tr th {\n",
       "        vertical-align: top;\n",
       "    }\n",
       "</style>\n",
       "<table border=\"1\" class=\"dataframe\">\n",
       "  <thead>\n",
       "    <tr style=\"text-align: right;\">\n",
       "      <th></th>\n",
       "      <th>label</th>\n",
       "      <th>probs</th>\n",
       "    </tr>\n",
       "  </thead>\n",
       "  <tbody>\n",
       "    <tr>\n",
       "      <th>0</th>\n",
       "      <td>jobBoard.delete</td>\n",
       "      <td>0.888908</td>\n",
       "    </tr>\n",
       "    <tr>\n",
       "      <th>1</th>\n",
       "      <td>jobBoard.create</td>\n",
       "      <td>0.051807</td>\n",
       "    </tr>\n",
       "    <tr>\n",
       "      <th>2</th>\n",
       "      <td>jobBoard.update</td>\n",
       "      <td>0.045804</td>\n",
       "    </tr>\n",
       "  </tbody>\n",
       "</table>\n",
       "</div>"
      ],
      "text/plain": [
       "             label     probs\n",
       "0  jobBoard.delete  0.888908\n",
       "1  jobBoard.create  0.051807\n",
       "2  jobBoard.update  0.045804"
      ]
     },
     "execution_count": 248,
     "metadata": {},
     "output_type": "execute_result"
    }
   ],
   "source": [
    "get_reply_proba(\"remove job board\")[1]"
   ]
  },
  {
   "cell_type": "code",
   "execution_count": null,
   "metadata": {},
   "outputs": [],
   "source": []
  }
 ],
 "metadata": {
  "kernelspec": {
   "display_name": "Python 3",
   "language": "python",
   "name": "python3"
  },
  "language_info": {
   "codemirror_mode": {
    "name": "ipython",
    "version": 3
   },
   "file_extension": ".py",
   "mimetype": "text/x-python",
   "name": "python",
   "nbconvert_exporter": "python",
   "pygments_lexer": "ipython3",
   "version": "3.6.3"
  }
 },
 "nbformat": 4,
 "nbformat_minor": 2
}
