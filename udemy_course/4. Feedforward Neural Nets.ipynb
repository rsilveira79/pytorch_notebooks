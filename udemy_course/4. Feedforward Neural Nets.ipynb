{
 "cells": [
  {
   "cell_type": "code",
   "execution_count": 1,
   "metadata": {},
   "outputs": [],
   "source": [
    "import torch\n",
    "import torch.nn as nn\n",
    "import torchtext"
   ]
  },
  {
   "cell_type": "code",
   "execution_count": 2,
   "metadata": {},
   "outputs": [],
   "source": [
    "## In addition to linear function, on FF NN we add a non-linear function (activation function)\n",
    "## Ex.: ReLU, sigmoid, Tanh, etc"
   ]
  },
  {
   "cell_type": "markdown",
   "metadata": {},
   "source": [
    "## Model 1 - 1 hidden layer"
   ]
  },
  {
   "cell_type": "code",
   "execution_count": 3,
   "metadata": {},
   "outputs": [],
   "source": [
    "## Steps \n",
    "# Step 1 - Load the dataset\n",
    "# Step 2 - Making the dataset iterable\n",
    "# Step 3 - Create model class\n",
    "# Step 4 - Instantiate model class\n",
    "# Step 5 - Instantiate loss class\n",
    "# Step 6 - Instantiate optimizer class\n",
    "# Step 7 - Train model"
   ]
  },
  {
   "cell_type": "code",
   "execution_count": 4,
   "metadata": {},
   "outputs": [],
   "source": [
    "import torchvision.transforms as transforms\n",
    "import torchvision.datasets as dataset\n",
    "from torch.autograd import Variable"
   ]
  },
  {
   "cell_type": "code",
   "execution_count": 5,
   "metadata": {},
   "outputs": [],
   "source": [
    "## Step 1 - loading the dataset\n",
    "train_dataset = dataset.MNIST(root = './data/',\n",
    "                             train = True,\n",
    "                             transform = transforms.ToTensor(),\n",
    "                             download = True)\n",
    "test_dataset = dataset.MNIST(root = './data/',\n",
    "                             train = False,\n",
    "                             transform = transforms.ToTensor())"
   ]
  },
  {
   "cell_type": "code",
   "execution_count": 7,
   "metadata": {},
   "outputs": [
    {
     "data": {
      "text/plain": [
       "\n",
       "(  0  ,.,.) = \n",
       "    0    0    0  ...     0    0    0\n",
       "    0    0    0  ...     0    0    0\n",
       "    0    0    0  ...     0    0    0\n",
       "      ...         ⋱        ...      \n",
       "    0    0    0  ...     0    0    0\n",
       "    0    0    0  ...     0    0    0\n",
       "    0    0    0  ...     0    0    0\n",
       "\n",
       "(  1  ,.,.) = \n",
       "    0    0    0  ...     0    0    0\n",
       "    0    0    0  ...     0    0    0\n",
       "    0    0    0  ...     0    0    0\n",
       "      ...         ⋱        ...      \n",
       "    0    0    0  ...     0    0    0\n",
       "    0    0    0  ...     0    0    0\n",
       "    0    0    0  ...     0    0    0\n",
       "\n",
       "(  2  ,.,.) = \n",
       "    0    0    0  ...     0    0    0\n",
       "    0    0    0  ...     0    0    0\n",
       "    0    0    0  ...     0    0    0\n",
       "      ...         ⋱        ...      \n",
       "    0    0    0  ...     0    0    0\n",
       "    0    0    0  ...     0    0    0\n",
       "    0    0    0  ...     0    0    0\n",
       " ...  \n",
       "\n",
       "(59997,.,.) = \n",
       "    0    0    0  ...     0    0    0\n",
       "    0    0    0  ...     0    0    0\n",
       "    0    0    0  ...     0    0    0\n",
       "      ...         ⋱        ...      \n",
       "    0    0    0  ...     0    0    0\n",
       "    0    0    0  ...     0    0    0\n",
       "    0    0    0  ...     0    0    0\n",
       "\n",
       "(59998,.,.) = \n",
       "    0    0    0  ...     0    0    0\n",
       "    0    0    0  ...     0    0    0\n",
       "    0    0    0  ...     0    0    0\n",
       "      ...         ⋱        ...      \n",
       "    0    0    0  ...     0    0    0\n",
       "    0    0    0  ...     0    0    0\n",
       "    0    0    0  ...     0    0    0\n",
       "\n",
       "(59999,.,.) = \n",
       "    0    0    0  ...     0    0    0\n",
       "    0    0    0  ...     0    0    0\n",
       "    0    0    0  ...     0    0    0\n",
       "      ...         ⋱        ...      \n",
       "    0    0    0  ...     0    0    0\n",
       "    0    0    0  ...     0    0    0\n",
       "    0    0    0  ...     0    0    0\n",
       "[torch.ByteTensor of size 60000x28x28]"
      ]
     },
     "execution_count": 7,
     "metadata": {},
     "output_type": "execute_result"
    }
   ],
   "source": [
    "train_dataset.train_data"
   ]
  },
  {
   "cell_type": "code",
   "execution_count": null,
   "metadata": {},
   "outputs": [],
   "source": [
    "## Step 2 - Making the dataset iterable\n",
    "batch_size = 50\n",
    "n_iters = 5000\n",
    "num_epochs = n_iters/(len(train_dataset)/batch_size)\n",
    "num_epochs = int(num_epochs)\n",
    "num_epochs"
   ]
  },
  {
   "cell_type": "code",
   "execution_count": null,
   "metadata": {},
   "outputs": [],
   "source": [
    "train_loader = torch.utils.data.DataLoader(dataset = train_dataset,\n",
    "                                        batch_size = batch_size,\n",
    "                                        shuffle = True)\n",
    "test_loader = torch.utils.data.DataLoader(dataset = test_dataset,\n",
    "                                        batch_size = batch_size,\n",
    "                                        shuffle = False)"
   ]
  },
  {
   "cell_type": "code",
   "execution_count": null,
   "metadata": {},
   "outputs": [],
   "source": [
    "train_loader"
   ]
  },
  {
   "cell_type": "code",
   "execution_count": null,
   "metadata": {},
   "outputs": [],
   "source": [
    "## Step 3 - Create model class\n",
    "class FFNeuralNet(nn.Module):\n",
    "    def __init__(self, input_dim, hidden_dim, output_dim):\n",
    "        super(FFNeuralNet, self).__init__()\n",
    "        ## Linear function\n",
    "        self.fcl = nn.Linear(input_dim, hidden_dim)\n",
    "        ## Non-linearity\n",
    "        self.sigmoid = nn.Sigmoid()\n",
    "        ## Linear function (readout)\n",
    "        self.fc2 = nn.Linear(hidden_dim, output_dim)\n",
    "    \n",
    "    def forward(self, x):\n",
    "        ## Linear function\n",
    "        out = self.fcl(x)\n",
    "        ## Non-linearity\n",
    "        out = self.sigmoid(out)\n",
    "        ## Linear function (readout)\n",
    "        out = self.fc2(out)\n",
    "        return out"
   ]
  },
  {
   "cell_type": "code",
   "execution_count": null,
   "metadata": {},
   "outputs": [],
   "source": [
    "## Step 4 - Instantiate model class\n",
    "input_dim = 28 * 28\n",
    "input_dim"
   ]
  },
  {
   "cell_type": "code",
   "execution_count": null,
   "metadata": {},
   "outputs": [],
   "source": [
    "hidden_dim =100\n",
    "output_dim = 10\n",
    "model = FFNeuralNet(input_dim, hidden_dim, output_dim)\n",
    "model"
   ]
  },
  {
   "cell_type": "code",
   "execution_count": null,
   "metadata": {},
   "outputs": [],
   "source": [
    "## Step 5 - Instantiate the loss class\n",
    "criterion = nn.CrossEntropyLoss()"
   ]
  },
  {
   "cell_type": "code",
   "execution_count": null,
   "metadata": {},
   "outputs": [],
   "source": [
    "## Step 6 - Instantiate the optimizer class\n",
    "learning_rate = 0.01\n",
    "optim = torch.optim.SGD(model.parameters(), lr = learning_rate)"
   ]
  },
  {
   "cell_type": "code",
   "execution_count": null,
   "metadata": {},
   "outputs": [],
   "source": [
    "print(model.parameters())\n",
    "print(len(list(model.parameters())))\n",
    "## Hidden layer\n",
    "print(list(model.parameters())[0].size())\n",
    "## FC1 Bias\n",
    "print(list(model.parameters())[1].size())\n",
    "## FC2 parameters\n",
    "print(list(model.parameters())[2].size())\n",
    "## FC2 bias parameters\n",
    "print(list(model.parameters())[3].size())"
   ]
  },
  {
   "cell_type": "code",
   "execution_count": null,
   "metadata": {},
   "outputs": [],
   "source": [
    "list(model.parameters())[0]"
   ]
  },
  {
   "cell_type": "code",
   "execution_count": null,
   "metadata": {},
   "outputs": [],
   "source": [
    "## Step 7 - Train the model\n",
    "iter = 0\n",
    "for epoch in range(3):\n",
    "    for i, (images, labels) in enumerate(train_loader):\n",
    "        ## Load images as variables\n",
    "        images = Variable(images.view(-1,28*28))\n",
    "        labels = Variable(labels)\n",
    "        #print(\"-\"*20 + \"DEBUG INFO\")\n",
    "        #print(labels)\n",
    "        #print(type(labels))\n",
    "        #print(labels.size())\n",
    "\n",
    "        ## Clear gradients\n",
    "        optim.zero_grad()\n",
    "\n",
    "        ## Forward pass to get output\n",
    "        outputs = model.forward(images)\n",
    "\n",
    "        ## Calculate loss function\n",
    "        loss = criterion(outputs, labels)\n",
    "\n",
    "        ## Backpropagate\n",
    "        loss.backward()\n",
    "\n",
    "        ## Update parameters\n",
    "        optim.step()\n",
    "\n",
    "        iter +=1\n",
    "\n",
    "        if iter %500 ==0:\n",
    "            ## Calculate accuracy\n",
    "            correct = 0\n",
    "            total =0\n",
    "\n",
    "            ## Iterate through test dataset\n",
    "            for images, labels in test_loader:\n",
    "                ## Variablea\n",
    "                images = Variable(images.view(-1,28*28))\n",
    "                ## Forward\n",
    "                output = model.forward(images)\n",
    "                ## Get predictions\n",
    "                _, predicted = torch.max(output.data,1)\n",
    "                ## Total number of labels\n",
    "                total += labels.size(0)\n",
    "                ## Total correct predictions\n",
    "                correct += (predicted == labels).sum()\n",
    "            accuracy = 100*correct/total\n",
    "            ## Print loss\n",
    "            print('Iteration {}, Loss {}, Accuracy {}'.format(iter,loss.data[0],accuracy))"
   ]
  },
  {
   "cell_type": "code",
   "execution_count": null,
   "metadata": {},
   "outputs": [],
   "source": [
    "list(model.parameters())[0][0:-1]"
   ]
  },
  {
   "cell_type": "markdown",
   "metadata": {},
   "source": [
    "## Model B - with Tanh"
   ]
  },
  {
   "cell_type": "code",
   "execution_count": null,
   "metadata": {},
   "outputs": [],
   "source": [
    "class FFNeuralNet_tanh(nn.Module):\n",
    "    def __init__(self, input_dim, hidden_dim, output_dim):\n",
    "        super(FFNeuralNet_tanh, self).__init__()\n",
    "        ## Linear function\n",
    "        self.fcl = nn.Linear(input_dim, hidden_dim)\n",
    "        ## Non-linearity\n",
    "        self.tanh = nn.Tanh()\n",
    "        ## Linear function (readout)\n",
    "        self.fc2 = nn.Linear(hidden_dim, output_dim)\n",
    "    \n",
    "    def forward(self, x):\n",
    "        ## Linear function\n",
    "        out = self.fcl(x)\n",
    "        ## Non-linearity\n",
    "        out = self.tanh(out)\n",
    "        ## Linear function (readout)\n",
    "        out = self.fc2(out)\n",
    "        return out"
   ]
  },
  {
   "cell_type": "code",
   "execution_count": null,
   "metadata": {},
   "outputs": [],
   "source": [
    "model_tanh = FFNeuralNet_tanh(input_dim, hidden_dim, output_dim)\n",
    "learning_rate = 0.01\n",
    "optim = torch.optim.SGD(model_tanh.parameters(), lr = learning_rate)"
   ]
  },
  {
   "cell_type": "code",
   "execution_count": null,
   "metadata": {},
   "outputs": [],
   "source": [
    "## Step 7 - Train the model\n",
    "iter = 0\n",
    "for epoch in range(num_epochs):\n",
    "    for i, (images, labels) in enumerate(train_loader):\n",
    "        ## Load images as variables\n",
    "        images = Variable(images.view(-1,28*28))\n",
    "        labels = Variable(labels)\n",
    "\n",
    "        ## Clear gradients\n",
    "        optim.zero_grad()\n",
    "\n",
    "        ## Forward pass to get output\n",
    "        outputs = model_tanh.forward(images)\n",
    "\n",
    "        ## Calculate loss function\n",
    "        loss = criterion(outputs, labels)\n",
    "\n",
    "        ## Backpropagate\n",
    "        loss.backward()\n",
    "\n",
    "        ## Update parameters\n",
    "        optim.step()\n",
    "\n",
    "        iter +=1\n",
    "\n",
    "        if iter %500 ==0:\n",
    "            ## Calculate accuracy\n",
    "            correct = 0\n",
    "            total =0\n",
    "\n",
    "            ## Iterate through test dataset\n",
    "            for images, labels in test_loader:\n",
    "                ## Variablea\n",
    "                images = Variable(images.view(-1,28*28))\n",
    "                ## Forward\n",
    "                output = model_tanh.forward(images)\n",
    "                ## Get predictions\n",
    "                _, predicted = torch.max(output.data,1)\n",
    "                ## Total number of labels\n",
    "                total += labels.size(0)\n",
    "                ## Total correct predictions\n",
    "                correct += (predicted == labels).sum()\n",
    "            accuracy = 100*correct/total\n",
    "            ## Print loss\n",
    "            print('Iteration {}, Loss {}, Accuracy {}'.format(iter,loss.data[0],accuracy))"
   ]
  },
  {
   "cell_type": "markdown",
   "metadata": {},
   "source": [
    "## Model C - with ReLU"
   ]
  },
  {
   "cell_type": "code",
   "execution_count": null,
   "metadata": {},
   "outputs": [],
   "source": [
    "class FFNeuralNet_relu(nn.Module):\n",
    "    def __init__(self, input_dim, hidden_dim, output_dim):\n",
    "        super(FFNeuralNet_relu, self).__init__()\n",
    "        ## Linear function\n",
    "        self.fcl = nn.Linear(input_dim, hidden_dim)\n",
    "        ## Non-linearity\n",
    "        self.relu = nn.ReLU()\n",
    "        ## Linear function (readout)\n",
    "        self.fc2 = nn.Linear(hidden_dim, output_dim)\n",
    "    \n",
    "    def forward(self, x):\n",
    "        ## Linear function\n",
    "        out = self.fcl(x)\n",
    "        ## Non-linearity\n",
    "        out = self.relu(out)\n",
    "        ## Linear function (readout)\n",
    "        out = self.fc2(out)\n",
    "        return out"
   ]
  },
  {
   "cell_type": "code",
   "execution_count": null,
   "metadata": {},
   "outputs": [],
   "source": [
    "model_relu = FFNeuralNet_relu(input_dim, hidden_dim, output_dim)\n",
    "learning_rate = 0.01\n",
    "optim = torch.optim.SGD(model_relu.parameters(), lr = learning_rate)"
   ]
  },
  {
   "cell_type": "code",
   "execution_count": null,
   "metadata": {},
   "outputs": [],
   "source": [
    "## Step 7 - Train the model\n",
    "iter = 0\n",
    "for epoch in range(num_epochs):\n",
    "    for i, (images, labels) in enumerate(train_loader):\n",
    "        ## Load images as variables\n",
    "        images = Variable(images.view(-1,28*28))\n",
    "        labels = Variable(labels)\n",
    "\n",
    "        ## Clear gradients\n",
    "        optim.zero_grad()\n",
    "\n",
    "        ## Forward pass to get output\n",
    "        outputs = model_relu.forward(images)\n",
    "\n",
    "        ## Calculate loss function\n",
    "        loss = criterion(outputs, labels)\n",
    "\n",
    "        ## Backpropagate\n",
    "        loss.backward()\n",
    "\n",
    "        ## Update parameters\n",
    "        optim.step()\n",
    "\n",
    "        iter +=1\n",
    "\n",
    "        if iter %500 ==0:\n",
    "            ## Calculate accuracy\n",
    "            correct = 0\n",
    "            total =0\n",
    "\n",
    "            ## Iterate through test dataset\n",
    "            for images, labels in test_loader:\n",
    "                ## Variablea\n",
    "                images = Variable(images.view(-1,28*28))\n",
    "                ## Forward\n",
    "                output = model_relu.forward(images)\n",
    "                ## Get predictions\n",
    "                _, predicted = torch.max(output.data,1)\n",
    "                ## Total number of labels\n",
    "                total += labels.size(0)\n",
    "                ## Total correct predictions\n",
    "                correct += (predicted == labels).sum()\n",
    "            accuracy = 100*correct/total\n",
    "            ## Print loss\n",
    "            print('Iteration {}, Loss {}, Accuracy {}'.format(iter,loss.data[0],accuracy))"
   ]
  },
  {
   "cell_type": "markdown",
   "metadata": {},
   "source": [
    "## Model D - 2 hiddel with ReLU"
   ]
  },
  {
   "cell_type": "code",
   "execution_count": null,
   "metadata": {},
   "outputs": [],
   "source": [
    "class FFNeuralNet_relu2(nn.Module):\n",
    "    def __init__(self, input_dim, hidden_dim, output_dim):\n",
    "        super(FFNeuralNet_relu2, self).__init__()\n",
    "        ## Linear function\n",
    "        self.fcl = nn.Linear(input_dim, hidden_dim)\n",
    "        ## Non-linearity\n",
    "        self.relu1 = nn.ReLU()\n",
    "        ## Linear function \n",
    "        self.fc2 = nn.Linear(hidden_dim, hidden_dim)\n",
    "        ## Non-linearity\n",
    "        self.relu2 = nn.ReLU()\n",
    "        ## Linear function (readout)\n",
    "        self.fc3 = nn.Linear(hidden_dim, output_dim)\n",
    "    \n",
    "    def forward(self, x):\n",
    "        ## Linear function\n",
    "        out = self.fcl(x)\n",
    "        ## Non-linearity\n",
    "        out = self.relu1(out)\n",
    "        ## Linear function \n",
    "        out = self.fc2(out)\n",
    "        ## Non-linear 2\n",
    "        out = self.relu2(out)\n",
    "        ## Linear (readout)\n",
    "        out = self.fc3(out)\n",
    "        return out"
   ]
  },
  {
   "cell_type": "code",
   "execution_count": null,
   "metadata": {},
   "outputs": [],
   "source": [
    "model_relu2 = FFNeuralNet_relu2(input_dim, hidden_dim, output_dim)\n",
    "learning_rate = 0.01\n",
    "hidden_dim = 200\n",
    "optim = torch.optim.SGD(model_relu2.parameters(), lr = learning_rate)"
   ]
  },
  {
   "cell_type": "code",
   "execution_count": null,
   "metadata": {},
   "outputs": [],
   "source": [
    "## Step 7 - Train the model\n",
    "iter = 0\n",
    "for epoch in range(num_epochs):\n",
    "    for i, (images, labels) in enumerate(train_loader):\n",
    "        ## Load images as variables\n",
    "        images = Variable(images.view(-1,28*28))\n",
    "        labels = Variable(labels)\n",
    "\n",
    "        ## Clear gradients\n",
    "        optim.zero_grad()\n",
    "\n",
    "        ## Forward pass to get output\n",
    "        outputs = model_relu2.forward(images)\n",
    "\n",
    "        ## Calculate loss function\n",
    "        loss = criterion(outputs, labels)\n",
    "\n",
    "        ## Backpropagate\n",
    "        loss.backward()\n",
    "\n",
    "        ## Update parameters\n",
    "        optim.step()\n",
    "\n",
    "        iter +=1\n",
    "\n",
    "        if iter %500 ==0:\n",
    "            ## Calculate accuracy\n",
    "            correct = 0\n",
    "            total =0\n",
    "\n",
    "            ## Iterate through test dataset\n",
    "            for images, labels in test_loader:\n",
    "                ## Variablea\n",
    "                images = Variable(images.view(-1,28*28))\n",
    "                ## Forward\n",
    "                output = model_relu2.forward(images)\n",
    "                ## Get predictions\n",
    "                _, predicted = torch.max(output.data,1)\n",
    "                ## Total number of labels\n",
    "                total += labels.size(0)\n",
    "                ## Total correct predictions\n",
    "                correct += (predicted == labels).sum()\n",
    "            accuracy = 100*correct/total\n",
    "            ## Print loss\n",
    "            print('Iteration {}, Loss {}, Accuracy {}'.format(iter,loss.data[0],accuracy))"
   ]
  },
  {
   "cell_type": "markdown",
   "metadata": {},
   "source": [
    "## From CPU to GPU"
   ]
  },
  {
   "cell_type": "code",
   "execution_count": null,
   "metadata": {},
   "outputs": [],
   "source": [
    "if torch.cuda.is_available():\n",
    "    print('GPU available')\n",
    "    model_relu2.cuda()"
   ]
  },
  {
   "cell_type": "code",
   "execution_count": null,
   "metadata": {},
   "outputs": [],
   "source": [
    "## Step 7 - Train the model\n",
    "iter = 0\n",
    "for epoch in range(num_epochs):\n",
    "    for i, (images, labels) in enumerate(train_loader):\n",
    "        ## Load images as variables\n",
    "        if torch.cuda.is_available():\n",
    "            images = Variable(images.view(-1,28*28).cuda())\n",
    "            labels = Variable(labels.cuda())\n",
    "        else:\n",
    "            images = Variable(images.view(-1,28*28))\n",
    "            labels = Variable(labels)\n",
    "\n",
    "        ## Clear gradients\n",
    "        optim.zero_grad()\n",
    "\n",
    "        ## Forward pass to get output\n",
    "        outputs = model_relu2.forward(images)\n",
    "\n",
    "        ## Calculate loss function\n",
    "        loss = criterion(outputs, labels)\n",
    "\n",
    "        ## Backpropagate\n",
    "        loss.backward()\n",
    "\n",
    "        ## Update parameters\n",
    "        optim.step()\n",
    "\n",
    "        iter +=1\n",
    "\n",
    "        if iter %500 ==0:\n",
    "            ## Calculate accuracy\n",
    "            correct = 0\n",
    "            total =0\n",
    "\n",
    "            ## Iterate through test dataset\n",
    "            for images, labels in test_loader:\n",
    "                ## Variablea\n",
    "                if torch.cuda.is_available():\n",
    "                    images = Variable(images.view(-1,28*28).cuda())\n",
    "                else:\n",
    "                    images = Variable(images.view(-1,28*28))\n",
    "                ## Forward\n",
    "                output = model_relu2.forward(images)\n",
    "                ## Get predictions\n",
    "                _, predicted = torch.max(output.data,1)\n",
    "                ## Total number of labels\n",
    "                total += labels.size(0)\n",
    "                ## Total correct predictions\n",
    "                correct += (predicted == labels).sum()\n",
    "            accuracy = 100*correct/total\n",
    "            ## Print loss\n",
    "            print('Iteration {}, Loss {}, Accuracy {}'.format(iter,loss.data[0],accuracy))"
   ]
  },
  {
   "cell_type": "code",
   "execution_count": null,
   "metadata": {},
   "outputs": [],
   "source": []
  }
 ],
 "metadata": {
  "kernelspec": {
   "display_name": "Python 3",
   "language": "python",
   "name": "python3"
  },
  "language_info": {
   "codemirror_mode": {
    "name": "ipython",
    "version": 3
   },
   "file_extension": ".py",
   "mimetype": "text/x-python",
   "name": "python",
   "nbconvert_exporter": "python",
   "pygments_lexer": "ipython3",
   "version": "3.6.3"
  }
 },
 "nbformat": 4,
 "nbformat_minor": 2
}
