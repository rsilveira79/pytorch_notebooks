{
 "cells": [
  {
   "cell_type": "code",
   "execution_count": 1,
   "metadata": {},
   "outputs": [
    {
     "name": "stderr",
     "output_type": "stream",
     "text": [
      "Using TensorFlow backend.\n",
      "/Users/rsilvei/Envs/nlp/lib/python3.6/importlib/_bootstrap.py:219: RuntimeWarning: compiletime version 3.5 of module 'tensorflow.python.framework.fast_tensor_util' does not match runtime version 3.6\n",
      "  return f(*args, **kwds)\n"
     ]
    },
    {
     "name": "stdout",
     "output_type": "stream",
     "text": [
      "[nltk_data] Downloading package stopwords to\n",
      "[nltk_data]     /Users/rsilvei/nltk_data...\n",
      "[nltk_data]   Package stopwords is already up-to-date!\n"
     ]
    },
    {
     "data": {
      "text/plain": [
       "True"
      ]
     },
     "execution_count": 1,
     "metadata": {},
     "output_type": "execute_result"
    }
   ],
   "source": [
    "import pickle\n",
    "import re\n",
    "import pandas as pd\n",
    "import numpy as np\n",
    "\n",
    "## Torch imports\n",
    "import torch\n",
    "from torch.autograd import Variable\n",
    "import torch.nn as nn\n",
    "import torch.nn.functional as F\n",
    "import torch.optim as optim\n",
    "\n",
    "## Sklearn imports\n",
    "from sklearn import preprocessing\n",
    "from sklearn.model_selection import train_test_split\n",
    "from sklearn.feature_extraction.text import TfidfVectorizer, CountVectorizer\n",
    "from sklearn.linear_model import SGDClassifier\n",
    "from sklearn.metrics import accuracy_score, log_loss\n",
    "\n",
    "## NLP Libraries\n",
    "import spacy\n",
    "from sklearn.model_selection import train_test_split\n",
    "from nltk import download\n",
    "import gensim\n",
    "from nltk.corpus import stopwords\n",
    "spacy_en = spacy.load('en')\n",
    "download('stopwords')"
   ]
  },
  {
   "cell_type": "code",
   "execution_count": 2,
   "metadata": {},
   "outputs": [
    {
     "name": "stdout",
     "output_type": "stream",
     "text": [
      "baseline_handcrafted_features.ipynb   intents_5.csv\r\n",
      "baseline_handcrafted_features_2.ipynb intents_6.csv\r\n",
      "dataset_apiai_9.csv                   intents_7.csv\r\n",
      "dataset_apiai_vocab_9.pkl             intents_8.csv\r\n",
      "intents_1.csv                         intents_9.csv\r\n",
      "intents_10.csv                        test.pkl\r\n",
      "intents_11.csv                        test_complete.pkl\r\n",
      "intents_12.csv                        test_dataset_to_pickle.ipynb\r\n",
      "intents_13.csv                        torch_vectors_bow_baselines.ipynb\r\n",
      "intents_2.csv                         torch_vectors_lstm_gru_word2vec.ipynb\r\n",
      "intents_3.csv                         train.pkl\r\n",
      "intents_4.csv\r\n"
     ]
    }
   ],
   "source": [
    "!ls"
   ]
  },
  {
   "cell_type": "code",
   "execution_count": 3,
   "metadata": {},
   "outputs": [
    {
     "name": "stdout",
     "output_type": "stream",
     "text": [
      "Train size: 788\n"
     ]
    },
    {
     "data": {
      "text/html": [
       "<div>\n",
       "<style>\n",
       "    .dataframe thead tr:only-child th {\n",
       "        text-align: right;\n",
       "    }\n",
       "\n",
       "    .dataframe thead th {\n",
       "        text-align: left;\n",
       "    }\n",
       "\n",
       "    .dataframe tbody tr th {\n",
       "        vertical-align: top;\n",
       "    }\n",
       "</style>\n",
       "<table border=\"1\" class=\"dataframe\">\n",
       "  <thead>\n",
       "    <tr style=\"text-align: right;\">\n",
       "      <th></th>\n",
       "      <th>usersays</th>\n",
       "      <th>intent</th>\n",
       "    </tr>\n",
       "  </thead>\n",
       "  <tbody>\n",
       "    <tr>\n",
       "      <th>783</th>\n",
       "      <td>Modify Vincent smoking status</td>\n",
       "      <td>workerTobaccoUsageStatus.update</td>\n",
       "    </tr>\n",
       "    <tr>\n",
       "      <th>784</th>\n",
       "      <td>Martha smokes</td>\n",
       "      <td>workerTobaccoUsageStatus.update</td>\n",
       "    </tr>\n",
       "    <tr>\n",
       "      <th>785</th>\n",
       "      <td>Bill start using tobacco</td>\n",
       "      <td>workerTobaccoUsageStatus.update</td>\n",
       "    </tr>\n",
       "    <tr>\n",
       "      <th>786</th>\n",
       "      <td>Margarite start smoking</td>\n",
       "      <td>workerTobaccoUsageStatus.update</td>\n",
       "    </tr>\n",
       "    <tr>\n",
       "      <th>787</th>\n",
       "      <td>Employee quit smoking</td>\n",
       "      <td>workerTobaccoUsageStatus.update</td>\n",
       "    </tr>\n",
       "  </tbody>\n",
       "</table>\n",
       "</div>"
      ],
      "text/plain": [
       "                          usersays                           intent\n",
       "783  Modify Vincent smoking status  workerTobaccoUsageStatus.update\n",
       "784                  Martha smokes  workerTobaccoUsageStatus.update\n",
       "785       Bill start using tobacco  workerTobaccoUsageStatus.update\n",
       "786        Margarite start smoking  workerTobaccoUsageStatus.update\n",
       "787          Employee quit smoking  workerTobaccoUsageStatus.update"
      ]
     },
     "execution_count": 3,
     "metadata": {},
     "output_type": "execute_result"
    }
   ],
   "source": [
    "train = pd.read_csv('dataset_apiai_9.csv', delimiter=\";\")\n",
    "print(\"Train size: {}\".format(len(train)))\n",
    "train.tail()"
   ]
  },
  {
   "cell_type": "code",
   "execution_count": 4,
   "metadata": {},
   "outputs": [
    {
     "name": "stdout",
     "output_type": "stream",
     "text": [
      "Train size: 777\n"
     ]
    }
   ],
   "source": [
    "## Filtering out useless classes\n",
    "train = train[train['intent']!='init.greetings']\n",
    "train = train[train['intent']!='Default Welcome Intent']\n",
    "print(\"Train size: {}\".format(len(train)))"
   ]
  },
  {
   "cell_type": "code",
   "execution_count": 5,
   "metadata": {},
   "outputs": [
    {
     "name": "stdout",
     "output_type": "stream",
     "text": [
      "baseline_handcrafted_features.ipynb   intents_5.csv\r\n",
      "baseline_handcrafted_features_2.ipynb intents_6.csv\r\n",
      "dataset_apiai_9.csv                   intents_7.csv\r\n",
      "dataset_apiai_vocab_9.pkl             intents_8.csv\r\n",
      "intents_1.csv                         intents_9.csv\r\n",
      "intents_10.csv                        test.pkl\r\n",
      "intents_11.csv                        test_complete.pkl\r\n",
      "intents_12.csv                        test_dataset_to_pickle.ipynb\r\n",
      "intents_13.csv                        torch_vectors_bow_baselines.ipynb\r\n",
      "intents_2.csv                         torch_vectors_lstm_gru_word2vec.ipynb\r\n",
      "intents_3.csv                         train.pkl\r\n",
      "intents_4.csv\r\n"
     ]
    }
   ],
   "source": [
    "!ls"
   ]
  },
  {
   "cell_type": "code",
   "execution_count": 6,
   "metadata": {},
   "outputs": [],
   "source": [
    "with open('test_complete.pkl', 'rb') as f:\n",
    "    test = pickle.load(f)"
   ]
  },
  {
   "cell_type": "code",
   "execution_count": 7,
   "metadata": {},
   "outputs": [
    {
     "data": {
      "text/html": [
       "<div>\n",
       "<style>\n",
       "    .dataframe thead tr:only-child th {\n",
       "        text-align: right;\n",
       "    }\n",
       "\n",
       "    .dataframe thead th {\n",
       "        text-align: left;\n",
       "    }\n",
       "\n",
       "    .dataframe tbody tr th {\n",
       "        vertical-align: top;\n",
       "    }\n",
       "</style>\n",
       "<table border=\"1\" class=\"dataframe\">\n",
       "  <thead>\n",
       "    <tr style=\"text-align: right;\">\n",
       "      <th></th>\n",
       "      <th>usersays</th>\n",
       "      <th>intent</th>\n",
       "    </tr>\n",
       "  </thead>\n",
       "  <tbody>\n",
       "    <tr>\n",
       "      <th>795</th>\n",
       "      <td>update my worker birth day</td>\n",
       "      <td>workerBirthInformation.update</td>\n",
       "    </tr>\n",
       "    <tr>\n",
       "      <th>796</th>\n",
       "      <td>i want to change my labour birth information</td>\n",
       "      <td>workerBirthInformation.update</td>\n",
       "    </tr>\n",
       "    <tr>\n",
       "      <th>797</th>\n",
       "      <td>need form i9</td>\n",
       "      <td>worker.usI9Screening.section1.complete</td>\n",
       "    </tr>\n",
       "    <tr>\n",
       "      <th>798</th>\n",
       "      <td>modifications required in birth information</td>\n",
       "      <td>personBirthInformation.update</td>\n",
       "    </tr>\n",
       "    <tr>\n",
       "      <th>799</th>\n",
       "      <td>how to change labourer email id</td>\n",
       "      <td>workerPersonalEmail.update</td>\n",
       "    </tr>\n",
       "  </tbody>\n",
       "</table>\n",
       "</div>"
      ],
      "text/plain": [
       "                                         usersays  \\\n",
       "795                    update my worker birth day   \n",
       "796  i want to change my labour birth information   \n",
       "797                                  need form i9   \n",
       "798   modifications required in birth information   \n",
       "799               how to change labourer email id   \n",
       "\n",
       "                                     intent  \n",
       "795           workerBirthInformation.update  \n",
       "796           workerBirthInformation.update  \n",
       "797  worker.usI9Screening.section1.complete  \n",
       "798           personBirthInformation.update  \n",
       "799              workerPersonalEmail.update  "
      ]
     },
     "execution_count": 7,
     "metadata": {},
     "output_type": "execute_result"
    }
   ],
   "source": [
    "test= test.sample(frac=1).reset_index(drop=True)\n",
    "test=test.rename(index=str, columns={\"Intents\": \"usersays\", \"label\": \"intent\"})\n",
    "test.tail()"
   ]
  },
  {
   "cell_type": "code",
   "execution_count": 9,
   "metadata": {},
   "outputs": [
    {
     "name": "stdout",
     "output_type": "stream",
     "text": [
      "1577\n"
     ]
    },
    {
     "data": {
      "text/html": [
       "<div>\n",
       "<style>\n",
       "    .dataframe thead tr:only-child th {\n",
       "        text-align: right;\n",
       "    }\n",
       "\n",
       "    .dataframe thead th {\n",
       "        text-align: left;\n",
       "    }\n",
       "\n",
       "    .dataframe tbody tr th {\n",
       "        vertical-align: top;\n",
       "    }\n",
       "</style>\n",
       "<table border=\"1\" class=\"dataframe\">\n",
       "  <thead>\n",
       "    <tr style=\"text-align: right;\">\n",
       "      <th></th>\n",
       "      <th>usersays</th>\n",
       "      <th>intent</th>\n",
       "    </tr>\n",
       "  </thead>\n",
       "  <tbody>\n",
       "    <tr>\n",
       "      <th>1572</th>\n",
       "      <td>how to change employee email id</td>\n",
       "      <td>workerPersonalEmail.update</td>\n",
       "    </tr>\n",
       "    <tr>\n",
       "      <th>1573</th>\n",
       "      <td>E agent, can you please upload this person doc...</td>\n",
       "      <td>personDocument.upload</td>\n",
       "    </tr>\n",
       "    <tr>\n",
       "      <th>1574</th>\n",
       "      <td>Please adjust personal phone number</td>\n",
       "      <td>personPersonalPhoneNumber.update</td>\n",
       "    </tr>\n",
       "    <tr>\n",
       "      <th>1575</th>\n",
       "      <td>Changes in worker electronic mail</td>\n",
       "      <td>workerPersonalEmail.update</td>\n",
       "    </tr>\n",
       "    <tr>\n",
       "      <th>1576</th>\n",
       "      <td>modify worker email address</td>\n",
       "      <td>workerPersonalEmail.update</td>\n",
       "    </tr>\n",
       "  </tbody>\n",
       "</table>\n",
       "</div>"
      ],
      "text/plain": [
       "                                               usersays  \\\n",
       "1572                    how to change employee email id   \n",
       "1573  E agent, can you please upload this person doc...   \n",
       "1574                Please adjust personal phone number   \n",
       "1575                  Changes in worker electronic mail   \n",
       "1576                        modify worker email address   \n",
       "\n",
       "                                intent  \n",
       "1572        workerPersonalEmail.update  \n",
       "1573             personDocument.upload  \n",
       "1574  personPersonalPhoneNumber.update  \n",
       "1575        workerPersonalEmail.update  \n",
       "1576        workerPersonalEmail.update  "
      ]
     },
     "execution_count": 9,
     "metadata": {},
     "output_type": "execute_result"
    }
   ],
   "source": [
    "train_full = train.append([test]).reset_index(drop=True)\n",
    "train_full=train_full.sample(frac=1).reset_index(drop=True)\n",
    "print(len(train_full))\n",
    "train_full.tail()"
   ]
  },
  {
   "cell_type": "code",
   "execution_count": 10,
   "metadata": {},
   "outputs": [
    {
     "data": {
      "text/html": [
       "<div>\n",
       "<style>\n",
       "    .dataframe thead tr:only-child th {\n",
       "        text-align: right;\n",
       "    }\n",
       "\n",
       "    .dataframe thead th {\n",
       "        text-align: left;\n",
       "    }\n",
       "\n",
       "    .dataframe tbody tr th {\n",
       "        vertical-align: top;\n",
       "    }\n",
       "</style>\n",
       "<table border=\"1\" class=\"dataframe\">\n",
       "  <thead>\n",
       "    <tr style=\"text-align: right;\">\n",
       "      <th></th>\n",
       "      <th>usersays</th>\n",
       "      <th>intent</th>\n",
       "    </tr>\n",
       "  </thead>\n",
       "  <tbody>\n",
       "    <tr>\n",
       "      <th>151</th>\n",
       "      <td>Who is Danny Ocean compensation partner?</td>\n",
       "      <td>question.detect</td>\n",
       "    </tr>\n",
       "    <tr>\n",
       "      <th>163</th>\n",
       "      <td>What languages Danny speaks?</td>\n",
       "      <td>question.detect</td>\n",
       "    </tr>\n",
       "    <tr>\n",
       "      <th>194</th>\n",
       "      <td>What is Teresa compensation?</td>\n",
       "      <td>question.detect</td>\n",
       "    </tr>\n",
       "    <tr>\n",
       "      <th>227</th>\n",
       "      <td>Who is my supervisor?</td>\n",
       "      <td>question.detect</td>\n",
       "    </tr>\n",
       "    <tr>\n",
       "      <th>311</th>\n",
       "      <td>Who is New York supervisor?</td>\n",
       "      <td>question.detect</td>\n",
       "    </tr>\n",
       "    <tr>\n",
       "      <th>425</th>\n",
       "      <td>What's Danny's's salary?</td>\n",
       "      <td>question.detect</td>\n",
       "    </tr>\n",
       "    <tr>\n",
       "      <th>536</th>\n",
       "      <td>What is Corey email?</td>\n",
       "      <td>question.detect</td>\n",
       "    </tr>\n",
       "    <tr>\n",
       "      <th>593</th>\n",
       "      <td>Who is Teresa Brown HR partner?</td>\n",
       "      <td>question.detect</td>\n",
       "    </tr>\n",
       "    <tr>\n",
       "      <th>603</th>\n",
       "      <td>What are the contacts of Violet?</td>\n",
       "      <td>question.detect</td>\n",
       "    </tr>\n",
       "    <tr>\n",
       "      <th>642</th>\n",
       "      <td>Which languages Teresa speaks?</td>\n",
       "      <td>question.detect</td>\n",
       "    </tr>\n",
       "    <tr>\n",
       "      <th>654</th>\n",
       "      <td>Who is sales VP?</td>\n",
       "      <td>question.detect</td>\n",
       "    </tr>\n",
       "    <tr>\n",
       "      <th>772</th>\n",
       "      <td>How many vacations days left I have?</td>\n",
       "      <td>question.detect</td>\n",
       "    </tr>\n",
       "    <tr>\n",
       "      <th>775</th>\n",
       "      <td>When was last time Danny Ocean took vacation?</td>\n",
       "      <td>question.detect</td>\n",
       "    </tr>\n",
       "    <tr>\n",
       "      <th>797</th>\n",
       "      <td>What is Anthony Albright phone number?</td>\n",
       "      <td>question.detect</td>\n",
       "    </tr>\n",
       "    <tr>\n",
       "      <th>965</th>\n",
       "      <td>And Violet Cohen contacts?</td>\n",
       "      <td>question.detect</td>\n",
       "    </tr>\n",
       "    <tr>\n",
       "      <th>1110</th>\n",
       "      <td>What are Violet Cohen contacts?</td>\n",
       "      <td>question.detect</td>\n",
       "    </tr>\n",
       "    <tr>\n",
       "      <th>1114</th>\n",
       "      <td>Where Danny Ocean studied?</td>\n",
       "      <td>question.detect</td>\n",
       "    </tr>\n",
       "    <tr>\n",
       "      <th>1156</th>\n",
       "      <td>When last last time Teresa took vacation?</td>\n",
       "      <td>question.detect</td>\n",
       "    </tr>\n",
       "    <tr>\n",
       "      <th>1167</th>\n",
       "      <td>Where did Teresa Brown studied?</td>\n",
       "      <td>question.detect</td>\n",
       "    </tr>\n",
       "    <tr>\n",
       "      <th>1381</th>\n",
       "      <td>Who is Boston Supervisor?</td>\n",
       "      <td>question.detect</td>\n",
       "    </tr>\n",
       "    <tr>\n",
       "      <th>1385</th>\n",
       "      <td>Violet Cohen contacts?</td>\n",
       "      <td>question.detect</td>\n",
       "    </tr>\n",
       "    <tr>\n",
       "      <th>1439</th>\n",
       "      <td>Who reports to me?</td>\n",
       "      <td>question.detect</td>\n",
       "    </tr>\n",
       "  </tbody>\n",
       "</table>\n",
       "</div>"
      ],
      "text/plain": [
       "                                           usersays           intent\n",
       "151        Who is Danny Ocean compensation partner?  question.detect\n",
       "163                    What languages Danny speaks?  question.detect\n",
       "194                    What is Teresa compensation?  question.detect\n",
       "227                           Who is my supervisor?  question.detect\n",
       "311                     Who is New York supervisor?  question.detect\n",
       "425                        What's Danny's's salary?  question.detect\n",
       "536                            What is Corey email?  question.detect\n",
       "593                 Who is Teresa Brown HR partner?  question.detect\n",
       "603                What are the contacts of Violet?  question.detect\n",
       "642                  Which languages Teresa speaks?  question.detect\n",
       "654                                Who is sales VP?  question.detect\n",
       "772            How many vacations days left I have?  question.detect\n",
       "775   When was last time Danny Ocean took vacation?  question.detect\n",
       "797          What is Anthony Albright phone number?  question.detect\n",
       "965                      And Violet Cohen contacts?  question.detect\n",
       "1110                What are Violet Cohen contacts?  question.detect\n",
       "1114                     Where Danny Ocean studied?  question.detect\n",
       "1156      When last last time Teresa took vacation?  question.detect\n",
       "1167                Where did Teresa Brown studied?  question.detect\n",
       "1381                      Who is Boston Supervisor?  question.detect\n",
       "1385                         Violet Cohen contacts?  question.detect\n",
       "1439                             Who reports to me?  question.detect"
      ]
     },
     "execution_count": 10,
     "metadata": {},
     "output_type": "execute_result"
    }
   ],
   "source": [
    "train_full[train_full['intent']=='question.detect']"
   ]
  },
  {
   "cell_type": "markdown",
   "metadata": {},
   "source": [
    "## 2. Preprocessing"
   ]
  },
  {
   "cell_type": "code",
   "execution_count": 11,
   "metadata": {},
   "outputs": [],
   "source": [
    "def transformText(text, do_stop=False, do_stem=False):\n",
    "    \n",
    "    stops = set(stopwords.words(\"english\"))\n",
    "    \n",
    "    # Convert text to lower\n",
    "    text = text.lower()\n",
    "    \n",
    "    # Removing non ASCII chars    \n",
    "    text = re.sub(r'[^\\x00-\\x7f]',r' ',text)\n",
    "    \n",
    "    # Strip multiple whitespaces\n",
    "    text = gensim.corpora.textcorpus.strip_multiple_whitespaces(text)\n",
    "    \n",
    "    # Removing all the stopwords\n",
    "    \n",
    "    if (do_stop==True):\n",
    "        filtered_words = [word for word in text.split() if word not in stops]\n",
    "    else:\n",
    "        filtered_words = [word for word in text.split()]\n",
    "\n",
    "    # Removing all the tokens with lesser than 3 characters\n",
    "    filtered_words = gensim.corpora.textcorpus.remove_short(filtered_words, minsize=3)\n",
    "    \n",
    "    # Preprocessed text after stop words removal\n",
    "    text = \" \".join(filtered_words)\n",
    "    \n",
    "    # Remove the punctuation\n",
    "    text = gensim.parsing.preprocessing.strip_punctuation2(text)\n",
    "    \n",
    "    # Strip all the numerics\n",
    "    text = gensim.parsing.preprocessing.strip_numeric(text)\n",
    "    \n",
    "    # Strip multiple whitespaces\n",
    "    text = gensim.corpora.textcorpus.strip_multiple_whitespaces(text)\n",
    "    \n",
    "    if (do_stem==True):\n",
    "        # Stemming\n",
    "        text = gensim.parsing.preprocessing.stem_text(text)\n",
    "    return text"
   ]
  },
  {
   "cell_type": "code",
   "execution_count": 12,
   "metadata": {},
   "outputs": [
    {
     "data": {
      "text/html": [
       "<div>\n",
       "<style>\n",
       "    .dataframe thead tr:only-child th {\n",
       "        text-align: right;\n",
       "    }\n",
       "\n",
       "    .dataframe thead th {\n",
       "        text-align: left;\n",
       "    }\n",
       "\n",
       "    .dataframe tbody tr th {\n",
       "        vertical-align: top;\n",
       "    }\n",
       "</style>\n",
       "<table border=\"1\" class=\"dataframe\">\n",
       "  <thead>\n",
       "    <tr style=\"text-align: right;\">\n",
       "      <th></th>\n",
       "      <th>usersays</th>\n",
       "      <th>intent</th>\n",
       "      <th>usersays_preprocessed</th>\n",
       "    </tr>\n",
       "  </thead>\n",
       "  <tbody>\n",
       "    <tr>\n",
       "      <th>1572</th>\n",
       "      <td>how to change employee email id</td>\n",
       "      <td>workerPersonalEmail.update</td>\n",
       "      <td>how chang employe email</td>\n",
       "    </tr>\n",
       "    <tr>\n",
       "      <th>1573</th>\n",
       "      <td>E agent, can you please upload this person doc...</td>\n",
       "      <td>personDocument.upload</td>\n",
       "      <td>agent can you pleas upload thi person document</td>\n",
       "    </tr>\n",
       "    <tr>\n",
       "      <th>1574</th>\n",
       "      <td>Please adjust personal phone number</td>\n",
       "      <td>personPersonalPhoneNumber.update</td>\n",
       "      <td>pleas adjust person phone number</td>\n",
       "    </tr>\n",
       "    <tr>\n",
       "      <th>1575</th>\n",
       "      <td>Changes in worker electronic mail</td>\n",
       "      <td>workerPersonalEmail.update</td>\n",
       "      <td>chang worker electron mail</td>\n",
       "    </tr>\n",
       "    <tr>\n",
       "      <th>1576</th>\n",
       "      <td>modify worker email address</td>\n",
       "      <td>workerPersonalEmail.update</td>\n",
       "      <td>modifi worker email address</td>\n",
       "    </tr>\n",
       "  </tbody>\n",
       "</table>\n",
       "</div>"
      ],
      "text/plain": [
       "                                               usersays  \\\n",
       "1572                    how to change employee email id   \n",
       "1573  E agent, can you please upload this person doc...   \n",
       "1574                Please adjust personal phone number   \n",
       "1575                  Changes in worker electronic mail   \n",
       "1576                        modify worker email address   \n",
       "\n",
       "                                intent  \\\n",
       "1572        workerPersonalEmail.update   \n",
       "1573             personDocument.upload   \n",
       "1574  personPersonalPhoneNumber.update   \n",
       "1575        workerPersonalEmail.update   \n",
       "1576        workerPersonalEmail.update   \n",
       "\n",
       "                               usersays_preprocessed  \n",
       "1572                         how chang employe email  \n",
       "1573  agent can you pleas upload thi person document  \n",
       "1574                pleas adjust person phone number  \n",
       "1575                      chang worker electron mail  \n",
       "1576                     modifi worker email address  "
      ]
     },
     "execution_count": 12,
     "metadata": {},
     "output_type": "execute_result"
    }
   ],
   "source": [
    "train_full['usersays_preprocessed']=train_full['usersays'].apply(lambda x: transformText(x,do_stop=False,do_stem=True))\n",
    "train_full.tail()"
   ]
  },
  {
   "cell_type": "code",
   "execution_count": 13,
   "metadata": {},
   "outputs": [
    {
     "data": {
      "text/html": [
       "<div>\n",
       "<style>\n",
       "    .dataframe thead tr:only-child th {\n",
       "        text-align: right;\n",
       "    }\n",
       "\n",
       "    .dataframe thead th {\n",
       "        text-align: left;\n",
       "    }\n",
       "\n",
       "    .dataframe tbody tr th {\n",
       "        vertical-align: top;\n",
       "    }\n",
       "</style>\n",
       "<table border=\"1\" class=\"dataframe\">\n",
       "  <thead>\n",
       "    <tr style=\"text-align: right;\">\n",
       "      <th></th>\n",
       "      <th>usersays</th>\n",
       "      <th>intent</th>\n",
       "      <th>usersays_preprocessed</th>\n",
       "    </tr>\n",
       "  </thead>\n",
       "  <tbody>\n",
       "    <tr>\n",
       "      <th>795</th>\n",
       "      <td>update my worker birth day</td>\n",
       "      <td>workerBirthInformation.update</td>\n",
       "      <td>updat worker birth dai</td>\n",
       "    </tr>\n",
       "    <tr>\n",
       "      <th>796</th>\n",
       "      <td>i want to change my labour birth information</td>\n",
       "      <td>workerBirthInformation.update</td>\n",
       "      <td>want chang labour birth inform</td>\n",
       "    </tr>\n",
       "    <tr>\n",
       "      <th>797</th>\n",
       "      <td>need form i9</td>\n",
       "      <td>worker.usI9Screening.section1.complete</td>\n",
       "      <td>need form</td>\n",
       "    </tr>\n",
       "    <tr>\n",
       "      <th>798</th>\n",
       "      <td>modifications required in birth information</td>\n",
       "      <td>personBirthInformation.update</td>\n",
       "      <td>modif requir birth inform</td>\n",
       "    </tr>\n",
       "    <tr>\n",
       "      <th>799</th>\n",
       "      <td>how to change labourer email id</td>\n",
       "      <td>workerPersonalEmail.update</td>\n",
       "      <td>how chang labour email</td>\n",
       "    </tr>\n",
       "  </tbody>\n",
       "</table>\n",
       "</div>"
      ],
      "text/plain": [
       "                                         usersays  \\\n",
       "795                    update my worker birth day   \n",
       "796  i want to change my labour birth information   \n",
       "797                                  need form i9   \n",
       "798   modifications required in birth information   \n",
       "799               how to change labourer email id   \n",
       "\n",
       "                                     intent           usersays_preprocessed  \n",
       "795           workerBirthInformation.update          updat worker birth dai  \n",
       "796           workerBirthInformation.update  want chang labour birth inform  \n",
       "797  worker.usI9Screening.section1.complete                       need form  \n",
       "798           personBirthInformation.update       modif requir birth inform  \n",
       "799              workerPersonalEmail.update          how chang labour email  "
      ]
     },
     "execution_count": 13,
     "metadata": {},
     "output_type": "execute_result"
    }
   ],
   "source": [
    "test['usersays_preprocessed']=test['usersays'].apply(lambda x: transformText(x,do_stop=False,do_stem=True))\n",
    "test.tail()"
   ]
  },
  {
   "cell_type": "markdown",
   "metadata": {},
   "source": [
    "## Applying handcrafted features"
   ]
  },
  {
   "cell_type": "markdown",
   "metadata": {},
   "source": [
    "### 1. NER detection"
   ]
  },
  {
   "cell_type": "code",
   "execution_count": 15,
   "metadata": {},
   "outputs": [],
   "source": [
    "spacy_en = spacy.load('en')"
   ]
  },
  {
   "cell_type": "code",
   "execution_count": 16,
   "metadata": {},
   "outputs": [],
   "source": [
    "doc = spacy_en(''.join(\"update Bruno marital status\"))"
   ]
  },
  {
   "cell_type": "code",
   "execution_count": 17,
   "metadata": {},
   "outputs": [
    {
     "data": {
      "text/plain": [
       "(Bruno,)"
      ]
     },
     "execution_count": 17,
     "metadata": {},
     "output_type": "execute_result"
    }
   ],
   "source": [
    "doc.ents"
   ]
  },
  {
   "cell_type": "code",
   "execution_count": 18,
   "metadata": {},
   "outputs": [
    {
     "name": "stdout",
     "output_type": "stream",
     "text": [
      "Bruno\n"
     ]
    }
   ],
   "source": [
    "for names in doc.ents:\n",
    "    print(names)\n",
    "    if names.label_== \"PERSON\":\n",
    "         print(\"Has person: {}\".format(names.text))"
   ]
  },
  {
   "cell_type": "code",
   "execution_count": 19,
   "metadata": {},
   "outputs": [],
   "source": [
    "def has_person(text):\n",
    "    doc = spacy_en(''.join(text))\n",
    "    person=0\n",
    "    for names in doc.ents:\n",
    "        if names.label_== \"PERSON\":\n",
    "            person = 1\n",
    "           # print(names.text)\n",
    "    return person"
   ]
  },
  {
   "cell_type": "code",
   "execution_count": 20,
   "metadata": {},
   "outputs": [
    {
     "data": {
      "text/plain": [
       "1"
      ]
     },
     "execution_count": 20,
     "metadata": {},
     "output_type": "execute_result"
    }
   ],
   "source": [
    "has_person(\"update Roberto job update e-mail\")"
   ]
  },
  {
   "cell_type": "code",
   "execution_count": 22,
   "metadata": {},
   "outputs": [
    {
     "data": {
      "text/html": [
       "<div>\n",
       "<style>\n",
       "    .dataframe thead tr:only-child th {\n",
       "        text-align: right;\n",
       "    }\n",
       "\n",
       "    .dataframe thead th {\n",
       "        text-align: left;\n",
       "    }\n",
       "\n",
       "    .dataframe tbody tr th {\n",
       "        vertical-align: top;\n",
       "    }\n",
       "</style>\n",
       "<table border=\"1\" class=\"dataframe\">\n",
       "  <thead>\n",
       "    <tr style=\"text-align: right;\">\n",
       "      <th></th>\n",
       "      <th>usersays</th>\n",
       "      <th>intent</th>\n",
       "      <th>usersays_preprocessed</th>\n",
       "      <th>has_person</th>\n",
       "    </tr>\n",
       "  </thead>\n",
       "  <tbody>\n",
       "    <tr>\n",
       "      <th>131</th>\n",
       "      <td>Bill wants to change his LGBT status</td>\n",
       "      <td>workerLGBT.update</td>\n",
       "      <td>bill want chang hi lgbt statu</td>\n",
       "      <td>1</td>\n",
       "    </tr>\n",
       "    <tr>\n",
       "      <th>146</th>\n",
       "      <td>modifications in Worker LGBT details</td>\n",
       "      <td>workerLGBT.update</td>\n",
       "      <td>modif worker lgbt detail</td>\n",
       "      <td>1</td>\n",
       "    </tr>\n",
       "    <tr>\n",
       "      <th>151</th>\n",
       "      <td>Who is Danny Ocean compensation partner?</td>\n",
       "      <td>question.detect</td>\n",
       "      <td>who danni ocean compens partner</td>\n",
       "      <td>1</td>\n",
       "    </tr>\n",
       "    <tr>\n",
       "      <th>160</th>\n",
       "      <td>modify Anthony Albright phone number</td>\n",
       "      <td>workerPersonalPhoneNumber.update</td>\n",
       "      <td>modifi anthoni albright phone number</td>\n",
       "      <td>1</td>\n",
       "    </tr>\n",
       "    <tr>\n",
       "      <th>163</th>\n",
       "      <td>What languages Danny speaks?</td>\n",
       "      <td>question.detect</td>\n",
       "      <td>what languag danni speak</td>\n",
       "      <td>1</td>\n",
       "    </tr>\n",
       "    <tr>\n",
       "      <th>222</th>\n",
       "      <td>Update Roberto phone</td>\n",
       "      <td>workerPersonalPhoneNumber.update</td>\n",
       "      <td>updat roberto phone</td>\n",
       "      <td>1</td>\n",
       "    </tr>\n",
       "    <tr>\n",
       "      <th>289</th>\n",
       "      <td>need to change my worker Marital Status</td>\n",
       "      <td>workerMaritalStatus.update</td>\n",
       "      <td>need chang worker marit statu</td>\n",
       "      <td>1</td>\n",
       "    </tr>\n",
       "    <tr>\n",
       "      <th>348</th>\n",
       "      <td>edit Bruno's phone</td>\n",
       "      <td>workerPersonalPhoneNumber.update</td>\n",
       "      <td>edit bruno s phone</td>\n",
       "      <td>1</td>\n",
       "    </tr>\n",
       "    <tr>\n",
       "      <th>355</th>\n",
       "      <td>edit Bruno's email</td>\n",
       "      <td>workerPersonalEmail.update</td>\n",
       "      <td>edit bruno s email</td>\n",
       "      <td>1</td>\n",
       "    </tr>\n",
       "    <tr>\n",
       "      <th>394</th>\n",
       "      <td>edit Bruno's e-mail</td>\n",
       "      <td>workerPersonalEmail.update</td>\n",
       "      <td>edit bruno s e mail</td>\n",
       "      <td>1</td>\n",
       "    </tr>\n",
       "  </tbody>\n",
       "</table>\n",
       "</div>"
      ],
      "text/plain": [
       "                                     usersays  \\\n",
       "131      Bill wants to change his LGBT status   \n",
       "146      modifications in Worker LGBT details   \n",
       "151  Who is Danny Ocean compensation partner?   \n",
       "160      modify Anthony Albright phone number   \n",
       "163              What languages Danny speaks?   \n",
       "222                      Update Roberto phone   \n",
       "289   need to change my worker Marital Status   \n",
       "348                        edit Bruno's phone   \n",
       "355                        edit Bruno's email   \n",
       "394                       edit Bruno's e-mail   \n",
       "\n",
       "                               intent                 usersays_preprocessed  \\\n",
       "131                 workerLGBT.update         bill want chang hi lgbt statu   \n",
       "146                 workerLGBT.update              modif worker lgbt detail   \n",
       "151                   question.detect       who danni ocean compens partner   \n",
       "160  workerPersonalPhoneNumber.update  modifi anthoni albright phone number   \n",
       "163                   question.detect              what languag danni speak   \n",
       "222  workerPersonalPhoneNumber.update                   updat roberto phone   \n",
       "289        workerMaritalStatus.update         need chang worker marit statu   \n",
       "348  workerPersonalPhoneNumber.update                    edit bruno s phone   \n",
       "355        workerPersonalEmail.update                    edit bruno s email   \n",
       "394        workerPersonalEmail.update                   edit bruno s e mail   \n",
       "\n",
       "     has_person  \n",
       "131           1  \n",
       "146           1  \n",
       "151           1  \n",
       "160           1  \n",
       "163           1  \n",
       "222           1  \n",
       "289           1  \n",
       "348           1  \n",
       "355           1  \n",
       "394           1  "
      ]
     },
     "execution_count": 22,
     "metadata": {},
     "output_type": "execute_result"
    }
   ],
   "source": [
    "train_full['has_person']=train_full['usersays'].apply(lambda x: has_person(x))\n",
    "train_full[train_full['has_person']==1][0:10]"
   ]
  },
  {
   "cell_type": "markdown",
   "metadata": {},
   "source": [
    "### 2. Question detection"
   ]
  },
  {
   "cell_type": "code",
   "execution_count": 23,
   "metadata": {},
   "outputs": [
    {
     "data": {
      "text/html": [
       "<div>\n",
       "<style>\n",
       "    .dataframe thead tr:only-child th {\n",
       "        text-align: right;\n",
       "    }\n",
       "\n",
       "    .dataframe thead th {\n",
       "        text-align: left;\n",
       "    }\n",
       "\n",
       "    .dataframe tbody tr th {\n",
       "        vertical-align: top;\n",
       "    }\n",
       "</style>\n",
       "<table border=\"1\" class=\"dataframe\">\n",
       "  <thead>\n",
       "    <tr style=\"text-align: right;\">\n",
       "      <th></th>\n",
       "      <th>usersays</th>\n",
       "      <th>intent</th>\n",
       "      <th>usersays_preprocessed</th>\n",
       "      <th>has_person</th>\n",
       "    </tr>\n",
       "  </thead>\n",
       "  <tbody>\n",
       "    <tr>\n",
       "      <th>151</th>\n",
       "      <td>Who is Danny Ocean compensation partner?</td>\n",
       "      <td>question.detect</td>\n",
       "      <td>who danni ocean compens partner</td>\n",
       "      <td>1</td>\n",
       "    </tr>\n",
       "    <tr>\n",
       "      <th>163</th>\n",
       "      <td>What languages Danny speaks?</td>\n",
       "      <td>question.detect</td>\n",
       "      <td>what languag danni speak</td>\n",
       "      <td>1</td>\n",
       "    </tr>\n",
       "    <tr>\n",
       "      <th>194</th>\n",
       "      <td>What is Teresa compensation?</td>\n",
       "      <td>question.detect</td>\n",
       "      <td>what teresa compens</td>\n",
       "      <td>0</td>\n",
       "    </tr>\n",
       "    <tr>\n",
       "      <th>227</th>\n",
       "      <td>Who is my supervisor?</td>\n",
       "      <td>question.detect</td>\n",
       "      <td>who supervisor</td>\n",
       "      <td>0</td>\n",
       "    </tr>\n",
       "    <tr>\n",
       "      <th>311</th>\n",
       "      <td>Who is New York supervisor?</td>\n",
       "      <td>question.detect</td>\n",
       "      <td>who new york supervisor</td>\n",
       "      <td>0</td>\n",
       "    </tr>\n",
       "    <tr>\n",
       "      <th>425</th>\n",
       "      <td>What's Danny's's salary?</td>\n",
       "      <td>question.detect</td>\n",
       "      <td>what s danni s s salari</td>\n",
       "      <td>1</td>\n",
       "    </tr>\n",
       "    <tr>\n",
       "      <th>536</th>\n",
       "      <td>What is Corey email?</td>\n",
       "      <td>question.detect</td>\n",
       "      <td>what corei email</td>\n",
       "      <td>1</td>\n",
       "    </tr>\n",
       "    <tr>\n",
       "      <th>593</th>\n",
       "      <td>Who is Teresa Brown HR partner?</td>\n",
       "      <td>question.detect</td>\n",
       "      <td>who teresa brown partner</td>\n",
       "      <td>1</td>\n",
       "    </tr>\n",
       "    <tr>\n",
       "      <th>603</th>\n",
       "      <td>What are the contacts of Violet?</td>\n",
       "      <td>question.detect</td>\n",
       "      <td>what ar the contact violet</td>\n",
       "      <td>0</td>\n",
       "    </tr>\n",
       "    <tr>\n",
       "      <th>642</th>\n",
       "      <td>Which languages Teresa speaks?</td>\n",
       "      <td>question.detect</td>\n",
       "      <td>which languag teresa speak</td>\n",
       "      <td>0</td>\n",
       "    </tr>\n",
       "    <tr>\n",
       "      <th>654</th>\n",
       "      <td>Who is sales VP?</td>\n",
       "      <td>question.detect</td>\n",
       "      <td>who sale vp</td>\n",
       "      <td>0</td>\n",
       "    </tr>\n",
       "    <tr>\n",
       "      <th>772</th>\n",
       "      <td>How many vacations days left I have?</td>\n",
       "      <td>question.detect</td>\n",
       "      <td>how mani vacat dai left have</td>\n",
       "      <td>0</td>\n",
       "    </tr>\n",
       "    <tr>\n",
       "      <th>775</th>\n",
       "      <td>When was last time Danny Ocean took vacation?</td>\n",
       "      <td>question.detect</td>\n",
       "      <td>when wa last time danni ocean took vacat</td>\n",
       "      <td>1</td>\n",
       "    </tr>\n",
       "    <tr>\n",
       "      <th>797</th>\n",
       "      <td>What is Anthony Albright phone number?</td>\n",
       "      <td>question.detect</td>\n",
       "      <td>what anthoni albright phone number</td>\n",
       "      <td>1</td>\n",
       "    </tr>\n",
       "    <tr>\n",
       "      <th>965</th>\n",
       "      <td>And Violet Cohen contacts?</td>\n",
       "      <td>question.detect</td>\n",
       "      <td>and violet cohen contact</td>\n",
       "      <td>1</td>\n",
       "    </tr>\n",
       "    <tr>\n",
       "      <th>1110</th>\n",
       "      <td>What are Violet Cohen contacts?</td>\n",
       "      <td>question.detect</td>\n",
       "      <td>what ar violet cohen contact</td>\n",
       "      <td>1</td>\n",
       "    </tr>\n",
       "    <tr>\n",
       "      <th>1114</th>\n",
       "      <td>Where Danny Ocean studied?</td>\n",
       "      <td>question.detect</td>\n",
       "      <td>where danni ocean studi</td>\n",
       "      <td>1</td>\n",
       "    </tr>\n",
       "    <tr>\n",
       "      <th>1156</th>\n",
       "      <td>When last last time Teresa took vacation?</td>\n",
       "      <td>question.detect</td>\n",
       "      <td>when last last time teresa took vacat</td>\n",
       "      <td>0</td>\n",
       "    </tr>\n",
       "    <tr>\n",
       "      <th>1167</th>\n",
       "      <td>Where did Teresa Brown studied?</td>\n",
       "      <td>question.detect</td>\n",
       "      <td>where did teresa brown studi</td>\n",
       "      <td>1</td>\n",
       "    </tr>\n",
       "    <tr>\n",
       "      <th>1381</th>\n",
       "      <td>Who is Boston Supervisor?</td>\n",
       "      <td>question.detect</td>\n",
       "      <td>who boston supervisor</td>\n",
       "      <td>0</td>\n",
       "    </tr>\n",
       "    <tr>\n",
       "      <th>1385</th>\n",
       "      <td>Violet Cohen contacts?</td>\n",
       "      <td>question.detect</td>\n",
       "      <td>violet cohen contact</td>\n",
       "      <td>1</td>\n",
       "    </tr>\n",
       "    <tr>\n",
       "      <th>1439</th>\n",
       "      <td>Who reports to me?</td>\n",
       "      <td>question.detect</td>\n",
       "      <td>who report me</td>\n",
       "      <td>0</td>\n",
       "    </tr>\n",
       "  </tbody>\n",
       "</table>\n",
       "</div>"
      ],
      "text/plain": [
       "                                           usersays           intent  \\\n",
       "151        Who is Danny Ocean compensation partner?  question.detect   \n",
       "163                    What languages Danny speaks?  question.detect   \n",
       "194                    What is Teresa compensation?  question.detect   \n",
       "227                           Who is my supervisor?  question.detect   \n",
       "311                     Who is New York supervisor?  question.detect   \n",
       "425                        What's Danny's's salary?  question.detect   \n",
       "536                            What is Corey email?  question.detect   \n",
       "593                 Who is Teresa Brown HR partner?  question.detect   \n",
       "603                What are the contacts of Violet?  question.detect   \n",
       "642                  Which languages Teresa speaks?  question.detect   \n",
       "654                                Who is sales VP?  question.detect   \n",
       "772            How many vacations days left I have?  question.detect   \n",
       "775   When was last time Danny Ocean took vacation?  question.detect   \n",
       "797          What is Anthony Albright phone number?  question.detect   \n",
       "965                      And Violet Cohen contacts?  question.detect   \n",
       "1110                What are Violet Cohen contacts?  question.detect   \n",
       "1114                     Where Danny Ocean studied?  question.detect   \n",
       "1156      When last last time Teresa took vacation?  question.detect   \n",
       "1167                Where did Teresa Brown studied?  question.detect   \n",
       "1381                      Who is Boston Supervisor?  question.detect   \n",
       "1385                         Violet Cohen contacts?  question.detect   \n",
       "1439                             Who reports to me?  question.detect   \n",
       "\n",
       "                         usersays_preprocessed  has_person  \n",
       "151            who danni ocean compens partner           1  \n",
       "163                   what languag danni speak           1  \n",
       "194                        what teresa compens           0  \n",
       "227                             who supervisor           0  \n",
       "311                    who new york supervisor           0  \n",
       "425                    what s danni s s salari           1  \n",
       "536                           what corei email           1  \n",
       "593                   who teresa brown partner           1  \n",
       "603                 what ar the contact violet           0  \n",
       "642                 which languag teresa speak           0  \n",
       "654                                who sale vp           0  \n",
       "772               how mani vacat dai left have           0  \n",
       "775   when wa last time danni ocean took vacat           1  \n",
       "797         what anthoni albright phone number           1  \n",
       "965                   and violet cohen contact           1  \n",
       "1110              what ar violet cohen contact           1  \n",
       "1114                   where danni ocean studi           1  \n",
       "1156     when last last time teresa took vacat           0  \n",
       "1167              where did teresa brown studi           1  \n",
       "1381                     who boston supervisor           0  \n",
       "1385                      violet cohen contact           1  \n",
       "1439                             who report me           0  "
      ]
     },
     "execution_count": 23,
     "metadata": {},
     "output_type": "execute_result"
    }
   ],
   "source": [
    "train_full[train_full['intent']=='question.detect']"
   ]
  },
  {
   "cell_type": "code",
   "execution_count": 85,
   "metadata": {},
   "outputs": [
    {
     "data": {
      "text/plain": [
       "['who', 'where', 'when', 'what', 'how', 'which']"
      ]
     },
     "execution_count": 85,
     "metadata": {},
     "output_type": "execute_result"
    }
   ],
   "source": [
    "list_question =['who','where','when','what','how','which']\n",
    "list_question"
   ]
  },
  {
   "cell_type": "code",
   "execution_count": 99,
   "metadata": {},
   "outputs": [],
   "source": [
    "msg = \"is the main supervisor? \""
   ]
  },
  {
   "cell_type": "code",
   "execution_count": 132,
   "metadata": {},
   "outputs": [
    {
     "name": "stdout",
     "output_type": "stream",
     "text": [
      "<built-in method group of _sre.SRE_Match object at 0x123389920>\n",
      "re.compile('\\\\?')\n"
     ]
    }
   ],
   "source": [
    "import re\n",
    "mo = re.search('\\?',\"Is This It Nope,??? that's fine\")\n",
    "if mo: \n",
    "    print(mo.group)\n",
    "    print(mo.re)\n",
    "else: \n",
    "    print(\"sem\")"
   ]
  },
  {
   "cell_type": "code",
   "execution_count": 133,
   "metadata": {},
   "outputs": [],
   "source": [
    "def has_question_mark(text):\n",
    "    a = re.search('\\?',text)\n",
    "    if a:\n",
    "        return 1\n",
    "    else:\n",
    "        return 0"
   ]
  },
  {
   "cell_type": "code",
   "execution_count": 101,
   "metadata": {},
   "outputs": [],
   "source": [
    "def has_question_inits(text):\n",
    "    a = any(set(list_question).intersection(text.lower().split()))\n",
    "    if a:\n",
    "        return 1\n",
    "    else:\n",
    "        return 0"
   ]
  },
  {
   "cell_type": "code",
   "execution_count": 108,
   "metadata": {},
   "outputs": [
    {
     "data": {
      "text/plain": [
       "0"
      ]
     },
     "execution_count": 108,
     "metadata": {},
     "output_type": "execute_result"
    }
   ],
   "source": [
    "has_question_inits(\"I am\")"
   ]
  },
  {
   "cell_type": "code",
   "execution_count": 140,
   "metadata": {},
   "outputs": [
    {
     "data": {
      "text/plain": [
       "1"
      ]
     },
     "execution_count": 140,
     "metadata": {},
     "output_type": "execute_result"
    }
   ],
   "source": [
    "has_question_mark(\"What this is the true value of life?\")"
   ]
  },
  {
   "cell_type": "code",
   "execution_count": 180,
   "metadata": {},
   "outputs": [
    {
     "data": {
      "text/html": [
       "<div>\n",
       "<style>\n",
       "    .dataframe thead tr:only-child th {\n",
       "        text-align: right;\n",
       "    }\n",
       "\n",
       "    .dataframe thead th {\n",
       "        text-align: left;\n",
       "    }\n",
       "\n",
       "    .dataframe tbody tr th {\n",
       "        vertical-align: top;\n",
       "    }\n",
       "</style>\n",
       "<table border=\"1\" class=\"dataframe\">\n",
       "  <thead>\n",
       "    <tr style=\"text-align: right;\">\n",
       "      <th></th>\n",
       "      <th>usersays</th>\n",
       "      <th>intent</th>\n",
       "      <th>usersays_preprocessed</th>\n",
       "      <th>has_person</th>\n",
       "      <th>has_question_init</th>\n",
       "      <th>has_question_mark</th>\n",
       "    </tr>\n",
       "  </thead>\n",
       "  <tbody>\n",
       "    <tr>\n",
       "      <th>22</th>\n",
       "      <td>I want know how to change my worker mobile num...</td>\n",
       "      <td>workerPersonalPhoneNumber.update</td>\n",
       "      <td>want know how chang worker mobil number</td>\n",
       "      <td>0</td>\n",
       "      <td>1</td>\n",
       "      <td>0</td>\n",
       "    </tr>\n",
       "    <tr>\n",
       "      <th>78</th>\n",
       "      <td>if i want to change my worker mobile number wh...</td>\n",
       "      <td>workerPersonalPhoneNumber.update</td>\n",
       "      <td>want chang worker mobil number what need</td>\n",
       "      <td>0</td>\n",
       "      <td>1</td>\n",
       "      <td>0</td>\n",
       "    </tr>\n",
       "    <tr>\n",
       "      <th>91</th>\n",
       "      <td>how to update birth information</td>\n",
       "      <td>personBirthInformation.update</td>\n",
       "      <td>how updat birth inform</td>\n",
       "      <td>0</td>\n",
       "      <td>1</td>\n",
       "      <td>0</td>\n",
       "    </tr>\n",
       "    <tr>\n",
       "      <th>93</th>\n",
       "      <td>where to update my personal email address</td>\n",
       "      <td>personPersonalEmail.update</td>\n",
       "      <td>where updat person email address</td>\n",
       "      <td>0</td>\n",
       "      <td>1</td>\n",
       "      <td>0</td>\n",
       "    </tr>\n",
       "    <tr>\n",
       "      <th>100</th>\n",
       "      <td>How to change my worker number</td>\n",
       "      <td>workerPersonalPhoneNumber.update</td>\n",
       "      <td>how chang worker number</td>\n",
       "      <td>0</td>\n",
       "      <td>1</td>\n",
       "      <td>0</td>\n",
       "    </tr>\n",
       "    <tr>\n",
       "      <th>103</th>\n",
       "      <td>What to do to change my worker new electronic ...</td>\n",
       "      <td>workerPersonalEmail.update</td>\n",
       "      <td>what chang worker new electron mail</td>\n",
       "      <td>0</td>\n",
       "      <td>1</td>\n",
       "      <td>0</td>\n",
       "    </tr>\n",
       "    <tr>\n",
       "      <th>117</th>\n",
       "      <td>How to change my personal number</td>\n",
       "      <td>personPersonalPhoneNumber.update</td>\n",
       "      <td>how chang person number</td>\n",
       "      <td>0</td>\n",
       "      <td>1</td>\n",
       "      <td>0</td>\n",
       "    </tr>\n",
       "    <tr>\n",
       "      <th>136</th>\n",
       "      <td>how to update employee number</td>\n",
       "      <td>workerPersonalPhoneNumber.update</td>\n",
       "      <td>how updat employe number</td>\n",
       "      <td>0</td>\n",
       "      <td>1</td>\n",
       "      <td>0</td>\n",
       "    </tr>\n",
       "    <tr>\n",
       "      <th>142</th>\n",
       "      <td>how to change my lobour details</td>\n",
       "      <td>workerTobaccoUsageStatus.update</td>\n",
       "      <td>how chang lobour detail</td>\n",
       "      <td>0</td>\n",
       "      <td>1</td>\n",
       "      <td>0</td>\n",
       "    </tr>\n",
       "    <tr>\n",
       "      <th>151</th>\n",
       "      <td>Who is Danny Ocean compensation partner?</td>\n",
       "      <td>question.detect</td>\n",
       "      <td>who danni ocean compens partner</td>\n",
       "      <td>1</td>\n",
       "      <td>1</td>\n",
       "      <td>1</td>\n",
       "    </tr>\n",
       "  </tbody>\n",
       "</table>\n",
       "</div>"
      ],
      "text/plain": [
       "                                              usersays  \\\n",
       "22   I want know how to change my worker mobile num...   \n",
       "78   if i want to change my worker mobile number wh...   \n",
       "91                     how to update birth information   \n",
       "93           where to update my personal email address   \n",
       "100                     How to change my worker number   \n",
       "103  What to do to change my worker new electronic ...   \n",
       "117                   How to change my personal number   \n",
       "136                      how to update employee number   \n",
       "142                    how to change my lobour details   \n",
       "151           Who is Danny Ocean compensation partner?   \n",
       "\n",
       "                               intent  \\\n",
       "22   workerPersonalPhoneNumber.update   \n",
       "78   workerPersonalPhoneNumber.update   \n",
       "91      personBirthInformation.update   \n",
       "93         personPersonalEmail.update   \n",
       "100  workerPersonalPhoneNumber.update   \n",
       "103        workerPersonalEmail.update   \n",
       "117  personPersonalPhoneNumber.update   \n",
       "136  workerPersonalPhoneNumber.update   \n",
       "142   workerTobaccoUsageStatus.update   \n",
       "151                   question.detect   \n",
       "\n",
       "                        usersays_preprocessed  has_person  has_question_init  \\\n",
       "22    want know how chang worker mobil number           0                  1   \n",
       "78   want chang worker mobil number what need           0                  1   \n",
       "91                     how updat birth inform           0                  1   \n",
       "93           where updat person email address           0                  1   \n",
       "100                   how chang worker number           0                  1   \n",
       "103       what chang worker new electron mail           0                  1   \n",
       "117                   how chang person number           0                  1   \n",
       "136                  how updat employe number           0                  1   \n",
       "142                   how chang lobour detail           0                  1   \n",
       "151           who danni ocean compens partner           1                  1   \n",
       "\n",
       "     has_question_mark  \n",
       "22                   0  \n",
       "78                   0  \n",
       "91                   0  \n",
       "93                   0  \n",
       "100                  0  \n",
       "103                  0  \n",
       "117                  0  \n",
       "136                  0  \n",
       "142                  0  \n",
       "151                  1  "
      ]
     },
     "execution_count": 180,
     "metadata": {},
     "output_type": "execute_result"
    }
   ],
   "source": [
    "train_full['has_question_init']=train_full['usersays'].apply(lambda x: has_question_inits(x))\n",
    "train_full[train_full['has_question_init']==1][0:10]"
   ]
  },
  {
   "cell_type": "code",
   "execution_count": 179,
   "metadata": {},
   "outputs": [
    {
     "data": {
      "text/html": [
       "<div>\n",
       "<style>\n",
       "    .dataframe thead tr:only-child th {\n",
       "        text-align: right;\n",
       "    }\n",
       "\n",
       "    .dataframe thead th {\n",
       "        text-align: left;\n",
       "    }\n",
       "\n",
       "    .dataframe tbody tr th {\n",
       "        vertical-align: top;\n",
       "    }\n",
       "</style>\n",
       "<table border=\"1\" class=\"dataframe\">\n",
       "  <thead>\n",
       "    <tr style=\"text-align: right;\">\n",
       "      <th></th>\n",
       "      <th>usersays</th>\n",
       "      <th>intent</th>\n",
       "      <th>usersays_preprocessed</th>\n",
       "      <th>has_person</th>\n",
       "      <th>has_question_init</th>\n",
       "      <th>has_question_mark</th>\n",
       "    </tr>\n",
       "  </thead>\n",
       "  <tbody>\n",
       "    <tr>\n",
       "      <th>151</th>\n",
       "      <td>Who is Danny Ocean compensation partner?</td>\n",
       "      <td>question.detect</td>\n",
       "      <td>who danni ocean compens partner</td>\n",
       "      <td>1</td>\n",
       "      <td>1</td>\n",
       "      <td>1</td>\n",
       "    </tr>\n",
       "    <tr>\n",
       "      <th>163</th>\n",
       "      <td>What languages Danny speaks?</td>\n",
       "      <td>question.detect</td>\n",
       "      <td>what languag danni speak</td>\n",
       "      <td>1</td>\n",
       "      <td>1</td>\n",
       "      <td>1</td>\n",
       "    </tr>\n",
       "    <tr>\n",
       "      <th>194</th>\n",
       "      <td>What is Teresa compensation?</td>\n",
       "      <td>question.detect</td>\n",
       "      <td>what teresa compens</td>\n",
       "      <td>0</td>\n",
       "      <td>1</td>\n",
       "      <td>1</td>\n",
       "    </tr>\n",
       "    <tr>\n",
       "      <th>227</th>\n",
       "      <td>Who is my supervisor?</td>\n",
       "      <td>question.detect</td>\n",
       "      <td>who supervisor</td>\n",
       "      <td>0</td>\n",
       "      <td>1</td>\n",
       "      <td>1</td>\n",
       "    </tr>\n",
       "    <tr>\n",
       "      <th>311</th>\n",
       "      <td>Who is New York supervisor?</td>\n",
       "      <td>question.detect</td>\n",
       "      <td>who new york supervisor</td>\n",
       "      <td>0</td>\n",
       "      <td>1</td>\n",
       "      <td>1</td>\n",
       "    </tr>\n",
       "    <tr>\n",
       "      <th>425</th>\n",
       "      <td>What's Danny's's salary?</td>\n",
       "      <td>question.detect</td>\n",
       "      <td>what s danni s s salari</td>\n",
       "      <td>1</td>\n",
       "      <td>0</td>\n",
       "      <td>1</td>\n",
       "    </tr>\n",
       "    <tr>\n",
       "      <th>536</th>\n",
       "      <td>What is Corey email?</td>\n",
       "      <td>question.detect</td>\n",
       "      <td>what corei email</td>\n",
       "      <td>1</td>\n",
       "      <td>1</td>\n",
       "      <td>1</td>\n",
       "    </tr>\n",
       "    <tr>\n",
       "      <th>593</th>\n",
       "      <td>Who is Teresa Brown HR partner?</td>\n",
       "      <td>question.detect</td>\n",
       "      <td>who teresa brown partner</td>\n",
       "      <td>1</td>\n",
       "      <td>1</td>\n",
       "      <td>1</td>\n",
       "    </tr>\n",
       "    <tr>\n",
       "      <th>603</th>\n",
       "      <td>What are the contacts of Violet?</td>\n",
       "      <td>question.detect</td>\n",
       "      <td>what ar the contact violet</td>\n",
       "      <td>0</td>\n",
       "      <td>1</td>\n",
       "      <td>1</td>\n",
       "    </tr>\n",
       "    <tr>\n",
       "      <th>642</th>\n",
       "      <td>Which languages Teresa speaks?</td>\n",
       "      <td>question.detect</td>\n",
       "      <td>which languag teresa speak</td>\n",
       "      <td>0</td>\n",
       "      <td>1</td>\n",
       "      <td>1</td>\n",
       "    </tr>\n",
       "  </tbody>\n",
       "</table>\n",
       "</div>"
      ],
      "text/plain": [
       "                                     usersays           intent  \\\n",
       "151  Who is Danny Ocean compensation partner?  question.detect   \n",
       "163              What languages Danny speaks?  question.detect   \n",
       "194              What is Teresa compensation?  question.detect   \n",
       "227                     Who is my supervisor?  question.detect   \n",
       "311               Who is New York supervisor?  question.detect   \n",
       "425                  What's Danny's's salary?  question.detect   \n",
       "536                      What is Corey email?  question.detect   \n",
       "593           Who is Teresa Brown HR partner?  question.detect   \n",
       "603          What are the contacts of Violet?  question.detect   \n",
       "642            Which languages Teresa speaks?  question.detect   \n",
       "\n",
       "               usersays_preprocessed  has_person  has_question_init  \\\n",
       "151  who danni ocean compens partner           1                  1   \n",
       "163         what languag danni speak           1                  1   \n",
       "194              what teresa compens           0                  1   \n",
       "227                   who supervisor           0                  1   \n",
       "311          who new york supervisor           0                  1   \n",
       "425          what s danni s s salari           1                  0   \n",
       "536                 what corei email           1                  1   \n",
       "593         who teresa brown partner           1                  1   \n",
       "603       what ar the contact violet           0                  1   \n",
       "642       which languag teresa speak           0                  1   \n",
       "\n",
       "     has_question_mark  \n",
       "151                  1  \n",
       "163                  1  \n",
       "194                  1  \n",
       "227                  1  \n",
       "311                  1  \n",
       "425                  1  \n",
       "536                  1  \n",
       "593                  1  \n",
       "603                  1  \n",
       "642                  1  "
      ]
     },
     "execution_count": 179,
     "metadata": {},
     "output_type": "execute_result"
    }
   ],
   "source": [
    "train_full['has_question_mark']=train_full['usersays'].apply(lambda x: has_question_mark(x))\n",
    "train_full[train_full['has_question_mark']==1][0:10]"
   ]
  },
  {
   "cell_type": "code",
   "execution_count": 178,
   "metadata": {},
   "outputs": [
    {
     "data": {
      "text/html": [
       "<div>\n",
       "<style>\n",
       "    .dataframe thead tr:only-child th {\n",
       "        text-align: right;\n",
       "    }\n",
       "\n",
       "    .dataframe thead th {\n",
       "        text-align: left;\n",
       "    }\n",
       "\n",
       "    .dataframe tbody tr th {\n",
       "        vertical-align: top;\n",
       "    }\n",
       "</style>\n",
       "<table border=\"1\" class=\"dataframe\">\n",
       "  <thead>\n",
       "    <tr style=\"text-align: right;\">\n",
       "      <th></th>\n",
       "      <th>usersays</th>\n",
       "      <th>intent</th>\n",
       "      <th>usersays_preprocessed</th>\n",
       "      <th>has_person</th>\n",
       "      <th>has_question_init</th>\n",
       "      <th>has_question_mark</th>\n",
       "    </tr>\n",
       "  </thead>\n",
       "  <tbody>\n",
       "    <tr>\n",
       "      <th>151</th>\n",
       "      <td>Who is Danny Ocean compensation partner?</td>\n",
       "      <td>question.detect</td>\n",
       "      <td>who danni ocean compens partner</td>\n",
       "      <td>1</td>\n",
       "      <td>1</td>\n",
       "      <td>1</td>\n",
       "    </tr>\n",
       "    <tr>\n",
       "      <th>163</th>\n",
       "      <td>What languages Danny speaks?</td>\n",
       "      <td>question.detect</td>\n",
       "      <td>what languag danni speak</td>\n",
       "      <td>1</td>\n",
       "      <td>1</td>\n",
       "      <td>1</td>\n",
       "    </tr>\n",
       "    <tr>\n",
       "      <th>194</th>\n",
       "      <td>What is Teresa compensation?</td>\n",
       "      <td>question.detect</td>\n",
       "      <td>what teresa compens</td>\n",
       "      <td>0</td>\n",
       "      <td>1</td>\n",
       "      <td>1</td>\n",
       "    </tr>\n",
       "    <tr>\n",
       "      <th>227</th>\n",
       "      <td>Who is my supervisor?</td>\n",
       "      <td>question.detect</td>\n",
       "      <td>who supervisor</td>\n",
       "      <td>0</td>\n",
       "      <td>1</td>\n",
       "      <td>1</td>\n",
       "    </tr>\n",
       "    <tr>\n",
       "      <th>311</th>\n",
       "      <td>Who is New York supervisor?</td>\n",
       "      <td>question.detect</td>\n",
       "      <td>who new york supervisor</td>\n",
       "      <td>0</td>\n",
       "      <td>1</td>\n",
       "      <td>1</td>\n",
       "    </tr>\n",
       "    <tr>\n",
       "      <th>425</th>\n",
       "      <td>What's Danny's's salary?</td>\n",
       "      <td>question.detect</td>\n",
       "      <td>what s danni s s salari</td>\n",
       "      <td>1</td>\n",
       "      <td>0</td>\n",
       "      <td>1</td>\n",
       "    </tr>\n",
       "    <tr>\n",
       "      <th>536</th>\n",
       "      <td>What is Corey email?</td>\n",
       "      <td>question.detect</td>\n",
       "      <td>what corei email</td>\n",
       "      <td>1</td>\n",
       "      <td>1</td>\n",
       "      <td>1</td>\n",
       "    </tr>\n",
       "    <tr>\n",
       "      <th>593</th>\n",
       "      <td>Who is Teresa Brown HR partner?</td>\n",
       "      <td>question.detect</td>\n",
       "      <td>who teresa brown partner</td>\n",
       "      <td>1</td>\n",
       "      <td>1</td>\n",
       "      <td>1</td>\n",
       "    </tr>\n",
       "    <tr>\n",
       "      <th>603</th>\n",
       "      <td>What are the contacts of Violet?</td>\n",
       "      <td>question.detect</td>\n",
       "      <td>what ar the contact violet</td>\n",
       "      <td>0</td>\n",
       "      <td>1</td>\n",
       "      <td>1</td>\n",
       "    </tr>\n",
       "    <tr>\n",
       "      <th>642</th>\n",
       "      <td>Which languages Teresa speaks?</td>\n",
       "      <td>question.detect</td>\n",
       "      <td>which languag teresa speak</td>\n",
       "      <td>0</td>\n",
       "      <td>1</td>\n",
       "      <td>1</td>\n",
       "    </tr>\n",
       "  </tbody>\n",
       "</table>\n",
       "</div>"
      ],
      "text/plain": [
       "                                     usersays           intent  \\\n",
       "151  Who is Danny Ocean compensation partner?  question.detect   \n",
       "163              What languages Danny speaks?  question.detect   \n",
       "194              What is Teresa compensation?  question.detect   \n",
       "227                     Who is my supervisor?  question.detect   \n",
       "311               Who is New York supervisor?  question.detect   \n",
       "425                  What's Danny's's salary?  question.detect   \n",
       "536                      What is Corey email?  question.detect   \n",
       "593           Who is Teresa Brown HR partner?  question.detect   \n",
       "603          What are the contacts of Violet?  question.detect   \n",
       "642            Which languages Teresa speaks?  question.detect   \n",
       "\n",
       "               usersays_preprocessed  has_person  has_question_init  \\\n",
       "151  who danni ocean compens partner           1                  1   \n",
       "163         what languag danni speak           1                  1   \n",
       "194              what teresa compens           0                  1   \n",
       "227                   who supervisor           0                  1   \n",
       "311          who new york supervisor           0                  1   \n",
       "425          what s danni s s salari           1                  0   \n",
       "536                 what corei email           1                  1   \n",
       "593         who teresa brown partner           1                  1   \n",
       "603       what ar the contact violet           0                  1   \n",
       "642       which languag teresa speak           0                  1   \n",
       "\n",
       "     has_question_mark  \n",
       "151                  1  \n",
       "163                  1  \n",
       "194                  1  \n",
       "227                  1  \n",
       "311                  1  \n",
       "425                  1  \n",
       "536                  1  \n",
       "593                  1  \n",
       "603                  1  \n",
       "642                  1  "
      ]
     },
     "execution_count": 178,
     "metadata": {},
     "output_type": "execute_result"
    }
   ],
   "source": [
    "train_full[train_full['intent']==\"question.detect\"][0:10]"
   ]
  },
  {
   "cell_type": "code",
   "execution_count": 177,
   "metadata": {},
   "outputs": [
    {
     "data": {
      "text/html": [
       "<div>\n",
       "<style>\n",
       "    .dataframe thead tr:only-child th {\n",
       "        text-align: right;\n",
       "    }\n",
       "\n",
       "    .dataframe thead th {\n",
       "        text-align: left;\n",
       "    }\n",
       "\n",
       "    .dataframe tbody tr th {\n",
       "        vertical-align: top;\n",
       "    }\n",
       "</style>\n",
       "<table border=\"1\" class=\"dataframe\">\n",
       "  <thead>\n",
       "    <tr style=\"text-align: right;\">\n",
       "      <th></th>\n",
       "      <th>usersays</th>\n",
       "      <th>intent</th>\n",
       "      <th>usersays_preprocessed</th>\n",
       "      <th>has_person</th>\n",
       "      <th>has_question_init</th>\n",
       "      <th>has_question_mark</th>\n",
       "    </tr>\n",
       "  </thead>\n",
       "  <tbody>\n",
       "    <tr>\n",
       "      <th>0</th>\n",
       "      <td>Help me to hold job requisition</td>\n",
       "      <td>jobRequisition.hold</td>\n",
       "      <td>help hold job requisit</td>\n",
       "      <td>0</td>\n",
       "      <td>0</td>\n",
       "      <td>0</td>\n",
       "    </tr>\n",
       "    <tr>\n",
       "      <th>1</th>\n",
       "      <td>required to update my mail</td>\n",
       "      <td>personPersonalEmail.update</td>\n",
       "      <td>requir updat mail</td>\n",
       "      <td>0</td>\n",
       "      <td>0</td>\n",
       "      <td>0</td>\n",
       "    </tr>\n",
       "    <tr>\n",
       "      <th>2</th>\n",
       "      <td>Anulate job requisition</td>\n",
       "      <td>jobRequisition.cancel</td>\n",
       "      <td>anul job requisit</td>\n",
       "      <td>0</td>\n",
       "      <td>0</td>\n",
       "      <td>0</td>\n",
       "    </tr>\n",
       "    <tr>\n",
       "      <th>3</th>\n",
       "      <td>I need to upload an person document</td>\n",
       "      <td>personDocument.upload</td>\n",
       "      <td>need upload person document</td>\n",
       "      <td>0</td>\n",
       "      <td>0</td>\n",
       "      <td>0</td>\n",
       "    </tr>\n",
       "    <tr>\n",
       "      <th>4</th>\n",
       "      <td>updates in LGBT status</td>\n",
       "      <td>personLGBT.update</td>\n",
       "      <td>updat lgbt statu</td>\n",
       "      <td>0</td>\n",
       "      <td>0</td>\n",
       "      <td>0</td>\n",
       "    </tr>\n",
       "    <tr>\n",
       "      <th>5</th>\n",
       "      <td>rem job board</td>\n",
       "      <td>jobBoard.delete</td>\n",
       "      <td>rem job board</td>\n",
       "      <td>0</td>\n",
       "      <td>0</td>\n",
       "      <td>0</td>\n",
       "    </tr>\n",
       "    <tr>\n",
       "      <th>6</th>\n",
       "      <td>Please submit job app internal</td>\n",
       "      <td>internalJobApplication.submit</td>\n",
       "      <td>pleas submit job app intern</td>\n",
       "      <td>0</td>\n",
       "      <td>0</td>\n",
       "      <td>0</td>\n",
       "    </tr>\n",
       "    <tr>\n",
       "      <th>7</th>\n",
       "      <td>change date of birth</td>\n",
       "      <td>personBirthInformation.update</td>\n",
       "      <td>chang date birth</td>\n",
       "      <td>0</td>\n",
       "      <td>0</td>\n",
       "      <td>0</td>\n",
       "    </tr>\n",
       "    <tr>\n",
       "      <th>8</th>\n",
       "      <td>Change employee LGBT status</td>\n",
       "      <td>workerLGBT.update</td>\n",
       "      <td>chang employe lgbt statu</td>\n",
       "      <td>0</td>\n",
       "      <td>0</td>\n",
       "      <td>0</td>\n",
       "    </tr>\n",
       "    <tr>\n",
       "      <th>9</th>\n",
       "      <td>just change my worker electronic mail id</td>\n",
       "      <td>workerPersonalEmail.update</td>\n",
       "      <td>just chang worker electron mail</td>\n",
       "      <td>0</td>\n",
       "      <td>0</td>\n",
       "      <td>0</td>\n",
       "    </tr>\n",
       "  </tbody>\n",
       "</table>\n",
       "</div>"
      ],
      "text/plain": [
       "                                   usersays                         intent  \\\n",
       "0           Help me to hold job requisition            jobRequisition.hold   \n",
       "1                required to update my mail     personPersonalEmail.update   \n",
       "2                   Anulate job requisition          jobRequisition.cancel   \n",
       "3       I need to upload an person document          personDocument.upload   \n",
       "4                    updates in LGBT status              personLGBT.update   \n",
       "5                             rem job board                jobBoard.delete   \n",
       "6            Please submit job app internal  internalJobApplication.submit   \n",
       "7                      change date of birth  personBirthInformation.update   \n",
       "8               Change employee LGBT status              workerLGBT.update   \n",
       "9  just change my worker electronic mail id     workerPersonalEmail.update   \n",
       "\n",
       "             usersays_preprocessed  has_person  has_question_init  \\\n",
       "0           help hold job requisit           0                  0   \n",
       "1                requir updat mail           0                  0   \n",
       "2                anul job requisit           0                  0   \n",
       "3      need upload person document           0                  0   \n",
       "4                 updat lgbt statu           0                  0   \n",
       "5                    rem job board           0                  0   \n",
       "6      pleas submit job app intern           0                  0   \n",
       "7                 chang date birth           0                  0   \n",
       "8         chang employe lgbt statu           0                  0   \n",
       "9  just chang worker electron mail           0                  0   \n",
       "\n",
       "   has_question_mark  \n",
       "0                  0  \n",
       "1                  0  \n",
       "2                  0  \n",
       "3                  0  \n",
       "4                  0  \n",
       "5                  0  \n",
       "6                  0  \n",
       "7                  0  \n",
       "8                  0  \n",
       "9                  0  "
      ]
     },
     "execution_count": 177,
     "metadata": {},
     "output_type": "execute_result"
    }
   ],
   "source": [
    "train_full[0:10]"
   ]
  },
  {
   "cell_type": "markdown",
   "metadata": {},
   "source": [
    "## Including handcradted features in the train/test split"
   ]
  },
  {
   "cell_type": "code",
   "execution_count": 144,
   "metadata": {},
   "outputs": [],
   "source": [
    "x_train, x_valid, y_train, y_valid = train_test_split(list(zip(train_full['usersays_preprocessed'],\n",
    "                                                               train_full['has_person'],\n",
    "                                                               train_full['has_question_init'],\n",
    "                                                               train_full['has_question_mark'])),\n",
    "                                                      train_full['intent'], \n",
    "                                                      test_size=0.2)"
   ]
  },
  {
   "cell_type": "code",
   "execution_count": 145,
   "metadata": {},
   "outputs": [],
   "source": [
    "x_test = np.array(test['usersays_preprocessed'])\n",
    "y_test = np.array(test['intent'])"
   ]
  },
  {
   "cell_type": "code",
   "execution_count": 176,
   "metadata": {},
   "outputs": [
    {
     "data": {
      "text/plain": [
       "[('elimin search', 0, 0, 0),\n",
       " ('need chang lobour tobacco detail', 0, 0, 0),\n",
       " ('updat marit statu', 0, 0, 0),\n",
       " ('birthdai inform', 0, 0, 0),\n",
       " ('chang employe tobacco statu', 0, 0, 0),\n",
       " ('chang tobacco indic', 0, 0, 0),\n",
       " ('set employ search', 0, 0, 0),\n",
       " ('want chang lgbt statu', 0, 0, 0),\n",
       " ('negoti for job offer evalu', 0, 0, 0),\n",
       " ('chang employe number', 0, 0, 0)]"
      ]
     },
     "execution_count": 176,
     "metadata": {},
     "output_type": "execute_result"
    }
   ],
   "source": [
    "x_train[0:10]"
   ]
  },
  {
   "cell_type": "code",
   "execution_count": 147,
   "metadata": {},
   "outputs": [
    {
     "data": {
      "text/plain": [
       "[(('elimin search', 0, 0, 0), 'jobSearch.delete'),\n",
       " (('need chang lobour tobacco detail', 0, 0, 0),\n",
       "  'workerTobaccoUsageStatus.update'),\n",
       " (('updat marit statu', 0, 0, 0), 'personMaritalStatus.update'),\n",
       " (('birthdai inform', 0, 0, 0), 'personBirthInformation.update'),\n",
       " (('chang employe tobacco statu', 0, 0, 0), 'workerTobaccoUsageStatus.update')]"
      ]
     },
     "execution_count": 147,
     "metadata": {},
     "output_type": "execute_result"
    }
   ],
   "source": [
    "train_data=list(zip(x_train,y_train))\n",
    "train_data[0:5]"
   ]
  },
  {
   "cell_type": "code",
   "execution_count": 148,
   "metadata": {},
   "outputs": [
    {
     "data": {
      "text/plain": [
       "('elimin search', 0, 0, 0)"
      ]
     },
     "execution_count": 148,
     "metadata": {},
     "output_type": "execute_result"
    }
   ],
   "source": [
    "train_data[0][0]"
   ]
  },
  {
   "cell_type": "code",
   "execution_count": 149,
   "metadata": {},
   "outputs": [
    {
     "data": {
      "text/plain": [
       "[(('updat labor email', 0, 0, 0), 'workerPersonalEmail.update'),\n",
       " (('chang tobacco indic', 0, 0, 0), 'personTobaccoUsageStatus.update'),\n",
       " (('how chang worker electron mail', 0, 1, 0), 'workerPersonalEmail.update'),\n",
       " (('modifi person gender', 0, 0, 0), 'personLGBT.update')]"
      ]
     },
     "execution_count": 149,
     "metadata": {},
     "output_type": "execute_result"
    }
   ],
   "source": [
    "valid_data=list(zip(x_valid,y_valid))\n",
    "valid_data[-5:-1]"
   ]
  },
  {
   "cell_type": "code",
   "execution_count": 169,
   "metadata": {},
   "outputs": [],
   "source": [
    "## Build Vocabulary\n",
    "word_to_ix = {}\n",
    "for (sent,_,_,_) in list(x_train) + list(x_valid):\n",
    "    for word in sent.split():\n",
    "        if word not in word_to_ix:\n",
    "            word_to_ix[word] = len(word_to_ix)"
   ]
  },
  {
   "cell_type": "code",
   "execution_count": 171,
   "metadata": {},
   "outputs": [
    {
     "data": {
      "text/plain": [
       "398"
      ]
     },
     "execution_count": 171,
     "metadata": {},
     "output_type": "execute_result"
    }
   ],
   "source": [
    "len(word_to_ix)"
   ]
  },
  {
   "cell_type": "code",
   "execution_count": 172,
   "metadata": {},
   "outputs": [],
   "source": [
    "## Build Vocabulary\n",
    "label_to_ix = {}\n",
    "for label in list(y_train)+list(y_valid)+list(y_test):\n",
    "    for word in label.split():\n",
    "        if word not in label_to_ix:\n",
    "            label_to_ix[word]=len(label_to_ix)"
   ]
  },
  {
   "cell_type": "code",
   "execution_count": 174,
   "metadata": {},
   "outputs": [
    {
     "data": {
      "text/plain": [
       "71"
      ]
     },
     "execution_count": 174,
     "metadata": {},
     "output_type": "execute_result"
    }
   ],
   "source": [
    "len(label_to_ix)"
   ]
  },
  {
   "cell_type": "code",
   "execution_count": 175,
   "metadata": {},
   "outputs": [
    {
     "data": {
      "text/plain": [
       "(398, 71)"
      ]
     },
     "execution_count": 175,
     "metadata": {},
     "output_type": "execute_result"
    }
   ],
   "source": [
    "VOCAB_SIZE = len(word_to_ix)\n",
    "NUM_LABELS = len(label_to_ix)\n",
    "VOCAB_SIZE,NUM_LABELS"
   ]
  },
  {
   "cell_type": "markdown",
   "metadata": {},
   "source": [
    "## Building  iterable datasets"
   ]
  },
  {
   "cell_type": "code",
   "execution_count": 182,
   "metadata": {},
   "outputs": [
    {
     "data": {
      "text/plain": [
       "[(('elimin search', 0, 0, 0), 'jobSearch.delete'),\n",
       " (('need chang lobour tobacco detail', 0, 0, 0),\n",
       "  'workerTobaccoUsageStatus.update'),\n",
       " (('updat marit statu', 0, 0, 0), 'personMaritalStatus.update'),\n",
       " (('birthdai inform', 0, 0, 0), 'personBirthInformation.update'),\n",
       " (('chang employe tobacco statu', 0, 0, 0), 'workerTobaccoUsageStatus.update')]"
      ]
     },
     "execution_count": 182,
     "metadata": {},
     "output_type": "execute_result"
    }
   ],
   "source": [
    "train_data=list(zip(x_train,y_train))\n",
    "train_data[0:5]"
   ]
  },
  {
   "cell_type": "code",
   "execution_count": 183,
   "metadata": {},
   "outputs": [
    {
     "data": {
      "text/plain": [
       "[(('updat labor email', 0, 0, 0), 'workerPersonalEmail.update'),\n",
       " (('chang tobacco indic', 0, 0, 0), 'personTobaccoUsageStatus.update'),\n",
       " (('how chang worker electron mail', 0, 1, 0), 'workerPersonalEmail.update'),\n",
       " (('modifi person gender', 0, 0, 0), 'personLGBT.update')]"
      ]
     },
     "execution_count": 183,
     "metadata": {},
     "output_type": "execute_result"
    }
   ],
   "source": [
    "valid_data=list(zip(x_valid,y_valid))\n",
    "valid_data[-5:-1]"
   ]
  },
  {
   "cell_type": "markdown",
   "metadata": {},
   "source": [
    "## Model 2 - BoW Classifier with Handcrafted features"
   ]
  },
  {
   "cell_type": "code",
   "execution_count": 150,
   "metadata": {},
   "outputs": [],
   "source": [
    "class BoWClassifier(nn.Module):\n",
    "    def __init__(self, num_labels, vocab_size):\n",
    "        super(BoWClassifier, self).__init__()\n",
    "        \n",
    "        ## Defining parameters for linear model\n",
    "        self.linear = nn.Linear(vocab_size, num_labels)\n",
    "    \n",
    "    def forward(self, bow_vec):\n",
    "        ## do the foward pass and implement non-linearity\n",
    "        return F.log_softmax(self.linear(bow_vec))"
   ]
  },
  {
   "cell_type": "code",
   "execution_count": 152,
   "metadata": {},
   "outputs": [],
   "source": [
    "def make_bow_vector2(sentence, feat1, feat2, feat3, word_to_ix):\n",
    "    vec = torch.zeros(len(word_to_ix))\n",
    "    for word in sentence.split():\n",
    "        if word in word_to_ix:\n",
    "            vec[word_to_ix[word]] += 1\n",
    "    sample_person = torch.from_numpy(np.array(feat1)).view(1,-1).type(torch.FloatTensor)\n",
    "    sample_quest_init = torch.from_numpy(np.array(feat2)).view(1,-1).type(torch.FloatTensor)\n",
    "    sample_quest_mark = torch.from_numpy(np.array(feat3)).view(1,-1).type(torch.FloatTensor)\n",
    "    vec=vec.view(1,-1)\n",
    "    sample = torch.cat((vec,sample_person,sample_quest_init,sample_quest_mark),dim=1)\n",
    "    return sample"
   ]
  },
  {
   "cell_type": "code",
   "execution_count": 187,
   "metadata": {},
   "outputs": [],
   "source": [
    "def make_target(label, label_to_idx):\n",
    "    return torch.LongTensor([label_to_idx[label]])"
   ]
  },
  {
   "cell_type": "code",
   "execution_count": 188,
   "metadata": {},
   "outputs": [
    {
     "data": {
      "text/plain": [
       "'pleas updat job requisit locat'"
      ]
     },
     "execution_count": 188,
     "metadata": {},
     "output_type": "execute_result"
    }
   ],
   "source": [
    "x_train[64][0]"
   ]
  },
  {
   "cell_type": "code",
   "execution_count": 189,
   "metadata": {},
   "outputs": [
    {
     "data": {
      "text/plain": [
       "\n",
       "\n",
       "Columns 0 to 12 \n",
       "    0     0     0     0     0     0     0     1     0     0     0     0     0\n",
       "\n",
       "Columns 13 to 25 \n",
       "    0     0     0     0     0     0     0     1     0     0     0     0     0\n",
       "\n",
       "Columns 26 to 38 \n",
       "    0     0     0     1     1     0     0     0     0     0     0     0     0\n",
       "\n",
       "Columns 39 to 51 \n",
       "    0     0     0     0     0     0     0     0     0     0     0     0     0\n",
       "\n",
       "Columns 52 to 64 \n",
       "    0     0     0     0     0     0     0     0     0     0     0     0     0\n",
       "\n",
       "Columns 65 to 77 \n",
       "    0     0     0     0     0     0     0     0     0     0     0     0     0\n",
       "\n",
       "Columns 78 to 90 \n",
       "    0     0     0     0     0     0     0     0     0     0     0     0     0\n",
       "\n",
       "Columns 91 to 103 \n",
       "    0     0     0     0     0     0     0     0     0     0     0     0     0\n",
       "\n",
       "Columns 104 to 116 \n",
       "    1     0     0     0     0     0     0     0     0     0     0     0     0\n",
       "\n",
       "Columns 117 to 129 \n",
       "    0     0     0     0     0     0     0     0     0     0     0     0     0\n",
       "\n",
       "Columns 130 to 142 \n",
       "    0     0     0     0     0     0     0     0     0     0     0     0     0\n",
       "\n",
       "Columns 143 to 155 \n",
       "    0     0     0     0     0     0     0     0     0     0     0     0     0\n",
       "\n",
       "Columns 156 to 168 \n",
       "    0     0     0     0     0     0     0     0     0     0     0     0     0\n",
       "\n",
       "Columns 169 to 181 \n",
       "    0     0     0     0     0     0     0     0     0     0     0     0     0\n",
       "\n",
       "Columns 182 to 194 \n",
       "    0     0     0     0     0     0     0     0     0     0     0     0     0\n",
       "\n",
       "Columns 195 to 207 \n",
       "    0     0     0     0     0     0     0     0     0     0     0     0     0\n",
       "\n",
       "Columns 208 to 220 \n",
       "    0     0     0     0     0     0     0     0     0     0     0     0     0\n",
       "\n",
       "Columns 221 to 233 \n",
       "    0     0     0     0     0     0     0     0     0     0     0     0     0\n",
       "\n",
       "Columns 234 to 246 \n",
       "    0     0     0     0     0     0     0     0     0     0     0     0     0\n",
       "\n",
       "Columns 247 to 259 \n",
       "    0     0     0     0     0     0     0     0     0     0     0     0     0\n",
       "\n",
       "Columns 260 to 272 \n",
       "    0     0     0     0     0     0     0     0     0     0     0     0     0\n",
       "\n",
       "Columns 273 to 285 \n",
       "    0     0     0     0     0     0     0     0     0     0     0     0     0\n",
       "\n",
       "Columns 286 to 298 \n",
       "    0     0     0     0     0     0     0     0     0     0     0     0     0\n",
       "\n",
       "Columns 299 to 311 \n",
       "    0     0     0     0     0     0     0     0     0     0     0     0     0\n",
       "\n",
       "Columns 312 to 324 \n",
       "    0     0     0     0     0     0     0     0     0     0     0     0     0\n",
       "\n",
       "Columns 325 to 337 \n",
       "    0     0     0     0     0     0     0     0     0     0     0     0     0\n",
       "\n",
       "Columns 338 to 350 \n",
       "    0     0     0     0     0     0     0     0     0     0     0     0     0\n",
       "\n",
       "Columns 351 to 363 \n",
       "    0     0     0     0     0     0     0     0     0     0     0     0     0\n",
       "\n",
       "Columns 364 to 376 \n",
       "    0     0     0     0     0     0     0     0     0     0     0     0     0\n",
       "\n",
       "Columns 377 to 389 \n",
       "    0     0     0     0     0     0     0     0     0     0     0     0     0\n",
       "\n",
       "Columns 390 to 400 \n",
       "    0     0     0     0     0     0     0     0     0     0     0\n",
       "[torch.FloatTensor of size 1x401]"
      ]
     },
     "execution_count": 189,
     "metadata": {},
     "output_type": "execute_result"
    }
   ],
   "source": [
    "make_bow_vector2(x_train[64][0],x_train[64][1],x_train[64][2],x_train[64][3],word_to_ix)"
   ]
  },
  {
   "cell_type": "code",
   "execution_count": 195,
   "metadata": {},
   "outputs": [
    {
     "data": {
      "text/plain": [
       "'jobRequisitionLocation.update'"
      ]
     },
     "execution_count": 195,
     "metadata": {},
     "output_type": "execute_result"
    }
   ],
   "source": [
    "train_data[64][1]"
   ]
  },
  {
   "cell_type": "code",
   "execution_count": 212,
   "metadata": {},
   "outputs": [
    {
     "name": "stdout",
     "output_type": "stream",
     "text": [
      ">> SENTENCE: make job offer revok\n",
      ">> HAS PERSON FEATURE: 0\n",
      ">> HAS QUESTION INIT FEATURE: 0\n",
      ">> HAS QUESTION MAKR FEATURE: 0\n",
      ">> CLASS: jobOffer.revoke\n",
      ">> INPUT SIZE: torch.Size([1, 401])\n",
      ">> INPUT FORMAT: <class 'torch.FloatTensor'>\n"
     ]
    }
   ],
   "source": [
    "n=654\n",
    "sample_phrase=make_bow_vector2(train_data[n][0][0],train_data[n][0][1],train_data[n][0][2],train_data[n][0][3],word_to_ix)\n",
    "print(\">> SENTENCE: {}\".format(train_data[n][0][0]))\n",
    "print(\">> HAS PERSON FEATURE: {}\".format(train_data[n][0][1]))\n",
    "print(\">> HAS QUESTION INIT FEATURE: {}\".format(train_data[n][0][2]))\n",
    "print(\">> HAS QUESTION MAKR FEATURE: {}\".format(train_data[n][0][3]))\n",
    "print(\">> CLASS: {}\".format(train_data[n][1]))\n",
    "print(\">> INPUT SIZE: {}\".format(sample_phrase.size()))\n",
    "print(\">> INPUT FORMAT: {}\".format(type(sample_phrase)))"
   ]
  },
  {
   "cell_type": "code",
   "execution_count": 213,
   "metadata": {},
   "outputs": [
    {
     "data": {
      "text/plain": [
       "BoWClassifier (\n",
       "  (linear): Linear (401 -> 71)\n",
       ")"
      ]
     },
     "execution_count": 213,
     "metadata": {},
     "output_type": "execute_result"
    }
   ],
   "source": [
    "model_bow_2 = BoWClassifier(NUM_LABELS, VOCAB_SIZE+3)\n",
    "model_bow_2"
   ]
  },
  {
   "cell_type": "code",
   "execution_count": 214,
   "metadata": {},
   "outputs": [
    {
     "data": {
      "text/plain": [
       "Variable containing:\n",
       "\n",
       "Columns 0 to 9 \n",
       "-4.3428 -4.2625 -4.2607 -4.3020 -4.3123 -4.1854 -4.3706 -4.3744 -4.2301 -4.1232\n",
       "\n",
       "Columns 10 to 19 \n",
       "-4.2645 -4.2484 -4.2259 -4.2154 -4.2763 -4.1861 -4.2879 -4.2229 -4.2693 -4.3056\n",
       "\n",
       "Columns 20 to 29 \n",
       "-4.2168 -4.4251 -4.2557 -4.3818 -4.2582 -4.2990 -4.2005 -4.2926 -4.1660 -4.3229\n",
       "\n",
       "Columns 30 to 39 \n",
       "-4.4117 -4.3395 -4.2278 -4.1930 -4.2705 -4.3051 -4.3038 -4.2107 -4.2852 -4.1809\n",
       "\n",
       "Columns 40 to 49 \n",
       "-4.3406 -4.3249 -4.3699 -4.3150 -4.1761 -4.2583 -4.1949 -4.2876 -4.2506 -4.3054\n",
       "\n",
       "Columns 50 to 59 \n",
       "-4.1668 -4.2438 -4.4089 -4.2566 -4.2047 -4.2840 -4.3219 -4.2301 -4.3007 -4.2841\n",
       "\n",
       "Columns 60 to 69 \n",
       "-4.2920 -4.2687 -4.1741 -4.2494 -4.2674 -4.1824 -4.2277 -4.2558 -4.1551 -4.2384\n",
       "\n",
       "Columns 70 to 70 \n",
       "-4.1527\n",
       "[torch.FloatTensor of size 1x71]"
      ]
     },
     "execution_count": 214,
     "metadata": {},
     "output_type": "execute_result"
    }
   ],
   "source": [
    "## simple forward to see if its working\n",
    "out=model_bow_2(Variable(sample_phrase))\n",
    "out"
   ]
  },
  {
   "cell_type": "markdown",
   "metadata": {},
   "source": [
    "## Training"
   ]
  },
  {
   "cell_type": "code",
   "execution_count": 215,
   "metadata": {},
   "outputs": [],
   "source": [
    "loss_function_2 = nn.CrossEntropyLoss()\n",
    "learning_rate = 0.01\n",
    "optimizer_2 = optim.SGD(params=model_bow_2.parameters(), lr=learning_rate)"
   ]
  },
  {
   "cell_type": "code",
   "execution_count": 216,
   "metadata": {},
   "outputs": [
    {
     "data": {
      "text/plain": [
       "[(('eval job offer', 0, 0, 0), 'jobOffer.evaluate'),\n",
       " (('chang electron mail', 0, 0, 0), 'personPersonalEmail.update'),\n",
       " (('would like chang worker electron mail', 0, 0, 0),\n",
       "  'workerPersonalEmail.update'),\n",
       " (('request chang phone number', 0, 0, 0), 'personPersonalPhoneNumber.update'),\n",
       " (('worker start smoke', 0, 0, 0), 'workerTobaccoUsageStatus.update')]"
      ]
     },
     "execution_count": 216,
     "metadata": {},
     "output_type": "execute_result"
    }
   ],
   "source": [
    "valid_data[0:5]"
   ]
  },
  {
   "cell_type": "code",
   "execution_count": 224,
   "metadata": {},
   "outputs": [
    {
     "data": {
      "text/plain": [
       "132"
      ]
     },
     "execution_count": 224,
     "metadata": {},
     "output_type": "execute_result"
    }
   ],
   "source": [
    "batch_size = 30\n",
    "n_iters = 5000000\n",
    "num_epochs = n_iters/(len(x_train))/batch_size\n",
    "num_epochs=int(num_epochs)\n",
    "num_epochs"
   ]
  },
  {
   "cell_type": "code",
   "execution_count": 228,
   "metadata": {},
   "outputs": [
    {
     "name": "stdout",
     "output_type": "stream",
     "text": [
      "Iterations: 5000. Loss: 0.3448725938796997. Accuracy: 86.70886075949367\n",
      "Iterations: 10000. Loss: 0.05238308012485504. Accuracy: 86.70886075949367\n",
      "Iterations: 15000. Loss: 0.006602008361369371. Accuracy: 86.70886075949367\n",
      "Iterations: 20000. Loss: 0.0006064579356461763. Accuracy: 86.70886075949367\n",
      "Iterations: 25000. Loss: 0.009901398792862892. Accuracy: 86.70886075949367\n",
      "Iterations: 30000. Loss: 0.035417523235082626. Accuracy: 86.70886075949367\n",
      "Iterations: 35000. Loss: 0.06232452392578125. Accuracy: 86.70886075949367\n",
      "Iterations: 40000. Loss: 0.0876854956150055. Accuracy: 86.70886075949367\n",
      "Iterations: 45000. Loss: 0.012323392555117607. Accuracy: 86.70886075949367\n",
      "Iterations: 50000. Loss: 0.005013932008296251. Accuracy: 86.70886075949367\n",
      "Iterations: 55000. Loss: 0.18863515555858612. Accuracy: 86.70886075949367\n",
      "Iterations: 60000. Loss: 0.025143731385469437. Accuracy: 86.70886075949367\n",
      "Iterations: 65000. Loss: 0.02315877377986908. Accuracy: 86.70886075949367\n",
      "Iterations: 70000. Loss: 0.014534206129610538. Accuracy: 86.70886075949367\n",
      "Iterations: 75000. Loss: 0.18516308069229126. Accuracy: 86.70886075949367\n",
      "Iterations: 80000. Loss: 0.0059020183980464935. Accuracy: 86.70886075949367\n",
      "Iterations: 85000. Loss: 0.013590403832495213. Accuracy: 86.70886075949367\n",
      "Iterations: 90000. Loss: 0.005680508445948362. Accuracy: 86.70886075949367\n",
      "Iterations: 95000. Loss: 0.0006735319038853049. Accuracy: 86.70886075949367\n",
      "Iterations: 100000. Loss: 6.750928878318518e-05. Accuracy: 86.70886075949367\n",
      "Iterations: 105000. Loss: 0.008244889788329601. Accuracy: 86.70886075949367\n",
      "Iterations: 110000. Loss: 0.02685496211051941. Accuracy: 86.70886075949367\n",
      "Iterations: 115000. Loss: 0.004714736249297857. Accuracy: 86.70886075949367\n",
      "Iterations: 120000. Loss: 0.04126124829053879. Accuracy: 86.70886075949367\n",
      "Iterations: 125000. Loss: 0.29444870352745056. Accuracy: 86.70886075949367\n",
      "Iterations: 130000. Loss: 0.006613901350647211. Accuracy: 86.70886075949367\n",
      "Iterations: 135000. Loss: 0.06658567488193512. Accuracy: 86.70886075949367\n",
      "Iterations: 140000. Loss: 0.01168044377118349. Accuracy: 86.70886075949367\n",
      "Iterations: 145000. Loss: 0.037759676575660706. Accuracy: 86.70886075949367\n",
      "Iterations: 150000. Loss: 0.0013613408664241433. Accuracy: 86.70886075949367\n",
      "Iterations: 155000. Loss: 0.11775600910186768. Accuracy: 86.70886075949367\n",
      "Iterations: 160000. Loss: 0.05257289484143257. Accuracy: 86.70886075949367\n",
      "Iterations: 165000. Loss: 0.02038528583943844. Accuracy: 86.70886075949367\n"
     ]
    }
   ],
   "source": [
    "iter = 0\n",
    "for epoch in range(num_epochs):\n",
    "    for (sent,label) in train_data:\n",
    "        # Step 1 - clear the gradients\n",
    "        model_bow_2.zero_grad()\n",
    "        optimizer_2.zero_grad()\n",
    "\n",
    "        ## Step 2- Prepare input and label\n",
    "        bow_vec = Variable(make_bow_vector2(sent[0],sent[1],sent[2],sent[3],word_to_ix))\n",
    "        target = Variable(make_target(label, label_to_ix))\n",
    "        \n",
    "        # Step 3 - Run forward pass\n",
    "        output = model_bow_2(bow_vec)\n",
    "        #print(\"Log probabilities - {}\".format(log_probs))\n",
    "        \n",
    "        # Step 4 - Compute loss, gradients, update parameters\n",
    "        loss = loss_function_2(output, target)\n",
    "        loss.backward()\n",
    "        optimizer_2.step()\n",
    "        \n",
    "        iter+=1      \n",
    "        ## Calculate final accuracy\n",
    "        if iter % 5000 ==0:\n",
    "            correct = 0\n",
    "            total = 0\n",
    "            for (sent,label) in valid_data:\n",
    "                bow_vec = Variable(make_bow_vector2(sent[0],sent[1],sent[2],sent[3],word_to_ix))\n",
    "                target = Variable(make_target(label, label_to_ix))\n",
    "                output = model_bow_2(bow_vec)\n",
    "                _,predicted = torch.max(output.data,1)\n",
    "                total += target.size(0)\n",
    "                correct += (predicted == make_target(label, label_to_ix)).sum()\n",
    "            accuracy = 100 * correct/total\n",
    "            print('Iterations: {}. Loss: {}. Accuracy: {}'.format(iter,loss.data[0],accuracy))"
   ]
  },
  {
   "cell_type": "code",
   "execution_count": 234,
   "metadata": {},
   "outputs": [
    {
     "name": "stdout",
     "output_type": "stream",
     "text": [
      "-------------------- INPUT --------------------\n",
      "SENTENCE           = is going on\n",
      "SENTENCE PROCESSED = go\n",
      "PERSON             = 0\n",
      "QUESTION INIT      = 0\n",
      "QUESTION MARK      = 0\n",
      "-------------------- PREDICTION --------------------\n",
      "PRED       = 47\n",
      "PRED LABEL = worker.usI9Screening.section1.complete\n"
     ]
    }
   ],
   "source": [
    "input_phrase = \"is going on\"\n",
    "input_phrase_preprocessed = transformText(input_phrase,do_stop=False,do_stem=True)\n",
    "person=has_person(input_phrase)\n",
    "question_init=has_question_inits(input_phrase)\n",
    "question_mark=has_question_mark(input_phrase)\n",
    "\n",
    "bow_vec = Variable(make_bow_vector2(input_phrase_preprocessed, person,question_init, question_mark, word_to_ix))\n",
    "print(\"-\"*20 + \" INPUT \"+\"-\"*20)\n",
    "print(\"SENTENCE           = {}\".format(input_phrase))\n",
    "print(\"SENTENCE PROCESSED = {}\".format(input_phrase_preprocessed))\n",
    "print(\"PERSON             = {}\".format(person))\n",
    "print(\"QUESTION INIT      = {}\".format(question_init))\n",
    "print(\"QUESTION MARK      = {}\".format(question_mark))\n",
    "\n",
    "print(\"-\"*20 + \" PREDICTION \"+\"-\"*20)\n",
    "log_probs = model_bow_2(bow_vec)\n",
    "_,predicted = torch.max(log_probs.data,1)\n",
    "pred_label=list(label_to_ix.keys())[list(label_to_ix.values()).index(predicted[0])]\n",
    "print(\"PRED       = {}\".format(predicted[0]))\n",
    "print(\"PRED LABEL = {}\".format(pred_label))"
   ]
  },
  {
   "cell_type": "code",
   "execution_count": 242,
   "metadata": {},
   "outputs": [],
   "source": [
    "def get_reply_proba_2(msg):\n",
    "    input_phrase_preprocessed = transformText(msg,do_stop=False,do_stem=True)\n",
    "    person=has_person(msg)\n",
    "    question_init=has_question_inits(msg)\n",
    "    question_mark=has_question_mark(msg)\n",
    "\n",
    "    bow_vec = Variable(make_bow_vector2(input_phrase_preprocessed, person,question_init, question_mark, word_to_ix))\n",
    "    log_probs = model_bow_2(bow_vec)\n",
    "    _,predicted = torch.max(log_probs.data,1)\n",
    "    pred_label=list(label_to_ix.keys())[list(label_to_ix.values()).index(predicted[0])]\n",
    "    ## Getting probabilities\n",
    "    probs = F.softmax(log_probs.data)\n",
    "    probs = probs.data[0].numpy()\n",
    "    probs_frame = pd.DataFrame({'probs':probs,'label':list(label_to_ix)})\n",
    "    probs_frame=probs_frame.sort_values(['probs'], ascending=False)[0:3].reset_index(drop=True)\n",
    "    return pred_label,probs_frame,person,question_init,question_mark"
   ]
  },
  {
   "cell_type": "code",
   "execution_count": 259,
   "metadata": {},
   "outputs": [
    {
     "name": "stdout",
     "output_type": "stream",
     "text": [
      "PERSON             = 0\n",
      "QUESTION INIT      = 0\n",
      "QUESTION MARK      = 0\n"
     ]
    },
    {
     "data": {
      "text/html": [
       "<div>\n",
       "<style>\n",
       "    .dataframe thead tr:only-child th {\n",
       "        text-align: right;\n",
       "    }\n",
       "\n",
       "    .dataframe thead th {\n",
       "        text-align: left;\n",
       "    }\n",
       "\n",
       "    .dataframe tbody tr th {\n",
       "        vertical-align: top;\n",
       "    }\n",
       "</style>\n",
       "<table border=\"1\" class=\"dataframe\">\n",
       "  <thead>\n",
       "    <tr style=\"text-align: right;\">\n",
       "      <th></th>\n",
       "      <th>label</th>\n",
       "      <th>probs</th>\n",
       "    </tr>\n",
       "  </thead>\n",
       "  <tbody>\n",
       "    <tr>\n",
       "      <th>0</th>\n",
       "      <td>workerPersonalEmail.update</td>\n",
       "      <td>0.994281</td>\n",
       "    </tr>\n",
       "    <tr>\n",
       "      <th>1</th>\n",
       "      <td>workerPersonalPhoneNumber.update</td>\n",
       "      <td>0.004002</td>\n",
       "    </tr>\n",
       "    <tr>\n",
       "      <th>2</th>\n",
       "      <td>personPersonalEmail.update</td>\n",
       "      <td>0.001277</td>\n",
       "    </tr>\n",
       "  </tbody>\n",
       "</table>\n",
       "</div>"
      ],
      "text/plain": [
       "                              label     probs\n",
       "0        workerPersonalEmail.update  0.994281\n",
       "1  workerPersonalPhoneNumber.update  0.004002\n",
       "2        personPersonalEmail.update  0.001277"
      ]
     },
     "execution_count": 259,
     "metadata": {},
     "output_type": "execute_result"
    }
   ],
   "source": [
    "label,probs,person,question,mark = get_reply_proba_2(\"update my worker e-mail\")\n",
    "print(\"PERSON             = {}\".format(person))\n",
    "print(\"QUESTION INIT      = {}\".format(question))\n",
    "print(\"QUESTION MARK      = {}\".format(mark))\n",
    "probs"
   ]
  },
  {
   "cell_type": "code",
   "execution_count": null,
   "metadata": {},
   "outputs": [],
   "source": []
  }
 ],
 "metadata": {
  "kernelspec": {
   "display_name": "Python 3",
   "language": "python",
   "name": "python3"
  },
  "language_info": {
   "codemirror_mode": {
    "name": "ipython",
    "version": 3
   },
   "file_extension": ".py",
   "mimetype": "text/x-python",
   "name": "python",
   "nbconvert_exporter": "python",
   "pygments_lexer": "ipython3",
   "version": "3.6.3"
  }
 },
 "nbformat": 4,
 "nbformat_minor": 2
}
